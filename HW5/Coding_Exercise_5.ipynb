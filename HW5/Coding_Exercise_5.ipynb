{
 "cells": [
  {
   "cell_type": "code",
   "execution_count": 1,
   "id": "05783fe6",
   "metadata": {
    "deletable": false,
    "editable": false
   },
   "outputs": [],
   "source": [
    "# Initialize Otter\n",
    "import otter\n",
    "grader = otter.Notebook(\"Coding_Exercise_5.ipynb\")"
   ]
  },
  {
   "cell_type": "markdown",
   "id": "a656f24c",
   "metadata": {},
   "source": [
    "# Week 5 Coding Exercise"
   ]
  },
  {
   "cell_type": "markdown",
   "id": "b9c7b7dc",
   "metadata": {
    "deletable": false,
    "editable": false
   },
   "source": [
    "### Question 1\n",
    "Parse string to get email senders in the file mbox_short.txt. Open the file mbox_short.txt in a text editor like notepad to get familiar with the text and email senders before coding.\n",
    "- The file mbox_short.txt contains email senders. Your code should read the file, go through each line to pick the email senders. Add the senders in a string and keep count of how many senders are in the file. Some example lines with possible senders are listed below:\n",
    "    - Received: from prod.collab.uhi.ac.uk ([194.35.219.182])\n",
    "    - Received: from paploo.uhi.ac.uk (localhost [127.0.0.1])\n",
    "- Both lines starts with \"Received: from\". The first line does not contain \"localhost\" so it will be considered as a sender. \n",
    "- The second line contains \"localhost\" so it will not be considered as a sender.\n",
    "- This is how you can write the code:\n",
    "    - Open the file, use a for loop to go through each line.\n",
    "    - Turn the line to lower case so your search will be case insensitive\n",
    "    - For the line that start with \"received\" and doesn't contain \"localhost\", get the part of the line after \"received: from\" as the sender. (Note: use lower case since you converted the line to be lower case) For the example above, the sender is:\n",
    "        - prod.collab.uhi.ac.uk ([194.35.219.182])\n",
    "    - Two variables have been created for you to store the information:  **total_senders** as the count of senders in the file. **senders_str** is to concatenate all the senders found seperated by a line break \"\\n\"\n",
    "    - If the line has a sender, concatenate the sender to **senders_str**. Concatenate a '\\n' at the end as well\n",
    "    - Increment **total_senders** by 1 \n",
    "    - When the loop ends, close the file and return the two variables (this is already written out for you. Don't delete it)\n",
    "- Make sure your code pass the public test cases"
   ]
  },
  {
   "cell_type": "code",
   "execution_count": 27,
   "id": "536ed00b",
   "metadata": {
    "tags": []
   },
   "outputs": [
    {
     "name": "stdout",
     "output_type": "stream",
     "text": [
      " murder (mail.umich.edu [141.211.14.90])\n",
      " murder ([unix socket])\n",
      " holes.mr.itd.umich.edu (holes.mr.itd.umich.edu [141.211.14.79])\n",
      " paploo.uhi.ac.uk (app1.prod.collab.uhi.ac.uk [194.35.219.184])\n",
      " prod.collab.uhi.ac.uk ([194.35.219.182])\n",
      " nakamura.uits.iupui.edu (nakamura.uits.iupui.edu [134.68.220.122])\n",
      " murder (mail.umich.edu [141.211.14.97])\n",
      " murder ([unix socket])\n",
      " icestorm.mr.itd.umich.edu (icestorm.mr.itd.umich.edu [141.211.93.149])\n",
      " paploo.uhi.ac.uk (app1.prod.collab.uhi.ac.uk [194.35.219.184])\n",
      " prod.collab.uhi.ac.uk ([194.35.219.182])\n",
      " nakamura.uits.iupui.edu (nakamura.uits.iupui.edu [134.68.220.122])\n",
      " murder (mail.umich.edu [141.211.14.25])\n",
      " murder ([unix socket])\n",
      " ghostbusters.mr.itd.umich.edu (ghostbusters.mr.itd.umich.edu [141.211.93.144])\n",
      " paploo.uhi.ac.uk (app1.prod.collab.uhi.ac.uk [194.35.219.184])\n",
      " prod.collab.uhi.ac.uk ([194.35.219.182])\n",
      " nakamura.uits.iupui.edu (nakamura.uits.iupui.edu [134.68.220.122])\n",
      " murder (mail.umich.edu [141.211.14.25])\n",
      " murder ([unix socket])\n",
      " dreamcatcher.mr.itd.umich.edu (dreamcatcher.mr.itd.umich.edu [141.211.14.43])\n",
      " paploo.uhi.ac.uk (app1.prod.collab.uhi.ac.uk [194.35.219.184])\n",
      " prod.collab.uhi.ac.uk ([194.35.219.182])\n",
      " nakamura.uits.iupui.edu (nakamura.uits.iupui.edu [134.68.220.122])\n",
      " murder (mail.umich.edu [141.211.14.46])\n",
      " murder ([unix socket])\n",
      " firestarter.mr.itd.umich.edu (firestarter.mr.itd.umich.edu [141.211.14.83])\n",
      " paploo.uhi.ac.uk (app1.prod.collab.uhi.ac.uk [194.35.219.184])\n",
      " prod.collab.uhi.ac.uk ([194.35.219.182])\n",
      " nakamura.uits.iupui.edu (nakamura.uits.iupui.edu [134.68.220.122])\n",
      " murder (mail.umich.edu [141.211.14.93])\n",
      " murder ([unix socket])\n",
      " eyewitness.mr.itd.umich.edu (eyewitness.mr.itd.umich.edu [141.211.93.142])\n",
      " paploo.uhi.ac.uk (app1.prod.collab.uhi.ac.uk [194.35.219.184])\n",
      " prod.collab.uhi.ac.uk ([194.35.219.182])\n",
      " nakamura.uits.iupui.edu (nakamura.uits.iupui.edu [134.68.220.122])\n",
      " murder (mail.umich.edu [141.211.14.46])\n",
      " murder ([unix socket])\n",
      " tadpole.mr.itd.umich.edu (tadpole.mr.itd.umich.edu [141.211.14.72])\n",
      " paploo.uhi.ac.uk (app1.prod.collab.uhi.ac.uk [194.35.219.184])\n",
      " prod.collab.uhi.ac.uk ([194.35.219.182])\n",
      " nakamura.uits.iupui.edu (nakamura.uits.iupui.edu [134.68.220.122])\n",
      " murder (mail.umich.edu [141.211.14.46])\n",
      " murder ([unix socket])\n",
      " it.mr.itd.umich.edu (it.mr.itd.umich.edu [141.211.93.151])\n",
      " paploo.uhi.ac.uk (app1.prod.collab.uhi.ac.uk [194.35.219.184])\n",
      " prod.collab.uhi.ac.uk ([194.35.219.182])\n",
      " nakamura.uits.iupui.edu (nakamura.uits.iupui.edu [134.68.220.122])\n",
      " murder (mail.umich.edu [141.211.14.25])\n",
      " murder ([unix socket])\n",
      " holes.mr.itd.umich.edu (holes.mr.itd.umich.edu [141.211.14.79])\n",
      " paploo.uhi.ac.uk (app1.prod.collab.uhi.ac.uk [194.35.219.184])\n",
      " prod.collab.uhi.ac.uk ([194.35.219.182])\n",
      " nakamura.uits.iupui.edu (nakamura.uits.iupui.edu [134.68.220.122])\n",
      " murder (mail.umich.edu [141.211.14.36])\n",
      " murder ([unix socket])\n",
      " creepshow.mr.itd.umich.edu (creepshow.mr.itd.umich.edu [141.211.14.84])\n",
      " paploo.uhi.ac.uk (app1.prod.collab.uhi.ac.uk [194.35.219.184])\n",
      " prod.collab.uhi.ac.uk ([194.35.219.182])\n",
      " nakamura.uits.iupui.edu (nakamura.uits.iupui.edu [134.68.220.122])\n",
      " murder (mail.umich.edu [141.211.14.97])\n",
      " murder ([unix socket])\n",
      " carrie.mr.itd.umich.edu (carrie.mr.itd.umich.edu [141.211.93.152])\n",
      " paploo.uhi.ac.uk (app1.prod.collab.uhi.ac.uk [194.35.219.184])\n",
      " prod.collab.uhi.ac.uk ([194.35.219.182])\n",
      " nakamura.uits.iupui.edu (nakamura.uits.iupui.edu [134.68.220.122])\n",
      " murder (mail.umich.edu [141.211.14.39])\n",
      " murder ([unix socket])\n",
      " holes.mr.itd.umich.edu (holes.mr.itd.umich.edu [141.211.14.79])\n",
      " paploo.uhi.ac.uk (app1.prod.collab.uhi.ac.uk [194.35.219.184])\n",
      " prod.collab.uhi.ac.uk ([194.35.219.182])\n",
      " nakamura.uits.iupui.edu (nakamura.uits.iupui.edu [134.68.220.122])\n",
      " murder (mail.umich.edu [141.211.14.90])\n",
      " murder ([unix socket])\n",
      " shining.mr.itd.umich.edu (shining.mr.itd.umich.edu [141.211.93.153])\n",
      " paploo.uhi.ac.uk (app1.prod.collab.uhi.ac.uk [194.35.219.184])\n",
      " prod.collab.uhi.ac.uk ([194.35.219.182])\n",
      " nakamura.uits.iupui.edu (nakamura.uits.iupui.edu [134.68.220.122])\n",
      " murder (mail.umich.edu [141.211.14.97])\n",
      " murder ([unix socket])\n",
      " creepshow.mr.itd.umich.edu (creepshow.mr.itd.umich.edu [141.211.14.84])\n",
      " paploo.uhi.ac.uk (app1.prod.collab.uhi.ac.uk [194.35.219.184])\n",
      " prod.collab.uhi.ac.uk ([194.35.219.182])\n",
      " nakamura.uits.iupui.edu (nakamura.uits.iupui.edu [134.68.220.122])\n",
      " murder (mail.umich.edu [141.211.14.25])\n",
      " murder ([unix socket])\n",
      " holes.mr.itd.umich.edu (holes.mr.itd.umich.edu [141.211.14.79])\n",
      " paploo.uhi.ac.uk (app1.prod.collab.uhi.ac.uk [194.35.219.184])\n",
      " prod.collab.uhi.ac.uk ([194.35.219.182])\n",
      " nakamura.uits.iupui.edu (nakamura.uits.iupui.edu [134.68.220.122])\n",
      " murder (mail.umich.edu [141.211.14.90])\n",
      " murder ([unix socket])\n",
      " guys.mr.itd.umich.edu (guys.mr.itd.umich.edu [141.211.14.76])\n",
      " paploo.uhi.ac.uk (app1.prod.collab.uhi.ac.uk [194.35.219.184])\n",
      " prod.collab.uhi.ac.uk ([194.35.219.182])\n",
      " nakamura.uits.iupui.edu (nakamura.uits.iupui.edu [134.68.220.122])\n",
      " murder (mail.umich.edu [141.211.14.39])\n",
      " murder ([unix socket])\n",
      " guys.mr.itd.umich.edu (guys.mr.itd.umich.edu [141.211.14.76])\n",
      " paploo.uhi.ac.uk (app1.prod.collab.uhi.ac.uk [194.35.219.184])\n",
      " prod.collab.uhi.ac.uk ([194.35.219.182])\n",
      " nakamura.uits.iupui.edu (nakamura.uits.iupui.edu [134.68.220.122])\n",
      " murder (mail.umich.edu [141.211.14.98])\n",
      " murder ([unix socket])\n",
      " firestarter.mr.itd.umich.edu (firestarter.mr.itd.umich.edu [141.211.14.83])\n",
      " paploo.uhi.ac.uk (app1.prod.collab.uhi.ac.uk [194.35.219.184])\n",
      " prod.collab.uhi.ac.uk ([194.35.219.182])\n",
      " nakamura.uits.iupui.edu (nakamura.uits.iupui.edu [134.68.220.122])\n",
      " murder (mail.umich.edu [141.211.14.92])\n",
      " murder ([unix socket])\n",
      " galaxyquest.mr.itd.umich.edu (galaxyquest.mr.itd.umich.edu [141.211.93.145])\n",
      " paploo.uhi.ac.uk (app1.prod.collab.uhi.ac.uk [194.35.219.184])\n",
      " prod.collab.uhi.ac.uk ([194.35.219.182])\n",
      " nakamura.uits.iupui.edu (nakamura.uits.iupui.edu [134.68.220.122])\n",
      " murder (mail.umich.edu [141.211.14.46])\n",
      " murder ([unix socket])\n",
      " workinggirl.mr.itd.umich.edu (workinggirl.mr.itd.umich.edu [141.211.93.143])\n",
      " paploo.uhi.ac.uk (app1.prod.collab.uhi.ac.uk [194.35.219.184])\n",
      " prod.collab.uhi.ac.uk ([194.35.219.182])\n",
      " nakamura.uits.iupui.edu (nakamura.uits.iupui.edu [134.68.220.122])\n",
      " murder (mail.umich.edu [141.211.14.25])\n",
      " murder ([unix socket])\n",
      " salemslot.mr.itd.umich.edu (salemslot.mr.itd.umich.edu [141.211.14.58])\n",
      " paploo.uhi.ac.uk (app1.prod.collab.uhi.ac.uk [194.35.219.184])\n",
      " prod.collab.uhi.ac.uk ([194.35.219.182])\n",
      " nakamura.uits.iupui.edu (nakamura.uits.iupui.edu [134.68.220.122])\n",
      " murder (mail.umich.edu [141.211.14.91])\n",
      " murder ([unix socket])\n",
      " eyewitness.mr.itd.umich.edu (eyewitness.mr.itd.umich.edu [141.211.93.142])\n",
      " paploo.uhi.ac.uk (app1.prod.collab.uhi.ac.uk [194.35.219.184])\n",
      " prod.collab.uhi.ac.uk ([194.35.219.182])\n",
      " nakamura.uits.iupui.edu (nakamura.uits.iupui.edu [134.68.220.122])\n",
      " murder (mail.umich.edu [141.211.14.91])\n",
      " murder ([unix socket])\n",
      " salemslot.mr.itd.umich.edu (salemslot.mr.itd.umich.edu [141.211.14.58])\n",
      " paploo.uhi.ac.uk (app1.prod.collab.uhi.ac.uk [194.35.219.184])\n",
      " prod.collab.uhi.ac.uk ([194.35.219.182])\n",
      " nakamura.uits.iupui.edu (nakamura.uits.iupui.edu [134.68.220.122])\n",
      " murder (mail.umich.edu [141.211.14.39])\n",
      " murder ([unix socket])\n",
      " anniehall.mr.itd.umich.edu (anniehall.mr.itd.umich.edu [141.211.93.141])\n",
      " paploo.uhi.ac.uk (app1.prod.collab.uhi.ac.uk [194.35.219.184])\n",
      " prod.collab.uhi.ac.uk ([194.35.219.182])\n",
      " nakamura.uits.iupui.edu (nakamura.uits.iupui.edu [134.68.220.122])\n",
      " murder (mail.umich.edu [141.211.14.34])\n",
      " murder ([unix socket])\n",
      " icestorm.mr.itd.umich.edu (icestorm.mr.itd.umich.edu [141.211.93.149])\n",
      " paploo.uhi.ac.uk (app1.prod.collab.uhi.ac.uk [194.35.219.184])\n",
      " prod.collab.uhi.ac.uk ([194.35.219.182])\n",
      " nakamura.uits.iupui.edu (nakamura.uits.iupui.edu [134.68.220.122])\n",
      " murder (mail.umich.edu [141.211.14.46])\n",
      " murder ([unix socket])\n",
      " galaxyquest.mr.itd.umich.edu (galaxyquest.mr.itd.umich.edu [141.211.93.145])\n",
      " paploo.uhi.ac.uk (app1.prod.collab.uhi.ac.uk [194.35.219.184])\n",
      " prod.collab.uhi.ac.uk ([194.35.219.182])\n",
      " nakamura.uits.iupui.edu (nakamura.uits.iupui.edu [134.68.220.122])\n",
      " murder (mail.umich.edu [141.211.14.91])\n",
      " murder ([unix socket])\n",
      " salemslot.mr.itd.umich.edu (salemslot.mr.itd.umich.edu [141.211.14.58])\n",
      " paploo.uhi.ac.uk (app1.prod.collab.uhi.ac.uk [194.35.219.184])\n",
      " prod.collab.uhi.ac.uk ([194.35.219.182])\n",
      " nakamura.uits.iupui.edu (nakamura.uits.iupui.edu [134.68.220.122])\n",
      "\n"
     ]
    }
   ],
   "source": [
    "...\n",
    "### don't remove anything. Just add code to where noted\n",
    "def get_senders():\n",
    "    total_senders = 0\n",
    "    senders_str = ''\n",
    "    ### Your code starts (you need to start with function definition)\n",
    "    file = open('mbox_short.txt')\n",
    "    for line in file:\n",
    "        line = line.lower().strip()\n",
    "        if line.startswith(\"received: from\") and 'localhost' not in line:\n",
    "            total_senders += 1\n",
    "            senders_str += line[len(\"received: from\"):] + '\\n'\n",
    "    file.close()\n",
    "    ### Your code ends (don't forget to return your calculation. Don't print it out)\n",
    "    return total_senders, senders_str\n",
    "print(get_senders()[1])\n",
    "# You can uncomment the lines below to check your return values but you should comment out the code before submission\n",
    "# print(get_senders()[0])\n",
    "# print(get_senders()[1])"
   ]
  },
  {
   "cell_type": "code",
   "execution_count": 28,
   "id": "751bdc35",
   "metadata": {
    "deletable": false,
    "editable": false
   },
   "outputs": [
    {
     "data": {
      "text/html": [
       "<p><strong><pre style='display: inline;'>q1</pre></strong> passed! 🌈</p><p><strong><pre style='display: inline;'>q1 - 1</pre> message:</strong> passed</p><p><strong><pre style='display: inline;'>q1 - 2</pre> message:</strong> passed</p><p><strong><pre style='display: inline;'>q1 - 3</pre> message:</strong> passed</p>"
      ],
      "text/plain": [
       "q1 results: All test cases passed!\n",
       "q1 - 1 message: passed\n",
       "q1 - 2 message: passed\n",
       "q1 - 3 message: passed"
      ]
     },
     "execution_count": 28,
     "metadata": {},
     "output_type": "execute_result"
    }
   ],
   "source": [
    "grader.check(\"q1\")"
   ]
  },
  {
   "cell_type": "markdown",
   "id": "79475b6a",
   "metadata": {
    "deletable": false,
    "editable": false
   },
   "source": [
    "### Question 2\n",
    "Parse string to get dates in the file mbox_short.txt. Open the file mbox_short.txt in a text editor like notepad to get familiar with the text and datetime before coding.\n",
    "- The file mbox_short.txt contains dates. Your code should read the file, go through each line to pick the dates including the times. Add the dates and times in a string and keep count of how many dates are in the file. Two example lines with dates are provided below:\n",
    "    - Date: Fri, 4 Jan 2008 16:09:02 -0500\n",
    "    - Date: 2008-01-04 15:01:37 -0500 (Fri, 04 Jan 2008)\n",
    "- Two variables have been created for you to store the information:  **total_datetime** as the count of dates in the file. **datetime_str** is to concatenate all the dates found seperated by a line break \"\\n\"\n",
    "- Here is how can can implement the code:\n",
    "    - Open the file, use a for loop to go through each line.\n",
    "    - Turn the line to lower case so your search will be case insensitive\n",
    "    - For the line that starts with \"date:\", get the part of the line after \"date: \". Use strptime() and a proper format string to convert the string to a datetime object (Note: use lower case since you converted the line to be lower case). There are 2 types of datetime formats in the file as can be seen in the two examples above. Different format strings are need for the two types.\n",
    "        1. Fri, 4 Jan 2008 16:09:02\n",
    "        1. 2008-01-04 15:01:37\n",
    "    - Use strftime to get a string representation of the date in the format of yyyy-mm-dd hours:minutes:seconds. Then concatenate the string to **datetime_str**. Concatenate a '\\n' at the end as well. The final format of the datetime should all be:\n",
    "    - 2008-01-04 16:09:02\n",
    "    - Increment **total_datetime** by 1 \n",
    "    - When the loop ends, close the file and return the two variables (this is already written out for you. Don't delete it)\n",
    "- Make sure your code pass the public test cases"
   ]
  },
  {
   "cell_type": "code",
   "execution_count": 46,
   "id": "0181da08",
   "metadata": {
    "tags": []
   },
   "outputs": [],
   "source": [
    "...\n",
    "### don't remove anything. Just add code to where noted\n",
    "from datetime import datetime\n",
    "def get_datetime():\n",
    "    total_datetime = 0\n",
    "    datetime_str = ''\n",
    "    ### Your code starts\n",
    "    with open('mbox_short.txt') as file:\n",
    "        for line in file:\n",
    "            line = line.strip()\n",
    "            if line.lower().startswith(\"date: \"):\n",
    "                date_str = line[6:]\n",
    "                if '(' in date_str:\n",
    "                    date_str = date_str.split('(', 1)[0].strip()\n",
    "                if date_str.endswith('-0500') or date_str.endswith('+0000'):\n",
    "                    date_str = date_str[:-6].strip()\n",
    "                try:\n",
    "                    date_obj = datetime.strptime(date_str, \"%a, %d %b %Y %H:%M:%S\")\n",
    "                except ValueError:\n",
    "                    try:\n",
    "                        date_obj = datetime.strptime(date_str, \"%Y-%m-%d %H:%M:%S\")\n",
    "                    except ValueError:\n",
    "                        continue\n",
    "                formatted_date = date_obj.strftime(\"%Y-%m-%d %H:%M:%S\")\n",
    "                datetime_str += formatted_date + '\\n'\n",
    "                total_datetime += 1\n",
    "    ### Your code ends\n",
    "    return total_datetime, datetime_str \n",
    "# You can uncomment the lines below to check your return values but you should comment out the code before submission\n",
    "# print(get_datetime()[0])\n",
    "# print(get_datetime()[1])"
   ]
  },
  {
   "cell_type": "code",
   "execution_count": 47,
   "id": "22449e63",
   "metadata": {
    "deletable": false,
    "editable": false
   },
   "outputs": [
    {
     "data": {
      "text/html": [
       "<p><strong><pre style='display: inline;'>q2</pre></strong> passed! 🌈</p><p><strong><pre style='display: inline;'>q2 - 1</pre> message:</strong> correct</p><p><strong><pre style='display: inline;'>q2 - 2</pre> message:</strong> correct</p><p><strong><pre style='display: inline;'>q2 - 3</pre> message:</strong> correct</p>"
      ],
      "text/plain": [
       "q2 results: All test cases passed!\n",
       "q2 - 1 message: correct\n",
       "q2 - 2 message: correct\n",
       "q2 - 3 message: correct"
      ]
     },
     "execution_count": 47,
     "metadata": {},
     "output_type": "execute_result"
    }
   ],
   "source": [
    "grader.check(\"q2\")"
   ]
  },
  {
   "cell_type": "markdown",
   "id": "e06980ec",
   "metadata": {
    "deletable": false,
    "editable": false
   },
   "source": [
    "## Submission\n",
    "\n",
    "Make sure you have run all cells in your notebook in order before running the cell below, so that all images/graphs appear in the output. The cell below will generate a zip file for you to submit. **Please save before exporting!**\n",
    "\n",
    "Double check that the file mbox_short.txt is in the same folder as the notebook and the file is exactly as is"
   ]
  },
  {
   "cell_type": "code",
   "execution_count": 48,
   "id": "b50116c6",
   "metadata": {
    "deletable": false,
    "editable": false
   },
   "outputs": [
    {
     "name": "stdout",
     "output_type": "stream",
     "text": [
      "Running your submission against local test cases...\n",
      "\n",
      "\n",
      "Your submission received the following results when run against available test cases:\n",
      "\n",
      "    q1 results: All test cases passed!\n",
      "    q1 - 1 message: passed\n",
      "    q1 - 2 message: passed\n",
      "    q1 - 3 message: passed\n",
      "\n",
      "    q2 results: All test cases passed!\n",
      "    q2 - 1 message: correct\n",
      "    q2 - 2 message: correct\n",
      "    q2 - 3 message: correct\n"
     ]
    },
    {
     "data": {
      "text/html": [
       "\n",
       "                    <p>\n",
       "                        Your submission has been exported. Click\n",
       "                        <a href=\"Coding_Exercise_5_2024_09_27T18_00_49_558005.zip\" download=\"Coding_Exercise_5_2024_09_27T18_00_49_558005.zip\" target=\"_blank\">here</a> to download\n",
       "                        the zip file.\n",
       "                    </p>\n",
       "                "
      ],
      "text/plain": [
       "<IPython.core.display.HTML object>"
      ]
     },
     "metadata": {},
     "output_type": "display_data"
    }
   ],
   "source": [
    "# Save your notebook first, then run this cell to export your submission.\n",
    "grader.export(pdf=False, run_tests=True)"
   ]
  },
  {
   "cell_type": "markdown",
   "id": "10060d94",
   "metadata": {},
   "source": [
    " "
   ]
  }
 ],
 "metadata": {
  "kernelspec": {
   "display_name": "Python 3 (ipykernel)",
   "language": "python",
   "name": "python3"
  },
  "language_info": {
   "codemirror_mode": {
    "name": "ipython",
    "version": 3
   },
   "file_extension": ".py",
   "mimetype": "text/x-python",
   "name": "python",
   "nbconvert_exporter": "python",
   "pygments_lexer": "ipython3",
   "version": "3.12.2"
  },
  "otter": {
   "OK_FORMAT": true,
   "tests": {
    "q1": {
     "name": "q1",
     "points": 50,
     "suites": [
      {
       "cases": [
        {
         "code": ">>> with open('mbox_short.txt', 'r') as f:\n...     line = f.readline()\n>>> assert len(line) > 0\n",
         "failure_message": "Is mbox_short.txt file in the same folder? Is the file name correct? Have you closed the file in your code?",
         "hidden": false,
         "locked": false,
         "points": 5,
         "success_message": "passed"
        },
        {
         "code": ">>> assert get_senders()[0] > 0\n",
         "failure_message": "The total number of senders should be more than 0",
         "hidden": false,
         "locked": false,
         "points": 5,
         "success_message": "passed"
        },
        {
         "code": ">>> assert get_senders()[1] != ''\n",
         "failure_message": "The senders_str should not be an empty string",
         "hidden": false,
         "locked": false,
         "points": 5,
         "success_message": "passed"
        }
       ],
       "scored": true,
       "setup": "",
       "teardown": "",
       "type": "doctest"
      }
     ]
    },
    "q2": {
     "name": "q2",
     "points": 50,
     "suites": [
      {
       "cases": [
        {
         "code": ">>> with open('mbox_short.txt', 'r') as f:\n...     line = f.readline()\n>>> assert len(line) > 0\n",
         "failure_message": "Is your mbox_short.txt file in the same folder? Is the file name correct? Have you closed the file in your code?",
         "hidden": false,
         "locked": false,
         "points": 5,
         "success_message": "correct"
        },
        {
         "code": ">>> assert get_datetime()[0] > 0\n",
         "failure_message": "The total number of dates should be more than 0",
         "hidden": false,
         "locked": false,
         "points": 5,
         "success_message": "correct"
        },
        {
         "code": ">>> assert get_datetime()[1] != ''\n",
         "failure_message": "The datetime_str should not be an empty string",
         "hidden": false,
         "locked": false,
         "points": 5,
         "success_message": "correct"
        }
       ],
       "scored": true,
       "setup": "",
       "teardown": "",
       "type": "doctest"
      }
     ]
    }
   }
  }
 },
 "nbformat": 4,
 "nbformat_minor": 5
}
