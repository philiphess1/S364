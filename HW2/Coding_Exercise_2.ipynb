{
 "cells": [
  {
   "cell_type": "code",
   "execution_count": 1,
   "id": "919df566",
   "metadata": {
    "deletable": false,
    "editable": false
   },
   "outputs": [],
   "source": [
    "# Initialize Otter\n",
    "import otter\n",
    "grader = otter.Notebook(\"Coding_Exercise_2.ipynb\")"
   ]
  },
  {
   "cell_type": "markdown",
   "id": "a656f24c",
   "metadata": {},
   "source": [
    "# Conditional Statement Now You Try"
   ]
  },
  {
   "cell_type": "markdown",
   "id": "b9c7b7dc",
   "metadata": {
    "deletable": false,
    "editable": false
   },
   "source": [
    "Write a if statement in the following cell. Check the variable **time**:\n",
    "- if time is less than 18, set variable **str_inside** to 'Good day!'.\n",
    "- on the next code line concatenate (+) 'Several more hours to go'\n",
    "- Otherwise time is not less than 18, set variable **str_inside** to 'Good evening!'. \n",
    "- on the next code line concatenate (+) 'Relax now'\n",
    "- set variable **str_outside** to \"Goodbye!\" no matter what time it is.\n",
    "\n",
    "*Be careful to set the strings with correct spelling and case as indicated in the instruction above to pass the test cases*"
   ]
  },
  {
   "cell_type": "code",
   "execution_count": 2,
   "id": "536ed00b",
   "metadata": {
    "tags": []
   },
   "outputs": [],
   "source": [
    "...\n",
    "### don't remove anything. Just add code to where noted\n",
    "def check_time(time):\n",
    "    str_inside = ''\n",
    "    str_outside = ''\n",
    "    ### Your code starts\n",
    "    if time < 18:\n",
    "        str_inside = \"Good day!\"\n",
    "        str_inside = str_inside + \" Several more hours to go\"\n",
    "    else:\n",
    "        str_inside = \"Good evening!\"\n",
    "        str_inside = str_inside + \" Relax now\"\n",
    "    \n",
    "    str_outside = \"Goodbye!\"\n",
    "    \n",
    "    \n",
    "    ### Your code ends\n",
    "    return str_inside, str_outside"
   ]
  },
  {
   "cell_type": "code",
   "execution_count": 3,
   "id": "f3339480",
   "metadata": {
    "deletable": false,
    "editable": false
   },
   "outputs": [
    {
     "data": {
      "text/html": [
       "<p><strong><pre style='display: inline;'>q1</pre></strong> passed! 💯</p><p><strong><pre style='display: inline;'>q1 - 1</pre> message:</strong> passed</p><p><strong><pre style='display: inline;'>q1 - 2</pre> message:</strong> passed</p><p><strong><pre style='display: inline;'>q1 - 3</pre> message:</strong> passed</p><p><strong><pre style='display: inline;'>q1 - 4</pre> message:</strong> passed</p><p><strong><pre style='display: inline;'>q1 - 5</pre> message:</strong> passed</p><p><strong><pre style='display: inline;'>q1 - 6</pre> message:</strong> passed</p>"
      ],
      "text/plain": [
       "q1 results: All test cases passed!\n",
       "q1 - 1 message: passed\n",
       "q1 - 2 message: passed\n",
       "q1 - 3 message: passed\n",
       "q1 - 4 message: passed\n",
       "q1 - 5 message: passed\n",
       "q1 - 6 message: passed"
      ]
     },
     "execution_count": 3,
     "metadata": {},
     "output_type": "execute_result"
    }
   ],
   "source": [
    "grader.check(\"q1\")"
   ]
  },
  {
   "cell_type": "markdown",
   "id": "79475b6a",
   "metadata": {
    "deletable": false,
    "editable": false
   },
   "source": [
    "Write a if statement in the following cell, convert the variable **score** to letter grade:\n",
    "- If score is not less than 90, set variable **letter_grade** to be “A”\n",
    "- Otherwise, if score is not less than 80, set variable **letter_grade** to be “B”\n",
    "- Otherwise, if not less than 70, set variable **letter_grade** to be “C”\n",
    "- Otherwise, if not less than 60, set variable **letter_grade** to be “D\"\n",
    "- Otherwise, set variable **letter_grade** to be “F”"
   ]
  },
  {
   "cell_type": "code",
   "execution_count": 4,
   "id": "0181da08",
   "metadata": {
    "tags": []
   },
   "outputs": [],
   "source": [
    "...\n",
    "### don't remove anything. Just add code to where noted\n",
    "def get_letter_grade(score):\n",
    "    letter_grade = ''\n",
    "    ### Your code starts\n",
    "    if score >= 90:\n",
    "        letter_grade = 'A'\n",
    "    elif score >= 80:\n",
    "        letter_grade = 'B'\n",
    "    elif score >= 70:\n",
    "        letter_grade = 'C'\n",
    "    elif score >= 60:\n",
    "        letter_grade = 'D'\n",
    "    else:\n",
    "        letter_grade = 'F'\n",
    "    \n",
    "    \n",
    "    ### Your code ends\n",
    "    return letter_grade"
   ]
  },
  {
   "cell_type": "code",
   "execution_count": 5,
   "id": "b7e39ccc",
   "metadata": {
    "deletable": false,
    "editable": false
   },
   "outputs": [
    {
     "data": {
      "text/html": [
       "<p><strong><pre style='display: inline;'>q2</pre></strong> passed! 🎉</p><p><strong><pre style='display: inline;'>q2 - 1</pre> message:</strong> correct result for score greater than 90</p><p><strong><pre style='display: inline;'>q2 - 2</pre> message:</strong> correct result for score 90</p><p><strong><pre style='display: inline;'>q2 - 3</pre> message:</strong> correct result for score greater than 80 and less than 90</p><p><strong><pre style='display: inline;'>q2 - 4</pre> message:</strong> correct result for score greater than 70 and less than 80</p><p><strong><pre style='display: inline;'>q2 - 5</pre> message:</strong> correct result for score greater than 60 and less than 70</p><p><strong><pre style='display: inline;'>q2 - 6</pre> message:</strong> correct result for score less than 60</p>"
      ],
      "text/plain": [
       "q2 results: All test cases passed!\n",
       "q2 - 1 message: correct result for score greater than 90\n",
       "q2 - 2 message: correct result for score 90\n",
       "q2 - 3 message: correct result for score greater than 80 and less than 90\n",
       "q2 - 4 message: correct result for score greater than 70 and less than 80\n",
       "q2 - 5 message: correct result for score greater than 60 and less than 70\n",
       "q2 - 6 message: correct result for score less than 60"
      ]
     },
     "execution_count": 5,
     "metadata": {},
     "output_type": "execute_result"
    }
   ],
   "source": [
    "grader.check(\"q2\")"
   ]
  },
  {
   "cell_type": "markdown",
   "id": "60032ebc",
   "metadata": {
    "deletable": false,
    "editable": false
   },
   "source": [
    "## Submission\n",
    "\n",
    "Make sure you have run all cells in your notebook in order before running the cell below, so that all images/graphs appear in the output. The cell below will generate a zip file for you to submit. **Please save before exporting!**\n",
    "\n",
    "These are some submission instructions."
   ]
  },
  {
   "cell_type": "code",
   "execution_count": 6,
   "id": "94c200a4",
   "metadata": {
    "deletable": false,
    "editable": false
   },
   "outputs": [
    {
     "name": "stdout",
     "output_type": "stream",
     "text": [
      "Running your submission against local test cases...\n",
      "\n",
      "\n",
      "Your submission received the following results when run against available test cases:\n",
      "\n",
      "    q1 results: All test cases passed!\n",
      "    q1 - 1 message: passed\n",
      "    q1 - 2 message: passed\n",
      "    q1 - 3 message: passed\n",
      "    q1 - 4 message: passed\n",
      "    q1 - 5 message: passed\n",
      "    q1 - 6 message: passed\n",
      "\n",
      "    q2 results: All test cases passed!\n",
      "    q2 - 1 message: correct result for score greater than 90\n",
      "    q2 - 2 message: correct result for score 90\n",
      "    q2 - 3 message: correct result for score greater than 80 and less than 90\n",
      "    q2 - 4 message: correct result for score greater than 70 and less than 80\n",
      "    q2 - 5 message: correct result for score greater than 60 and less than 70\n",
      "    q2 - 6 message: correct result for score less than 60\n"
     ]
    },
    {
     "data": {
      "text/html": [
       "\n",
       "                    <p>\n",
       "                        Your submission has been exported. Click\n",
       "                        <a href=\"Coding_Exercise_2_2024_09_04T20_41_53_238725.zip\" download=\"Coding_Exercise_2_2024_09_04T20_41_53_238725.zip\" target=\"_blank\">here</a> to download\n",
       "                        the zip file.\n",
       "                    </p>\n",
       "                "
      ],
      "text/plain": [
       "<IPython.core.display.HTML object>"
      ]
     },
     "metadata": {},
     "output_type": "display_data"
    }
   ],
   "source": [
    "# Save your notebook first, then run this cell to export your submission.\n",
    "grader.export(pdf=False, run_tests=True)"
   ]
  },
  {
   "cell_type": "markdown",
   "id": "0e7dd4fe",
   "metadata": {},
   "source": [
    " "
   ]
  }
 ],
 "metadata": {
  "kernelspec": {
   "display_name": "Python 3 (ipykernel)",
   "language": "python",
   "name": "python3"
  },
  "language_info": {
   "codemirror_mode": {
    "name": "ipython",
    "version": 3
   },
   "file_extension": ".py",
   "mimetype": "text/x-python",
   "name": "python",
   "nbconvert_exporter": "python",
   "pygments_lexer": "ipython3",
   "version": "3.12.2"
  },
  "otter": {
   "OK_FORMAT": true,
   "tests": {
    "q1": {
     "name": "q1",
     "points": 50,
     "suites": [
      {
       "cases": [
        {
         "code": ">>> assert check_time(17)[0].find('Good day') >= 0\n>>> assert check_time(17)[0].find('Several more hours') >= 0\n",
         "failure_message": "if the code is correct before hour 18? Check spelling and case also",
         "hidden": false,
         "locked": false,
         "points": 9,
         "success_message": "passed"
        },
        {
         "code": ">>> assert check_time(17)[1].find('Goodbye') >= 0\n",
         "failure_message": "Do you set str_outside properly? Check spelling and case also",
         "hidden": false,
         "locked": false,
         "points": 9,
         "success_message": "passed"
        },
        {
         "code": ">>> assert check_time(18)[0].find('Good evening') >= 0\n>>> assert check_time(18)[0].find('Relax now') >= 0\n",
         "failure_message": "if the code is correct at hour 18 Check spelling and case also",
         "hidden": false,
         "locked": false,
         "points": 8,
         "success_message": "passed"
        },
        {
         "code": ">>> assert check_time(18)[1].find('Goodbye') >= 0\n",
         "failure_message": "Do you set str_outside properly? Check spelling and case also",
         "hidden": false,
         "locked": false,
         "points": 8,
         "success_message": "passed"
        },
        {
         "code": ">>> assert check_time(20)[0].find('Good evening!') >= 0\n>>> assert check_time(20)[0].find('Relax now') >= 0\n",
         "failure_message": "if the code is correct after hour 18 Check spelling and case also",
         "hidden": false,
         "locked": false,
         "points": 8,
         "success_message": "passed"
        },
        {
         "code": ">>> assert check_time(20)[1].find('Goodbye!') >= 0\n",
         "failure_message": "Do you set str_outside properly? Check spelling and case also",
         "hidden": false,
         "locked": false,
         "points": 8,
         "success_message": "passed"
        }
       ],
       "scored": true,
       "setup": "",
       "teardown": "",
       "type": "doctest"
      }
     ]
    },
    "q2": {
     "name": "q2",
     "points": 50,
     "suites": [
      {
       "cases": [
        {
         "code": ">>> assert get_letter_grade(97) == 'A'\n",
         "failure_message": "incorrect result for score greater than 90. Check spelling and case also",
         "hidden": false,
         "locked": false,
         "points": 9,
         "success_message": "correct result for score greater than 90"
        },
        {
         "code": ">>> assert get_letter_grade(90) == 'A'\n",
         "failure_message": "incorrect result for score 90. Check spelling and case also",
         "hidden": false,
         "locked": false,
         "points": 9,
         "success_message": "correct result for score 90"
        },
        {
         "code": ">>> assert get_letter_grade(88) == 'B'\n",
         "failure_message": "incorrect result for score greater than 80 and less than 90. Check spelling and case also",
         "hidden": false,
         "locked": false,
         "points": 8,
         "success_message": "correct result for score greater than 80 and less than 90"
        },
        {
         "code": ">>> assert get_letter_grade(75) == 'C'\n",
         "failure_message": "incorrect result for score greater than 70 and less than 90. Check spelling and case also",
         "hidden": false,
         "locked": false,
         "points": 8,
         "success_message": "correct result for score greater than 70 and less than 80"
        },
        {
         "code": ">>> assert get_letter_grade(64) == 'D'\n",
         "failure_message": "incorrect result for score greater than 60 and less than 70. Check spelling and case also",
         "hidden": false,
         "locked": false,
         "points": 8,
         "success_message": "correct result for score greater than 60 and less than 70"
        },
        {
         "code": ">>> assert get_letter_grade(54) == 'F'\n",
         "failure_message": "incorrect result for score less than 60. Check spelling and case also",
         "hidden": false,
         "locked": false,
         "points": 8,
         "success_message": "correct result for score less than 60"
        }
       ],
       "scored": true,
       "setup": "",
       "teardown": "",
       "type": "doctest"
      }
     ]
    }
   }
  }
 },
 "nbformat": 4,
 "nbformat_minor": 5
}
