{
 "cells": [
  {
   "cell_type": "code",
   "execution_count": 1,
   "metadata": {},
   "outputs": [],
   "source": [
    "import pandas as pd"
   ]
  },
  {
   "cell_type": "code",
   "execution_count": 2,
   "metadata": {},
   "outputs": [
    {
     "name": "stdout",
     "output_type": "stream",
     "text": [
      "   Survived  Pclass                                               Name  \\\n",
      "0         0       3                             Mr. Owen Harris Braund   \n",
      "1         1       1  Mrs. John Bradley (Florence Briggs Thayer) Cum...   \n",
      "2         1       3                              Miss. Laina Heikkinen   \n",
      "3         1       1        Mrs. Jacques Heath (Lily May Peel) Futrelle   \n",
      "4         0       3                            Mr. William Henry Allen   \n",
      "\n",
      "      Sex   Age  Siblings/Spouses Aboard  Parents/Children Aboard     Fare  \n",
      "0    male  22.0                        1                        0   7.2500  \n",
      "1  female  38.0                        1                        0  71.2833  \n",
      "2  female  26.0                        0                        0   7.9250  \n",
      "3  female  35.0                        1                        0  53.1000  \n",
      "4    male  35.0                        0                        0   8.0500  \n"
     ]
    }
   ],
   "source": [
    "df = pd.read_csv(\"titanic.csv\")\n",
    "\n",
    "print(df.head())"
   ]
  },
  {
   "cell_type": "code",
   "execution_count": 3,
   "metadata": {},
   "outputs": [
    {
     "name": "stdout",
     "output_type": "stream",
     "text": [
      "The group with the oldest average age is ('male', 1) with an average age of 41.51 years.\n"
     ]
    }
   ],
   "source": [
    "def get_oldest_group():\n",
    "    ### Your code starts \n",
    "    # Group by 'Sex' and 'Pclass' and calculate the mean age\n",
    "    grouped = df.groupby(['Sex', 'Pclass'])['Age'].mean()\n",
    "    \n",
    "    # Find the group with the maximum average age\n",
    "    oldest_group = grouped.idxmax()\n",
    "    oldest_age = grouped.max()\n",
    "    \n",
    "    return oldest_group, oldest_age\n",
    "    ### Your code ends (don't forget to return your result. Don't print it out) \n",
    "# You can uncomment the lines below to check your return values but you should comment out the code before submission\n",
    "group, age = get_oldest_group()\n",
    "print(f\"The group with the oldest average age is {group} with an average age of {age:.2f} years.\")\n"
   ]
  },
  {
   "cell_type": "code",
   "execution_count": 4,
   "metadata": {},
   "outputs": [
    {
     "data": {
      "text/plain": [
       "0      (20.315, 40.21]\n",
       "1      (20.315, 40.21]\n",
       "2      (20.315, 40.21]\n",
       "3      (20.315, 40.21]\n",
       "4      (20.315, 40.21]\n",
       "            ...       \n",
       "882    (20.315, 40.21]\n",
       "883     (0.34, 20.315]\n",
       "884     (0.34, 20.315]\n",
       "885    (20.315, 40.21]\n",
       "886    (20.315, 40.21]\n",
       "Name: Age, Length: 887, dtype: category\n",
       "Categories (4, interval[float64, right]): [(0.34, 20.315] < (20.315, 40.21] < (40.21, 60.105] < (60.105, 80.0]]"
      ]
     },
     "execution_count": 4,
     "metadata": {},
     "output_type": "execute_result"
    }
   ],
   "source": [
    "pd.cut(df['Age'], bins=4)"
   ]
  },
  {
   "cell_type": "code",
   "execution_count": 5,
   "metadata": {},
   "outputs": [
    {
     "data": {
      "text/plain": [
       "0      (21, 31]\n",
       "1      (31, 51]\n",
       "2      (21, 31]\n",
       "3      (31, 51]\n",
       "4      (31, 51]\n",
       "         ...   \n",
       "882    (21, 31]\n",
       "883     (1, 21]\n",
       "884     (1, 21]\n",
       "885    (21, 31]\n",
       "886    (31, 51]\n",
       "Name: Age, Length: 887, dtype: category\n",
       "Categories (5, interval[int64, right]): [(1, 21] < (21, 31] < (31, 51] < (51, 71] < (71, 91]]"
      ]
     },
     "execution_count": 5,
     "metadata": {},
     "output_type": "execute_result"
    }
   ],
   "source": [
    "pd.cut(df['Age'], bins=[1, 21, 31, 51, 71, 91])"
   ]
  }
 ],
 "metadata": {
  "kernelspec": {
   "display_name": "base",
   "language": "python",
   "name": "python3"
  },
  "language_info": {
   "codemirror_mode": {
    "name": "ipython",
    "version": 3
   },
   "file_extension": ".py",
   "mimetype": "text/x-python",
   "name": "python",
   "nbconvert_exporter": "python",
   "pygments_lexer": "ipython3",
   "version": "3.12.2"
  }
 },
 "nbformat": 4,
 "nbformat_minor": 2
}
