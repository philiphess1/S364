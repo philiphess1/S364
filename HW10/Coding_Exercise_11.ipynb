{
 "cells": [
  {
   "cell_type": "code",
   "execution_count": 1,
   "id": "63da4e2b",
   "metadata": {
    "deletable": false,
    "editable": false
   },
   "outputs": [],
   "source": [
    "# Initialize Otter\n",
    "import otter\n",
    "grader = otter.Notebook(\"Coding_Exercise_11.ipynb\")"
   ]
  },
  {
   "cell_type": "code",
   "execution_count": 2,
   "id": "a7e3805f",
   "metadata": {},
   "outputs": [
    {
     "data": {
      "text/html": [
       "<style>.container { width:100% !important; }</style>"
      ],
      "text/plain": [
       "<IPython.core.display.HTML object>"
      ]
     },
     "metadata": {},
     "output_type": "display_data"
    },
    {
     "data": {
      "text/plain": [
       "'%.3f'"
      ]
     },
     "execution_count": 2,
     "metadata": {},
     "output_type": "execute_result"
    }
   ],
   "source": [
    "# This cell load all the needed libraries for you. Don't add or remove anything. You don't need other packages either\n",
    "from IPython.display import display, HTML\n",
    "display(HTML(\"<style>.container { width:100% !important; }</style>\"))\n",
    "import numpy as np \n",
    "import pandas as pd \n",
    "# prevent numbers to be displayed in scientific notation\n",
    "np.set_printoptions(precision=3, suppress=True)\n",
    "%precision 3"
   ]
  },
  {
   "cell_type": "markdown",
   "id": "a5afcbde",
   "metadata": {},
   "source": [
    "# Week 11 Coding Exercise\n",
    "The following cell load the data in the csv file to the dataframe 'df' for you. It also displays some basic information. Use it to understand the data. Also use df for all the questions below. Don't reload data in questions <font color='red'>DON'T CHANGE THE FILE PATH AND DON'T DELETE THE CELL</font>"
   ]
  },
  {
   "cell_type": "code",
   "execution_count": 3,
   "id": "9579521f",
   "metadata": {},
   "outputs": [
    {
     "data": {
      "text/html": [
       "<div>\n",
       "<style scoped>\n",
       "    .dataframe tbody tr th:only-of-type {\n",
       "        vertical-align: middle;\n",
       "    }\n",
       "\n",
       "    .dataframe tbody tr th {\n",
       "        vertical-align: top;\n",
       "    }\n",
       "\n",
       "    .dataframe thead th {\n",
       "        text-align: right;\n",
       "    }\n",
       "</style>\n",
       "<table border=\"1\" class=\"dataframe\">\n",
       "  <thead>\n",
       "    <tr style=\"text-align: right;\">\n",
       "      <th></th>\n",
       "      <th>As of</th>\n",
       "      <th>Rank</th>\n",
       "      <th>Year to Date Rank</th>\n",
       "      <th>Last Week Rank</th>\n",
       "      <th>Title</th>\n",
       "      <th>Type</th>\n",
       "      <th>Netflix Exclusive</th>\n",
       "      <th>Netflix Release Date</th>\n",
       "      <th>Days In Top 10</th>\n",
       "      <th>Viewership Score</th>\n",
       "    </tr>\n",
       "  </thead>\n",
       "  <tbody>\n",
       "    <tr>\n",
       "      <th>0</th>\n",
       "      <td>2021-01-01</td>\n",
       "      <td>1</td>\n",
       "      <td>1.0</td>\n",
       "      <td>NaN</td>\n",
       "      <td>Bridgerton</td>\n",
       "      <td>TV Show</td>\n",
       "      <td>Yes</td>\n",
       "      <td>Dec 25, 2020</td>\n",
       "      <td>7</td>\n",
       "      <td>67</td>\n",
       "    </tr>\n",
       "    <tr>\n",
       "      <th>1</th>\n",
       "      <td>2021-01-01</td>\n",
       "      <td>2</td>\n",
       "      <td>3.0</td>\n",
       "      <td>NaN</td>\n",
       "      <td>Death to 2020</td>\n",
       "      <td>Movie</td>\n",
       "      <td>Yes</td>\n",
       "      <td>Dec 27, 2020</td>\n",
       "      <td>5</td>\n",
       "      <td>37</td>\n",
       "    </tr>\n",
       "    <tr>\n",
       "      <th>2</th>\n",
       "      <td>2021-01-01</td>\n",
       "      <td>3</td>\n",
       "      <td>2.0</td>\n",
       "      <td>NaN</td>\n",
       "      <td>We Can Be Heroes</td>\n",
       "      <td>Movie</td>\n",
       "      <td>Yes</td>\n",
       "      <td>Dec 25, 2020</td>\n",
       "      <td>7</td>\n",
       "      <td>58</td>\n",
       "    </tr>\n",
       "    <tr>\n",
       "      <th>3</th>\n",
       "      <td>2021-01-01</td>\n",
       "      <td>4</td>\n",
       "      <td>NaN</td>\n",
       "      <td>NaN</td>\n",
       "      <td>Chilling Adventures of Sabrina</td>\n",
       "      <td>TV Show</td>\n",
       "      <td>Yes</td>\n",
       "      <td>Oct 26, 2018</td>\n",
       "      <td>1</td>\n",
       "      <td>7</td>\n",
       "    </tr>\n",
       "    <tr>\n",
       "      <th>4</th>\n",
       "      <td>2021-01-01</td>\n",
       "      <td>5</td>\n",
       "      <td>4.0</td>\n",
       "      <td>1.0</td>\n",
       "      <td>The Midnight Sky</td>\n",
       "      <td>Movie</td>\n",
       "      <td>Yes</td>\n",
       "      <td>Dec 23, 2020</td>\n",
       "      <td>9</td>\n",
       "      <td>77</td>\n",
       "    </tr>\n",
       "  </tbody>\n",
       "</table>\n",
       "</div>"
      ],
      "text/plain": [
       "        As of  Rank  Year to Date Rank  Last Week Rank  \\\n",
       "0  2021-01-01     1                1.0             NaN   \n",
       "1  2021-01-01     2                3.0             NaN   \n",
       "2  2021-01-01     3                2.0             NaN   \n",
       "3  2021-01-01     4                NaN             NaN   \n",
       "4  2021-01-01     5                4.0             1.0   \n",
       "\n",
       "                            Title     Type Netflix Exclusive  \\\n",
       "0                      Bridgerton  TV Show               Yes   \n",
       "1                   Death to 2020    Movie               Yes   \n",
       "2                We Can Be Heroes    Movie               Yes   \n",
       "3  Chilling Adventures of Sabrina  TV Show               Yes   \n",
       "4                The Midnight Sky    Movie               Yes   \n",
       "\n",
       "  Netflix Release Date  Days In Top 10  Viewership Score  \n",
       "0         Dec 25, 2020               7                67  \n",
       "1         Dec 27, 2020               5                37  \n",
       "2         Dec 25, 2020               7                58  \n",
       "3         Oct 26, 2018               1                 7  \n",
       "4         Dec 23, 2020               9                77  "
      ]
     },
     "metadata": {},
     "output_type": "display_data"
    },
    {
     "name": "stdout",
     "output_type": "stream",
     "text": [
      "<class 'pandas.core.frame.DataFrame'>\n",
      "RangeIndex: 3650 entries, 0 to 3649\n",
      "Data columns (total 10 columns):\n",
      " #   Column                Non-Null Count  Dtype  \n",
      "---  ------                --------------  -----  \n",
      " 0   As of                 3650 non-null   object \n",
      " 1   Rank                  3650 non-null   int64  \n",
      " 2   Year to Date Rank     3228 non-null   float64\n",
      " 3   Last Week Rank        1691 non-null   float64\n",
      " 4   Title                 3650 non-null   object \n",
      " 5   Type                  3650 non-null   object \n",
      " 6   Netflix Exclusive     2352 non-null   object \n",
      " 7   Netflix Release Date  3650 non-null   object \n",
      " 8   Days In Top 10        3650 non-null   int64  \n",
      " 9   Viewership Score      3650 non-null   int64  \n",
      "dtypes: float64(2), int64(3), object(5)\n",
      "memory usage: 285.3+ KB\n"
     ]
    }
   ],
   "source": [
    "# Read the file to a dataframe. DON'T CHANGE THE FILE PAHT. OTHERWISE GRADESCOPE CANNOT GRADE YOUR WORK\n",
    "df = pd.read_csv(\"netflix_show_ranking.csv\")\n",
    "# Display the top 5 rows to take a peek of the data\n",
    "display(df.head())\n",
    "# Use info() to get information such as names of columns, number of values not missing, and data types of columns\n",
    "df.info()"
   ]
  },
  {
   "cell_type": "markdown",
   "id": "958785c5",
   "metadata": {
    "deletable": false,
    "editable": false
   },
   "source": [
    "### Question 1\n",
    "Find all the columns with nan values using the function get_columns_w_nan(). <font color=\"red\">Return</font> the **Series** that only contains values with at least one nan values. \n",
    "\n",
    "<font color='red'>Use **df** loaded in the cell at the beginning of this notebook. Don't read the csv file and load the data again.</font>"
   ]
  },
  {
   "cell_type": "code",
   "execution_count": 4,
   "id": "ea5f259a",
   "metadata": {
    "tags": []
   },
   "outputs": [],
   "source": [
    "...\n",
    "### don't remove anything. Just add code to where noted\n",
    "def get_columns_w_nan():\n",
    "    ### Your code starts \n",
    "    columns_with_nan = df.isnull().any()\n",
    "    columns_with_nan = columns_with_nan[columns_with_nan == True]\n",
    "    return columns_with_nan\n",
    "    \n",
    "    ### Your code ends (don't forget to return your result. Don't print it out) \n",
    "# You can uncomment the lines below to check your return values but you should comment out the code before submission\n",
    "# get_columns_w_nan()"
   ]
  },
  {
   "cell_type": "code",
   "execution_count": 5,
   "id": "81b596db",
   "metadata": {
    "deletable": false,
    "editable": false
   },
   "outputs": [
    {
     "data": {
      "text/html": [
       "<p><strong><pre style='display: inline;'>q1</pre></strong> passed! 🌟</p><p><strong><pre style='display: inline;'>q1 - 1</pre> message:</strong> passed - the type of the return value is correct</p><p><strong><pre style='display: inline;'>q1 - 2</pre> message:</strong> passed - 3 values are in the returned Series</p><p><strong><pre style='display: inline;'>q1 - 3</pre> message:</strong> passed - 'Netflix Exclusive' is in the returned Series</p>"
      ],
      "text/plain": [
       "q1 results: All test cases passed!\n",
       "q1 - 1 message: passed - the type of the return value is correct\n",
       "q1 - 2 message: passed - 3 values are in the returned Series\n",
       "q1 - 3 message: passed - 'Netflix Exclusive' is in the returned Series"
      ]
     },
     "execution_count": 5,
     "metadata": {},
     "output_type": "execute_result"
    }
   ],
   "source": [
    "grader.check(\"q1\")"
   ]
  },
  {
   "cell_type": "markdown",
   "id": "124d4f95",
   "metadata": {
    "deletable": false,
    "editable": false
   },
   "source": [
    "### Question 2\n",
    "Take the column \"Days in Top 10\" and bin it into 4 categories: <=15, 16 to 35, 36 to 50 and 51 and above. Name the categories as 'Made it', 'Hold on longer', 'Steady' and 'Unbeatable'. Don't save the binned result back to the 'df'. You can create a variable to store it. The column \"Days in Top 10\" does not contain any nan values. Make sure binning it does not introduce any. Watch out for the lowest and highest boundary. Note that pd.cut() function has 2 parameters with default values as specified here: right=True and include_lowest=False. You can use the default values of the parameters or set different values for them but you need to make sure the values falling into the categories are correct. Once you get the binned result, get the number of nan values in it, (it should be 0). Also get a Series of the 4 categories and the number of rows falling into each category. Return the number of nan values and the Series object. \n",
    "\n",
    "<font color='red'>Use **df** loaded in the cell at the beginning of this notebook. Don't read the csv file and load the data again.</font>"
   ]
  },
  {
   "cell_type": "code",
   "execution_count": 6,
   "id": "ec487c87",
   "metadata": {
    "tags": []
   },
   "outputs": [],
   "source": [
    "...\n",
    "### don't remove anything. Just add code to where noted\n",
    "def bin_days_in_top10():\n",
    "    ### Your code starts \n",
    "    bins = [0, 15, 35, 50, float('inf')]\n",
    "    labels = ['Made it', 'Hold on longer', 'Steady', 'Unbeatable']\n",
    "    binned_days = pd.cut(df['Days In Top 10'], bins=bins, labels=labels, include_lowest=True)\n",
    "    num_nans = binned_days.isnull().sum()\n",
    "    category_counts = binned_days.value_counts().reindex(labels)\n",
    "    return num_nans, category_counts\n",
    "    \n",
    "    ### Your code ends (don't forget to return your result. Don't print it out) \n",
    "# You can uncomment the lines below to check your return values but you should comment out the code before submission\n",
    "# bin_days_in_top10()"
   ]
  },
  {
   "cell_type": "code",
   "execution_count": 7,
   "id": "b976b8ea",
   "metadata": {
    "deletable": false,
    "editable": false
   },
   "outputs": [
    {
     "data": {
      "text/html": [
       "<p><strong><pre style='display: inline;'>q2</pre></strong> passed! 💯</p><p><strong><pre style='display: inline;'>q2 - 1</pre> message:</strong> passed - the type of the return value is correct</p><p><strong><pre style='display: inline;'>q2 - 2</pre> message:</strong> passed - 2 values are returned in a tuple</p><p><strong><pre style='display: inline;'>q2 - 3</pre> message:</strong> passed - The first value in the returned tuple is an integer</p><p><strong><pre style='display: inline;'>q2 - 4</pre> message:</strong> passed - The second value in the returned tuple is a Series</p>"
      ],
      "text/plain": [
       "q2 results: All test cases passed!\n",
       "q2 - 1 message: passed - the type of the return value is correct\n",
       "q2 - 2 message: passed - 2 values are returned in a tuple\n",
       "q2 - 3 message: passed - The first value in the returned tuple is an integer\n",
       "q2 - 4 message: passed - The second value in the returned tuple is a Series"
      ]
     },
     "execution_count": 7,
     "metadata": {},
     "output_type": "execute_result"
    }
   ],
   "source": [
    "grader.check(\"q2\")"
   ]
  },
  {
   "cell_type": "markdown",
   "id": "d0dc401d",
   "metadata": {
    "deletable": false,
    "editable": false
   },
   "source": [
    "### Question 3\n",
    "Find the release year, month and weekday (full name) with the highest number of shows/titles made to the top 10 ranking (for each time element listed here). Use the column 'Netflix Release Date'. Note, **don't add any new columns to df**. If you created multiple Series, stored them in local variables. Return the year, month and weekday (full name of it) with the highest number of top 10 shows associated with. Also return the Series that contains all the weekdays and the number of shows made the top 10 for each weekday. There should be 4 values returned in the specified order. \n",
    "\n",
    "<font color='red'>Use **df** loaded in the cell at the beginning of this notebook. Don't read the csv file and load the data again.</font>"
   ]
  },
  {
   "cell_type": "code",
   "execution_count": 8,
   "id": "0ff4ec35",
   "metadata": {
    "tags": []
   },
   "outputs": [],
   "source": [
    "...\n",
    "### don't remove anything. Just add code to where noted\n",
    "def year_month_weekday_highest_top10():\n",
    "    ### Your code starts \n",
    "    release_dates = pd.to_datetime(df['Netflix Release Date'])\n",
    "    release_year = release_dates.dt.year\n",
    "    release_month = release_dates.dt.month_name()\n",
    "    release_weekday = release_dates.dt.day_name()\n",
    "    year_counts = release_year.value_counts()\n",
    "    month_counts = release_month.value_counts()\n",
    "    weekday_counts = release_weekday.value_counts()\n",
    "    top_year = year_counts.idxmax()\n",
    "    top_month = month_counts.idxmax()\n",
    "    top_weekday = weekday_counts.idxmax()\n",
    "    return top_year, top_month, top_weekday, weekday_counts\n",
    "    \n",
    "    ### Your code ends (don't forget to return your result. Don't print it out) \n",
    "# You can uncomment the lines below to check your return values but you should comment out the code before submission\n",
    "# year_month_weekday_highest_top10()"
   ]
  },
  {
   "cell_type": "code",
   "execution_count": 9,
   "id": "290887dd",
   "metadata": {
    "deletable": false,
    "editable": false
   },
   "outputs": [
    {
     "data": {
      "text/html": [
       "<p><strong><pre style='display: inline;'>q3</pre></strong> passed! ✨</p><p><strong><pre style='display: inline;'>q3 - 1</pre> message:</strong> passed - The number of columns in the dataframe df is not changed</p><p><strong><pre style='display: inline;'>q3 - 2</pre> message:</strong> passed - year_month_weekday_highest_top10() returns a tuple with 4 values</p><p><strong><pre style='display: inline;'>q3 - 3</pre> message:</strong> passed - The first return value of year_month_weekday_highest_top10() is an integer</p><p><strong><pre style='display: inline;'>q3 - 4</pre> message:</strong> passed - The 3rd return value of year_month_weekday_highest_top10() is a string</p><p><strong><pre style='display: inline;'>q3 - 5</pre> message:</strong> passed - The 4th return value of year_month_weekday_highest_top10() is a Series</p>"
      ],
      "text/plain": [
       "q3 results: All test cases passed!\n",
       "q3 - 1 message: passed - The number of columns in the dataframe df is not changed\n",
       "q3 - 2 message: passed - year_month_weekday_highest_top10() returns a tuple with 4 values\n",
       "q3 - 3 message: passed - The first return value of year_month_weekday_highest_top10() is an integer\n",
       "q3 - 4 message: passed - The 3rd return value of year_month_weekday_highest_top10() is a string\n",
       "q3 - 5 message: passed - The 4th return value of year_month_weekday_highest_top10() is a Series"
      ]
     },
     "execution_count": 9,
     "metadata": {},
     "output_type": "execute_result"
    }
   ],
   "source": [
    "grader.check(\"q3\")"
   ]
  },
  {
   "cell_type": "markdown",
   "id": "fa976258",
   "metadata": {
    "deletable": false,
    "editable": false
   },
   "source": [
    "### Question 4\n",
    "Get the number of rows with the word \"death\" (regardless of the case) in its title. Note, **don't add any new columns to df**. A show could be in the top10 for multiple times. This means that the same show could be in multiple rows. The number that needs to be returned is the number of rows. Also, get the names of shows with the word \"death\" in its title as a list. In the list, all the titles must be unique. Return the number and the list in this order. \n",
    "\n",
    "<font color='red'>Use **df** loaded in the cell at the beginning of this notebook. Don't read the csv file and load the data again.</font>"
   ]
  },
  {
   "cell_type": "code",
   "execution_count": 10,
   "id": "2c64471f",
   "metadata": {
    "tags": []
   },
   "outputs": [],
   "source": [
    "...\n",
    "### don't remove anything. Just add code to where noted\n",
    "def get_shows_w_death():\n",
    "    ### Your code starts \n",
    "    mask = df['Title'].str.contains('death', case=False, na=False)\n",
    "    filtered_df = df[mask]\n",
    "    num_rows = mask.sum()\n",
    "    unique_titles = filtered_df['Title'].unique().tolist()\n",
    "    return num_rows, unique_titles\n",
    "    \n",
    "    ### Your code ends (don't forget to return your result. Don't print it out) \n",
    "# You can uncomment the lines below to check your return values but you should comment out the code before submission\n",
    "# get_shows_w_death()"
   ]
  },
  {
   "cell_type": "code",
   "execution_count": 11,
   "id": "5ae4a50e",
   "metadata": {
    "deletable": false,
    "editable": false
   },
   "outputs": [
    {
     "data": {
      "text/html": [
       "<p><strong><pre style='display: inline;'>q4</pre></strong> passed! 🍀</p><p><strong><pre style='display: inline;'>q4 - 1</pre> message:</strong> passed - The number of columns in the dataframe df is not changed</p><p><strong><pre style='display: inline;'>q4 - 2</pre> message:</strong> passed - the type of the return value is correct as a tuple</p><p><strong><pre style='display: inline;'>q4 - 3</pre> message:</strong> passed - 2 items are in the tuple returned</p><p><strong><pre style='display: inline;'>q4 - 4</pre> message:</strong> passed - The first returned value from get_shows_w_death() is an int, which is correct</p><p><strong><pre style='display: inline;'>q4 - 5</pre> message:</strong> passed - The 2nd returned value from get_shows_w_death() is a list</p>"
      ],
      "text/plain": [
       "q4 results: All test cases passed!\n",
       "q4 - 1 message: passed - The number of columns in the dataframe df is not changed\n",
       "q4 - 2 message: passed - the type of the return value is correct as a tuple\n",
       "q4 - 3 message: passed - 2 items are in the tuple returned\n",
       "q4 - 4 message: passed - The first returned value from get_shows_w_death() is an int, which is correct\n",
       "q4 - 5 message: passed - The 2nd returned value from get_shows_w_death() is a list"
      ]
     },
     "execution_count": 11,
     "metadata": {},
     "output_type": "execute_result"
    }
   ],
   "source": [
    "grader.check(\"q4\")"
   ]
  },
  {
   "cell_type": "markdown",
   "id": "63bc048c",
   "metadata": {
    "deletable": false,
    "editable": false
   },
   "source": [
    "### Question 5\n",
    "1. Fix some nan values. For the column \"Netflix Exclusive\", the nan values indicates that a show is not Netflix exclusive. Set them to be \"No\". **Make the changes in df directly**. fillna() or np.where can be used\n",
    "1. For the column 'Year to Date Rank', if the value is nan, fill the value in column \"Rank\" in the same row. **Make change in df directly**. np.where can be used.\n",
    "1. Once the 'Years to Date Rank' is fixed, find all the rows that the 'Years to Date Rank' is higher than 'Last Week Rank'. Return that number.\n",
    "\n",
    "Further explanation: this function fixes some columns with nan values and also finds all the rows with ranking increased from last week. This is the only function that changes the df itself. All previous functions don't change the df. The change should not affect any question in this homework. However, after this function is executed, you should reload the data to df by executing the earlier cell that loads data from the csv file into df. And retest all the code. Please also wait until Gradescope finishes all the grading to ensure your code passes all tests. \n",
    "\n",
    "<font color='red'>Use **df** loaded in the cell at the beginning of this notebook. Don't read the csv file and load the data again.</font>"
   ]
  },
  {
   "cell_type": "code",
   "execution_count": 12,
   "id": "a6137e17",
   "metadata": {
    "tags": []
   },
   "outputs": [],
   "source": [
    "...\n",
    "### don't remove anything. Just add code to where noted\n",
    "def get_show_ranking_rise():\n",
    "    ### Your code starts \n",
    "    df['Netflix Exclusive'].fillna('No', inplace=True)\n",
    "    df['Year to Date Rank'] = np.where(df['Year to Date Rank'].isna(), df['Rank'], df['Year to Date Rank'])\n",
    "    rank_increase_count = df['Year to Date Rank'] > df['Last Week Rank']\n",
    "    rank_increase_count = rank_increase_count.sum()\n",
    "    \n",
    "    return rank_increase_count\n",
    "    \n",
    "    ### Your code ends (don't forget to return your result. Don't print it out) \n",
    "# You can uncomment the lines below to check your return values but you should comment out the code before submission\n",
    "# get_show_ranking_rise()"
   ]
  },
  {
   "cell_type": "code",
   "execution_count": 13,
   "id": "3653ebc6",
   "metadata": {
    "deletable": false,
    "editable": false
   },
   "outputs": [
    {
     "data": {
      "text/html": [
       "<p><strong><pre style='display: inline;'>q5</pre></strong> passed! 🌟</p><p><strong><pre style='display: inline;'>q5 - 1</pre> message:</strong> passed - The 'Netflix Exclusive' columns has no nan values</p><p><strong><pre style='display: inline;'>q5 - 2</pre> message:</strong> passed - The 'Year to Date Rank' columns has no nan values</p><p><strong><pre style='display: inline;'>q5 - 3</pre> message:</strong> passed - the type of the return value is correct</p>"
      ],
      "text/plain": [
       "q5 results: All test cases passed!\n",
       "q5 - 1 message: passed - The 'Netflix Exclusive' columns has no nan values\n",
       "q5 - 2 message: passed - The 'Year to Date Rank' columns has no nan values\n",
       "q5 - 3 message: passed - the type of the return value is correct"
      ]
     },
     "execution_count": 13,
     "metadata": {},
     "output_type": "execute_result"
    }
   ],
   "source": [
    "grader.check(\"q5\")"
   ]
  },
  {
   "cell_type": "markdown",
   "id": "2d2cab72",
   "metadata": {
    "deletable": false,
    "editable": false
   },
   "source": [
    "## Submission\n",
    "\n",
    "Make sure you have run all cells in your notebook in order before running the cell below, so that all images/graphs appear in the output. The cell below will generate a zip file for you to submit. **Please save before exporting!**"
   ]
  },
  {
   "cell_type": "code",
   "execution_count": 14,
   "id": "7017939a",
   "metadata": {
    "deletable": false,
    "editable": false
   },
   "outputs": [
    {
     "name": "stdout",
     "output_type": "stream",
     "text": [
      "Running your submission against local test cases...\n",
      "\n",
      "\n",
      "Your submission received the following results when run against available test cases:\n",
      "\n",
      "    q1 results: All test cases passed!\n",
      "    q1 - 1 message: passed - the type of the return value is correct\n",
      "    q1 - 2 message: passed - 3 values are in the returned Series\n",
      "    q1 - 3 message: passed - 'Netflix Exclusive' is in the returned Series\n",
      "\n",
      "    q2 results: All test cases passed!\n",
      "    q2 - 1 message: passed - the type of the return value is correct\n",
      "    q2 - 2 message: passed - 2 values are returned in a tuple\n",
      "    q2 - 3 message: passed - The first value in the returned tuple is an integer\n",
      "    q2 - 4 message: passed - The second value in the returned tuple is a Series\n",
      "\n",
      "    q3 results: All test cases passed!\n",
      "    q3 - 1 message: passed - The number of columns in the dataframe df is not changed\n",
      "    q3 - 2 message: passed - year_month_weekday_highest_top10() returns a tuple with 4 values\n",
      "    q3 - 3 message: passed - The first return value of year_month_weekday_highest_top10() is an integer\n",
      "    q3 - 4 message: passed - The 3rd return value of year_month_weekday_highest_top10() is a string\n",
      "    q3 - 5 message: passed - The 4th return value of year_month_weekday_highest_top10() is a Series\n",
      "\n",
      "    q4 results: All test cases passed!\n",
      "    q4 - 1 message: passed - The number of columns in the dataframe df is not changed\n",
      "    q4 - 2 message: passed - the type of the return value is correct as a tuple\n",
      "    q4 - 3 message: passed - 2 items are in the tuple returned\n",
      "    q4 - 4 message: passed - The first returned value from get_shows_w_death() is an int, which is correct\n",
      "    q4 - 5 message: passed - The 2nd returned value from get_shows_w_death() is a list\n",
      "\n",
      "    q5 results: All test cases passed!\n",
      "    q5 - 1 message: passed - The 'Netflix Exclusive' columns has no nan values\n",
      "    q5 - 2 message: passed - The 'Year to Date Rank' columns has no nan values\n",
      "    q5 - 3 message: passed - the type of the return value is correct\n"
     ]
    },
    {
     "data": {
      "text/html": [
       "\n",
       "                    <p>\n",
       "                        Your submission has been exported. Click\n",
       "                        <a href=\"Coding_Exercise_11_2024_11_05T15_22_48_557117.zip\" download=\"Coding_Exercise_11_2024_11_05T15_22_48_557117.zip\" target=\"_blank\">here</a> to download\n",
       "                        the zip file.\n",
       "                    </p>\n",
       "                "
      ],
      "text/plain": [
       "<IPython.core.display.HTML object>"
      ]
     },
     "metadata": {},
     "output_type": "display_data"
    }
   ],
   "source": [
    "# Save your notebook first, then run this cell to export your submission.\n",
    "grader.export(pdf=False, run_tests=True)"
   ]
  },
  {
   "cell_type": "markdown",
   "id": "6d9db162",
   "metadata": {},
   "source": [
    " "
   ]
  }
 ],
 "metadata": {
  "kernelspec": {
   "display_name": "base",
   "language": "python",
   "name": "python3"
  },
  "language_info": {
   "codemirror_mode": {
    "name": "ipython",
    "version": 3
   },
   "file_extension": ".py",
   "mimetype": "text/x-python",
   "name": "python",
   "nbconvert_exporter": "python",
   "pygments_lexer": "ipython3",
   "version": "3.12.2"
  },
  "otter": {
   "OK_FORMAT": true,
   "tests": {
    "q1": {
     "name": "q1",
     "points": 20,
     "suites": [
      {
       "cases": [
        {
         "code": ">>> assert isinstance(get_columns_w_nan(), pd.Series)\n",
         "failure_message": "get_columns_w_nan() must return a Pandas Series",
         "hidden": false,
         "locked": false,
         "points": 2.5,
         "success_message": "passed - the type of the return value is correct"
        },
        {
         "code": ">>> assert get_columns_w_nan().size == 3\n",
         "failure_message": "The returned Series should contain 3 values",
         "hidden": false,
         "locked": false,
         "points": 2.5,
         "success_message": "passed - 3 values are in the returned Series"
        },
        {
         "code": ">>> assert 'Netflix Exclusive' in get_columns_w_nan()\n",
         "failure_message": "Do you have the column 'Netflix Exclusive' in the returned Series?",
         "hidden": false,
         "locked": false,
         "points": 2.5,
         "success_message": "passed - 'Netflix Exclusive' is in the returned Series"
        }
       ],
       "scored": true,
       "setup": "",
       "teardown": "",
       "type": "doctest"
      }
     ]
    },
    "q2": {
     "name": "q2",
     "points": 20,
     "suites": [
      {
       "cases": [
        {
         "code": ">>> assert type(bin_days_in_top10()) == type(())\n",
         "failure_message": "Return bin_days_in_top10() must return a tuple",
         "hidden": false,
         "locked": false,
         "points": 2,
         "success_message": "passed - the type of the return value is correct"
        },
        {
         "code": ">>> assert len(bin_days_in_top10()) == 2\n",
         "failure_message": "The returned tuple should contain 2 values",
         "hidden": false,
         "locked": false,
         "points": 2,
         "success_message": "passed - 2 values are returned in a tuple"
        },
        {
         "code": ">>> assert isinstance(bin_days_in_top10()[0], np.int64)\n",
         "failure_message": "The first value in the returned tuple should be an integer",
         "hidden": false,
         "locked": false,
         "points": 2,
         "success_message": "passed - The first value in the returned tuple is an integer"
        },
        {
         "code": ">>> assert isinstance(bin_days_in_top10()[1], pd.Series)\n",
         "failure_message": "The second value in the returned tuple should be a Series",
         "hidden": false,
         "locked": false,
         "points": 3,
         "success_message": "passed - The second value in the returned tuple is a Series"
        }
       ],
       "scored": true,
       "setup": "",
       "teardown": "",
       "type": "doctest"
      }
     ]
    },
    "q3": {
     "name": "q3",
     "points": 20,
     "suites": [
      {
       "cases": [
        {
         "code": ">>> assert df.shape[1] == 10\n",
         "failure_message": "Have you changed the number of columns in the dataframe df? Check out the instruction",
         "hidden": false,
         "locked": false,
         "points": 2,
         "success_message": "passed - The number of columns in the dataframe df is not changed"
        },
        {
         "code": ">>> assert len(year_month_weekday_highest_top10()) == 4\n",
         "failure_message": "year_month_weekday_highest_top10() must return a tuple with 4 values",
         "hidden": false,
         "locked": false,
         "points": 2,
         "success_message": "passed - year_month_weekday_highest_top10() returns a tuple with 4 values"
        },
        {
         "code": ">>> assert isinstance(year_month_weekday_highest_top10()[0], np.int32)\n",
         "failure_message": "The first return value of year_month_weekday_highest_top10() must be an integer",
         "hidden": false,
         "locked": false,
         "points": 2,
         "success_message": "passed - The first return value of year_month_weekday_highest_top10() is an integer"
        },
        {
         "code": ">>> assert isinstance(year_month_weekday_highest_top10()[2], str)\n",
         "failure_message": "The 3rd return value of year_month_weekday_highest_top10() must be a string",
         "hidden": false,
         "locked": false,
         "points": 2,
         "success_message": "passed - The 3rd return value of year_month_weekday_highest_top10() is a string"
        },
        {
         "code": ">>> assert isinstance(year_month_weekday_highest_top10()[3], pd.Series)\n",
         "failure_message": "The 4th return value of year_month_weekday_highest_top10() must be a Series",
         "hidden": false,
         "locked": false,
         "points": 2,
         "success_message": "passed - The 4th return value of year_month_weekday_highest_top10() is a Series"
        }
       ],
       "scored": true,
       "setup": "",
       "teardown": "",
       "type": "doctest"
      }
     ]
    },
    "q4": {
     "name": "q4",
     "points": 20,
     "suites": [
      {
       "cases": [
        {
         "code": ">>> assert df.shape[1] == 10\n",
         "failure_message": "Have you changed the number of columns in the dataframe df? Check out the instruction",
         "hidden": false,
         "locked": false,
         "points": 2.5,
         "success_message": "passed - The number of columns in the dataframe df is not changed"
        },
        {
         "code": ">>> assert isinstance(get_shows_w_death(), tuple)\n",
         "failure_message": "get_shows_w_death() must return a tuple",
         "hidden": false,
         "locked": false,
         "points": 2.5,
         "success_message": "passed - the type of the return value is correct as a tuple"
        },
        {
         "code": ">>> assert len(get_shows_w_death()) == 2\n",
         "failure_message": "get_shows_w_death() must return a tuple with 2 items",
         "hidden": false,
         "locked": false,
         "points": 2.5,
         "success_message": "passed - 2 items are in the tuple returned"
        },
        {
         "code": ">>> assert isinstance(get_shows_w_death()[0], np.int64) or isinstance(get_shows_w_death()[0], int)\n",
         "failure_message": "The first returned value from get_shows_w_death() must be an int as the number of shows with 'death' in the title",
         "hidden": false,
         "locked": false,
         "points": 2.5,
         "success_message": "passed - The first returned value from get_shows_w_death() is an int, which is correct"
        },
        {
         "code": ">>> assert isinstance(get_shows_w_death()[1], list)\n",
         "failure_message": "The 2nd returned value from get_shows_w_death() must be a list as the titles of shows with 'death' in the titles",
         "hidden": false,
         "locked": false,
         "points": 2.5,
         "success_message": "passed - The 2nd returned value from get_shows_w_death() is a list"
        }
       ],
       "scored": true,
       "setup": "",
       "teardown": "",
       "type": "doctest"
      }
     ]
    },
    "q5": {
     "name": "q5",
     "points": 20,
     "suites": [
      {
       "cases": [
        {
         "code": ">>> count = get_show_ranking_rise()\n>>> assert df['Netflix Exclusive'].isna().sum() == 0\n",
         "failure_message": "Have you filled in values in nan cells in \"Netflix Exclusive\" column?",
         "hidden": false,
         "locked": false,
         "points": 4,
         "success_message": "passed - The 'Netflix Exclusive' columns has no nan values"
        },
        {
         "code": ">>> count = get_show_ranking_rise()\n>>> assert df['Year to Date Rank'].isna().sum() == 0\n",
         "failure_message": "Have you filled in values in nan cells in \"Year to Date Rank\" column?",
         "hidden": false,
         "locked": false,
         "points": 4,
         "success_message": "passed - The 'Year to Date Rank' columns has no nan values"
        },
        {
         "code": ">>> assert isinstance(get_show_ranking_rise(), np.int64) or isinstance(get_show_ranking_rise(), int)\n",
         "failure_message": "get_top1_movies_sorted() must return a Pandas dataframe",
         "hidden": false,
         "locked": false,
         "points": 4,
         "success_message": "passed - the type of the return value is correct"
        }
       ],
       "scored": true,
       "setup": "",
       "teardown": "",
       "type": "doctest"
      }
     ]
    }
   }
  }
 },
 "nbformat": 4,
 "nbformat_minor": 5
}
