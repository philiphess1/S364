{
 "cells": [
  {
   "cell_type": "code",
   "execution_count": 1,
   "id": "de3547e2",
   "metadata": {
    "deletable": false,
    "editable": false
   },
   "outputs": [],
   "source": [
    "# Initialize Otter\n",
    "import otter\n",
    "grader = otter.Notebook(\"Coding_Exercise_12.ipynb\")"
   ]
  },
  {
   "cell_type": "code",
   "execution_count": 2,
   "id": "a7e3805f",
   "metadata": {},
   "outputs": [
    {
     "data": {
      "text/html": [
       "<style>.container { width:100% !important; }</style>"
      ],
      "text/plain": [
       "<IPython.core.display.HTML object>"
      ]
     },
     "metadata": {},
     "output_type": "display_data"
    },
    {
     "data": {
      "text/plain": [
       "'%.3f'"
      ]
     },
     "execution_count": 2,
     "metadata": {},
     "output_type": "execute_result"
    }
   ],
   "source": [
    "# This cell load all the needed libraries for you. Don't add or remove anything. You don't need other packages either\n",
    "from IPython.display import display, HTML\n",
    "display(HTML(\"<style>.container { width:100% !important; }</style>\"))\n",
    "import numpy as np \n",
    "import pandas as pd \n",
    "# prevent numbers to be displayed in scientific notation\n",
    "np.set_printoptions(precision=3, suppress=True)\n",
    "%precision 3"
   ]
  },
  {
   "cell_type": "markdown",
   "id": "a5afcbde",
   "metadata": {},
   "source": [
    "# Week 12 Coding Exercise\n",
    "The following cell load the data in the csv file to the dataframe 'df' for you. It also displays some basic information. Use it to understand the data. <font color='red'>DON'T CHANGE THE FILE PATH AND DON'T DELETE THE CELL</font>"
   ]
  },
  {
   "cell_type": "code",
   "execution_count": 3,
   "id": "9579521f",
   "metadata": {},
   "outputs": [
    {
     "data": {
      "text/html": [
       "<div>\n",
       "<style scoped>\n",
       "    .dataframe tbody tr th:only-of-type {\n",
       "        vertical-align: middle;\n",
       "    }\n",
       "\n",
       "    .dataframe tbody tr th {\n",
       "        vertical-align: top;\n",
       "    }\n",
       "\n",
       "    .dataframe thead th {\n",
       "        text-align: right;\n",
       "    }\n",
       "</style>\n",
       "<table border=\"1\" class=\"dataframe\">\n",
       "  <thead>\n",
       "    <tr style=\"text-align: right;\">\n",
       "      <th></th>\n",
       "      <th>As of</th>\n",
       "      <th>Rank</th>\n",
       "      <th>Year to Date Rank</th>\n",
       "      <th>Last Week Rank</th>\n",
       "      <th>Title</th>\n",
       "      <th>Type</th>\n",
       "      <th>Netflix Exclusive</th>\n",
       "      <th>Netflix Release Date</th>\n",
       "      <th>Days In Top 10</th>\n",
       "      <th>Viewership Score</th>\n",
       "    </tr>\n",
       "  </thead>\n",
       "  <tbody>\n",
       "    <tr>\n",
       "      <th>0</th>\n",
       "      <td>2021-01-01</td>\n",
       "      <td>1</td>\n",
       "      <td>1.0</td>\n",
       "      <td>NaN</td>\n",
       "      <td>Bridgerton</td>\n",
       "      <td>TV Show</td>\n",
       "      <td>Yes</td>\n",
       "      <td>Dec 25, 2020</td>\n",
       "      <td>7</td>\n",
       "      <td>67</td>\n",
       "    </tr>\n",
       "    <tr>\n",
       "      <th>1</th>\n",
       "      <td>2021-01-01</td>\n",
       "      <td>2</td>\n",
       "      <td>3.0</td>\n",
       "      <td>NaN</td>\n",
       "      <td>Death to 2020</td>\n",
       "      <td>Movie</td>\n",
       "      <td>Yes</td>\n",
       "      <td>Dec 27, 2020</td>\n",
       "      <td>5</td>\n",
       "      <td>37</td>\n",
       "    </tr>\n",
       "    <tr>\n",
       "      <th>2</th>\n",
       "      <td>2021-01-01</td>\n",
       "      <td>3</td>\n",
       "      <td>2.0</td>\n",
       "      <td>NaN</td>\n",
       "      <td>We Can Be Heroes</td>\n",
       "      <td>Movie</td>\n",
       "      <td>Yes</td>\n",
       "      <td>Dec 25, 2020</td>\n",
       "      <td>7</td>\n",
       "      <td>58</td>\n",
       "    </tr>\n",
       "    <tr>\n",
       "      <th>3</th>\n",
       "      <td>2021-01-01</td>\n",
       "      <td>4</td>\n",
       "      <td>NaN</td>\n",
       "      <td>NaN</td>\n",
       "      <td>Chilling Adventures of Sabrina</td>\n",
       "      <td>TV Show</td>\n",
       "      <td>Yes</td>\n",
       "      <td>Oct 26, 2018</td>\n",
       "      <td>1</td>\n",
       "      <td>7</td>\n",
       "    </tr>\n",
       "    <tr>\n",
       "      <th>4</th>\n",
       "      <td>2021-01-01</td>\n",
       "      <td>5</td>\n",
       "      <td>4.0</td>\n",
       "      <td>1.0</td>\n",
       "      <td>The Midnight Sky</td>\n",
       "      <td>Movie</td>\n",
       "      <td>Yes</td>\n",
       "      <td>Dec 23, 2020</td>\n",
       "      <td>9</td>\n",
       "      <td>77</td>\n",
       "    </tr>\n",
       "  </tbody>\n",
       "</table>\n",
       "</div>"
      ],
      "text/plain": [
       "        As of  Rank  Year to Date Rank  Last Week Rank  \\\n",
       "0  2021-01-01     1                1.0             NaN   \n",
       "1  2021-01-01     2                3.0             NaN   \n",
       "2  2021-01-01     3                2.0             NaN   \n",
       "3  2021-01-01     4                NaN             NaN   \n",
       "4  2021-01-01     5                4.0             1.0   \n",
       "\n",
       "                            Title     Type Netflix Exclusive  \\\n",
       "0                      Bridgerton  TV Show               Yes   \n",
       "1                   Death to 2020    Movie               Yes   \n",
       "2                We Can Be Heroes    Movie               Yes   \n",
       "3  Chilling Adventures of Sabrina  TV Show               Yes   \n",
       "4                The Midnight Sky    Movie               Yes   \n",
       "\n",
       "  Netflix Release Date  Days In Top 10  Viewership Score  \n",
       "0         Dec 25, 2020               7                67  \n",
       "1         Dec 27, 2020               5                37  \n",
       "2         Dec 25, 2020               7                58  \n",
       "3         Oct 26, 2018               1                 7  \n",
       "4         Dec 23, 2020               9                77  "
      ]
     },
     "metadata": {},
     "output_type": "display_data"
    },
    {
     "name": "stdout",
     "output_type": "stream",
     "text": [
      "<class 'pandas.core.frame.DataFrame'>\n",
      "RangeIndex: 3650 entries, 0 to 3649\n",
      "Data columns (total 10 columns):\n",
      " #   Column                Non-Null Count  Dtype  \n",
      "---  ------                --------------  -----  \n",
      " 0   As of                 3650 non-null   object \n",
      " 1   Rank                  3650 non-null   int64  \n",
      " 2   Year to Date Rank     3228 non-null   float64\n",
      " 3   Last Week Rank        1691 non-null   float64\n",
      " 4   Title                 3650 non-null   object \n",
      " 5   Type                  3650 non-null   object \n",
      " 6   Netflix Exclusive     2352 non-null   object \n",
      " 7   Netflix Release Date  3650 non-null   object \n",
      " 8   Days In Top 10        3650 non-null   int64  \n",
      " 9   Viewership Score      3650 non-null   int64  \n",
      "dtypes: float64(2), int64(3), object(5)\n",
      "memory usage: 285.3+ KB\n"
     ]
    }
   ],
   "source": [
    "# Read the file to a dataframe. DON'T CHANGE THE FILE PAHT. OTHERWISE GRADESCOPE CANNOT GRADE YOUR WORK\n",
    "df = pd.read_csv(\"netflix_show_ranking.csv\")\n",
    "# Display the top 5 rows to take a peek of the data\n",
    "display(df.head())\n",
    "# Use info() to get information such as names of columns, number of values not missing, and data types of columns\n",
    "df.info()"
   ]
  },
  {
   "cell_type": "markdown",
   "id": "958785c5",
   "metadata": {
    "deletable": false,
    "editable": false
   },
   "source": [
    "### Question 1\n",
    "For the 3 types of shows in the dataset: Movie, TV Show and Stand-Up Comedy, find the average number of days for each of the 10 rankings (1 to 10). The result should be a Series. Return the average number of days for Movies Ranked Top 1, the average number of days for TV shows Ranked Top 1, and the Series. The 3 values should be returned in this order. The second and third values to be returned can be retrieved from the Series. <font color='red'>Data should have been loaded in df in the code cell at the top of the file. Don't load data again in your code for this question</font>"
   ]
  },
  {
   "cell_type": "code",
   "execution_count": 4,
   "id": "ea5f259a",
   "metadata": {
    "tags": []
   },
   "outputs": [],
   "source": [
    "...\n",
    "### don't remove anything. Just add code to where noted\n",
    "def avg_days_top_1():\n",
    "    ### Your code starts \n",
    "    filtered_df = df[\n",
    "    df['Type'].isin(['Movie', 'TV Show', 'Stand-Up Comedy']) &\n",
    "    df['Rank'].between(1, 10)\n",
    "    ]\n",
    "    average_days = filtered_df.groupby(['Type', 'Rank'])['Days In Top 10'].mean()\n",
    "    try:\n",
    "        movie_rank1_avg = average_days.loc[('Movie', 1)]\n",
    "    except KeyError:\n",
    "        movie_rank1_avg = float('nan') \n",
    "    try:\n",
    "        tvshow_rank1_avg = average_days.loc[('TV Show', 1)]\n",
    "    except KeyError:\n",
    "        tvshow_rank1_avg = float('nan') \n",
    "    return movie_rank1_avg, tvshow_rank1_avg, average_days\n",
    "    \n",
    "    ### Your code ends (don't forget to return your result. Don't print it out) \n",
    "# You can uncomment the lines below to check your return values but you should comment out the code before submission\n",
    "# avg_days_top_1()"
   ]
  },
  {
   "cell_type": "code",
   "execution_count": 5,
   "id": "cc4f9d9a",
   "metadata": {
    "deletable": false,
    "editable": false
   },
   "outputs": [
    {
     "data": {
      "text/html": [
       "<p><strong><pre style='display: inline;'>q1</pre></strong> passed! 🙌</p><p><strong><pre style='display: inline;'>q1 - 1</pre> message:</strong> passed - The data file is stored in the same folder as the notebook</p><p><strong><pre style='display: inline;'>q1 - 2</pre> message:</strong> passed - avg_days_top_1() returned 3 values</p><p><strong><pre style='display: inline;'>q1 - 3</pre> message:</strong> passed - the first value returned is a float number</p><p><strong><pre style='display: inline;'>q1 - 4</pre> message:</strong> passed - the second value returned is a float number</p><p><strong><pre style='display: inline;'>q1 - 5</pre> message:</strong> passed - the third value returned is a Series</p>"
      ],
      "text/plain": [
       "q1 results: All test cases passed!\n",
       "q1 - 1 message: passed - The data file is stored in the same folder as the notebook\n",
       "q1 - 2 message: passed - avg_days_top_1() returned 3 values\n",
       "q1 - 3 message: passed - the first value returned is a float number\n",
       "q1 - 4 message: passed - the second value returned is a float number\n",
       "q1 - 5 message: passed - the third value returned is a Series"
      ]
     },
     "execution_count": 5,
     "metadata": {},
     "output_type": "execute_result"
    }
   ],
   "source": [
    "grader.check(\"q1\")"
   ]
  },
  {
   "cell_type": "markdown",
   "id": "124d4f95",
   "metadata": {
    "deletable": false,
    "editable": false
   },
   "source": [
    "### Question 2\n",
    "Create a pivot table using 'Rank' as rows, 'Type' as columns and 'Viewership Score' as values. Get both the mean and standard deviation. Use this pivot table to get the **ranks** of the highest average viewership scores for both Movie and TV Show along with the **viewership scores**. For example, Movies ranked number 1 have the highest viewership score 50. TV Shows ranked number 3 have the highest viewership score of 80. (These are madeup numbers for your understanding only.) Take the example, return values in this order and format: (1, 50), (3, 80), pivot table. In other words, return the rank and average viewership score for movie as a tuple, followed by the rank and average viewership score for TV Show as a tuple, followed by the pivot table created earlier.\n",
    "\n",
    "It is likely that the pivot table created is a DataFrame with multiple levels of index on the column. In this case, to get a column, you would use the syntax df[level1][level2] as the example we went over in class. You are familiar with df[columnname] syntax, just add another []. <font color='red'>Data should have been loaded in df in the code cell at the top of the file. Don't load data again in your code for this question</font>"
   ]
  },
  {
   "cell_type": "code",
   "execution_count": 6,
   "id": "ec487c87",
   "metadata": {
    "tags": []
   },
   "outputs": [],
   "source": [
    "...\n",
    "### don't remove anything. Just add code to where noted\n",
    "def get_viewership_pivottable():\n",
    "    ### Your code starts \n",
    "    pivot_table = pd.pivot_table(\n",
    "    df,\n",
    "    index='Rank',\n",
    "    columns='Type',\n",
    "    values='Viewership Score',\n",
    "    aggfunc=['mean', 'std']\n",
    "    )\n",
    "    movie_mean_scores = pivot_table['mean']['Movie']\n",
    "    movie_top_rank = movie_mean_scores.idxmax()\n",
    "    movie_top_score = movie_mean_scores.max()\n",
    "    movie_result = (int(movie_top_rank), float(movie_top_score))\n",
    "    tvshow_mean_scores = pivot_table['mean']['TV Show']\n",
    "    tvshow_top_rank = tvshow_mean_scores.idxmax()\n",
    "    tvshow_top_score = tvshow_mean_scores.max()\n",
    "    tvshow_result = (int(tvshow_top_rank), float(tvshow_top_score))\n",
    "    return movie_result, tvshow_result, pivot_table\n",
    "    \n",
    "    ### Your code ends (don't forget to return your result. Don't print it out) \n",
    "# You can uncomment the lines below to check your return values but you should comment out the code before submission\n",
    "# get_viewership_pivottable()[2]"
   ]
  },
  {
   "cell_type": "code",
   "execution_count": 7,
   "id": "7e4632b5",
   "metadata": {
    "deletable": false,
    "editable": false
   },
   "outputs": [
    {
     "data": {
      "text/html": [
       "<p><strong><pre style='display: inline;'>q2</pre></strong> passed! 🎉</p><p><strong><pre style='display: inline;'>q2 - 1</pre> message:</strong> passed - The top-level returned value contains 3 items</p><p><strong><pre style='display: inline;'>q2 - 2</pre> message:</strong> passed - The first value returned is a tuple</p><p><strong><pre style='display: inline;'>q2 - 3</pre> message:</strong> passed - The second value returned is a tuple</p><p><strong><pre style='display: inline;'>q2 - 4</pre> message:</strong> passed - The third value in the returned tuple is a DataFrame</p><p><strong><pre style='display: inline;'>q2 - 5</pre> message:</strong> passed - The first and second returned tuple should have 2 values each</p><p><strong><pre style='display: inline;'>q2 - 6</pre> message:</strong> passed - The created pivot table have 10 rows and 6 columns</p>"
      ],
      "text/plain": [
       "q2 results: All test cases passed!\n",
       "q2 - 1 message: passed - The top-level returned value contains 3 items\n",
       "q2 - 2 message: passed - The first value returned is a tuple\n",
       "q2 - 3 message: passed - The second value returned is a tuple\n",
       "q2 - 4 message: passed - The third value in the returned tuple is a DataFrame\n",
       "q2 - 5 message: passed - The first and second returned tuple should have 2 values each\n",
       "q2 - 6 message: passed - The created pivot table have 10 rows and 6 columns"
      ]
     },
     "execution_count": 7,
     "metadata": {},
     "output_type": "execute_result"
    }
   ],
   "source": [
    "grader.check(\"q2\")"
   ]
  },
  {
   "cell_type": "markdown",
   "id": "d0dc401d",
   "metadata": {
    "deletable": false,
    "editable": false
   },
   "source": [
    "### Question 3\n",
    "Concatenate data in 2 CSV files 'show_details1.csv' and 'show_details2.csv' into one dataframe using concat(). Make sure the rows from show_details1.csv is at the top of the resulting dataframe. The result should have a new RangeIndex as its row index without duplicate index numbers. This is practiced in class. You do need to load the data from the 2 CSV files into two dataframes first before concatenation is performed. Return the concatenated dataframe."
   ]
  },
  {
   "cell_type": "code",
   "execution_count": 8,
   "id": "0ff4ec35",
   "metadata": {
    "tags": []
   },
   "outputs": [
    {
     "data": {
      "text/html": [
       "<div>\n",
       "<style scoped>\n",
       "    .dataframe tbody tr th:only-of-type {\n",
       "        vertical-align: middle;\n",
       "    }\n",
       "\n",
       "    .dataframe tbody tr th {\n",
       "        vertical-align: top;\n",
       "    }\n",
       "\n",
       "    .dataframe thead th {\n",
       "        text-align: right;\n",
       "    }\n",
       "</style>\n",
       "<table border=\"1\" class=\"dataframe\">\n",
       "  <thead>\n",
       "    <tr style=\"text-align: right;\">\n",
       "      <th></th>\n",
       "      <th>Show Title</th>\n",
       "      <th>Directors</th>\n",
       "      <th>Stars</th>\n",
       "    </tr>\n",
       "  </thead>\n",
       "  <tbody>\n",
       "    <tr>\n",
       "      <th>0</th>\n",
       "      <td>Bridgerton</td>\n",
       "      <td>Chris Van Dusen</td>\n",
       "      <td>Phoebe Dynevor, Regé-Jean Page, Jonathan Bailey</td>\n",
       "    </tr>\n",
       "    <tr>\n",
       "      <th>1</th>\n",
       "      <td>Cobra Kai</td>\n",
       "      <td>Hayden Schlossberg</td>\n",
       "      <td>Ralph Macchio, William Zabka, Xolo Maridueña</td>\n",
       "    </tr>\n",
       "    <tr>\n",
       "      <th>2</th>\n",
       "      <td>Night Stalker</td>\n",
       "      <td>Tiller Russell</td>\n",
       "      <td>Richard Ramirez (subject), Gil Carrillo, Frank...</td>\n",
       "    </tr>\n",
       "    <tr>\n",
       "      <th>3</th>\n",
       "      <td>Outside the Wire</td>\n",
       "      <td>Mikael Håfström</td>\n",
       "      <td>Anthony Mackie, Damson Idris, Enzo Cilenti</td>\n",
       "    </tr>\n",
       "    <tr>\n",
       "      <th>4</th>\n",
       "      <td>Fate: The Winx Saga</td>\n",
       "      <td>Lisa James Larsson</td>\n",
       "      <td>Abigail Cowen, Hannah van der Westhuysen, Prec...</td>\n",
       "    </tr>\n",
       "    <tr>\n",
       "      <th>5</th>\n",
       "      <td>Below Zero</td>\n",
       "      <td>Lluis Quílez</td>\n",
       "      <td>Javier Gutiérrez, Karra Elejalde, Luis Callejo</td>\n",
       "    </tr>\n",
       "    <tr>\n",
       "      <th>6</th>\n",
       "      <td>Firefly Lane</td>\n",
       "      <td>Peter O'Fallon</td>\n",
       "      <td>Katherine Heigl, Sarah Chalke, Ben Lawson</td>\n",
       "    </tr>\n",
       "    <tr>\n",
       "      <th>7</th>\n",
       "      <td>Crime Scene: The Vanishing</td>\n",
       "      <td>Joe Berlinger</td>\n",
       "      <td>Frank Cifarelli, Amy Price, retired LAPD offic...</td>\n",
       "    </tr>\n",
       "    <tr>\n",
       "      <th>8</th>\n",
       "      <td>To All the Boys: Always and…</td>\n",
       "      <td>Michael Fimognari</td>\n",
       "      <td>Lana Condor, Noah Centineo, Janel Parrish</td>\n",
       "    </tr>\n",
       "    <tr>\n",
       "      <th>9</th>\n",
       "      <td>Good Girls</td>\n",
       "      <td>Dean Parisot</td>\n",
       "      <td>Christina Hendricks, Retta, Mae Whitman</td>\n",
       "    </tr>\n",
       "    <tr>\n",
       "      <th>10</th>\n",
       "      <td>Behind Her Eyes</td>\n",
       "      <td>Erik Richter Strand</td>\n",
       "      <td>Simona Brown, Tom Bateman, Eve Hewson</td>\n",
       "    </tr>\n",
       "    <tr>\n",
       "      <th>11</th>\n",
       "      <td>I Care a Lot</td>\n",
       "      <td>J Blakeson</td>\n",
       "      <td>Rosamund Pike, Peter Dinklage, Eiza González</td>\n",
       "    </tr>\n",
       "    <tr>\n",
       "      <th>12</th>\n",
       "      <td>Ginny &amp; Georgia</td>\n",
       "      <td>Anya Adams</td>\n",
       "      <td>Brianne Howey, Antonia Gentry, Diesel La Torraca</td>\n",
       "    </tr>\n",
       "    <tr>\n",
       "      <th>13</th>\n",
       "      <td>Yes Day</td>\n",
       "      <td>Miguel Arteta</td>\n",
       "      <td>Jennifer Garner, Édgar Ramírez, Jenna Ortega</td>\n",
       "    </tr>\n",
       "    <tr>\n",
       "      <th>14</th>\n",
       "      <td>Deadly Illusions</td>\n",
       "      <td>Anna Elizabeth James</td>\n",
       "      <td>Kristin Davis, Dermot Mulroney, Greer Grammer</td>\n",
       "    </tr>\n",
       "    <tr>\n",
       "      <th>15</th>\n",
       "      <td>Who Killed Sara?</td>\n",
       "      <td>José Ignacio Valenzuela</td>\n",
       "      <td>Manolo Cardona, Carolina Miranda, Ginés García...</td>\n",
       "    </tr>\n",
       "    <tr>\n",
       "      <th>16</th>\n",
       "      <td>Bad Trip</td>\n",
       "      <td>Kitao Sakurai</td>\n",
       "      <td>Eric André, Lil Rel Howery, Tiffany Haddish</td>\n",
       "    </tr>\n",
       "    <tr>\n",
       "      <th>17</th>\n",
       "      <td>What Lies Below</td>\n",
       "      <td>Braden R. Duemmler</td>\n",
       "      <td>Ema Horvath, Trey Tucker, Mena Suvari</td>\n",
       "    </tr>\n",
       "    <tr>\n",
       "      <th>18</th>\n",
       "      <td>Thunder Force</td>\n",
       "      <td>Ben Falcone</td>\n",
       "      <td>Melissa McCarthy, Octavia Spencer, Jason Bateman</td>\n",
       "    </tr>\n",
       "    <tr>\n",
       "      <th>19</th>\n",
       "      <td>Dad Stop Embarrassing Me!</td>\n",
       "      <td>Ken Whittingham, others</td>\n",
       "      <td>Jamie Foxx, Kyla-Drew, David Alan Grier</td>\n",
       "    </tr>\n",
       "    <tr>\n",
       "      <th>20</th>\n",
       "      <td>Synchronic</td>\n",
       "      <td>Justin Benson, Aaron Moorhead</td>\n",
       "      <td>Anthony Mackie, Jamie Dornan, Ally Ioannides</td>\n",
       "    </tr>\n",
       "    <tr>\n",
       "      <th>21</th>\n",
       "      <td>The Baker and the Beauty</td>\n",
       "      <td>David Frankel, others</td>\n",
       "      <td>Victor Rasuk, Nathalie Kelley, Dan Bucatinsky</td>\n",
       "    </tr>\n",
       "    <tr>\n",
       "      <th>22</th>\n",
       "      <td>The Circle US</td>\n",
       "      <td>Michelle Buteau (host)</td>\n",
       "      <td>DeLeesa St. Agathe, Courtney Revolution, others</td>\n",
       "    </tr>\n",
       "    <tr>\n",
       "      <th>23</th>\n",
       "      <td>Shadow and Bone</td>\n",
       "      <td>Mairzee Almas, others</td>\n",
       "      <td>Jessie Mei Li, Ben Barnes, Archie Renaux</td>\n",
       "    </tr>\n",
       "    <tr>\n",
       "      <th>24</th>\n",
       "      <td>The Mitchells vs. The Machines</td>\n",
       "      <td>Mike Rianda</td>\n",
       "      <td>Danny McBride, Abbi Jacobson, Maya Rudolph</td>\n",
       "    </tr>\n",
       "    <tr>\n",
       "      <th>25</th>\n",
       "      <td>The Sons of Sam</td>\n",
       "      <td>Joshua Zeman</td>\n",
       "      <td>Documentary Series</td>\n",
       "    </tr>\n",
       "    <tr>\n",
       "      <th>26</th>\n",
       "      <td>Jupiter's Legacy</td>\n",
       "      <td>Steven S. DeKnight</td>\n",
       "      <td>Josh Duhamel, Ben Daniels, Leslie Bibb</td>\n",
       "    </tr>\n",
       "    <tr>\n",
       "      <th>27</th>\n",
       "      <td>The Upshaws</td>\n",
       "      <td>Sheldon Epps, others</td>\n",
       "      <td>Mike Epps, Wanda Sykes, Kim Fields</td>\n",
       "    </tr>\n",
       "    <tr>\n",
       "      <th>28</th>\n",
       "      <td>The Woman in the Window</td>\n",
       "      <td>Joe Wright</td>\n",
       "      <td>Amy Adams, Gary Oldman, Anthony Mackie</td>\n",
       "    </tr>\n",
       "    <tr>\n",
       "      <th>29</th>\n",
       "      <td>Army of the Dead</td>\n",
       "      <td>Zack Snyder</td>\n",
       "      <td>Dave Bautista, Ella Purnell, Omari Hardwick</td>\n",
       "    </tr>\n",
       "  </tbody>\n",
       "</table>\n",
       "</div>"
      ],
      "text/plain": [
       "                        Show Title                      Directors  \\\n",
       "0                       Bridgerton                Chris Van Dusen   \n",
       "1                        Cobra Kai             Hayden Schlossberg   \n",
       "2                    Night Stalker                 Tiller Russell   \n",
       "3                 Outside the Wire                Mikael Håfström   \n",
       "4              Fate: The Winx Saga             Lisa James Larsson   \n",
       "5                       Below Zero                   Lluis Quílez   \n",
       "6                     Firefly Lane                 Peter O'Fallon   \n",
       "7       Crime Scene: The Vanishing                  Joe Berlinger   \n",
       "8     To All the Boys: Always and…              Michael Fimognari   \n",
       "9                       Good Girls                   Dean Parisot   \n",
       "10                 Behind Her Eyes            Erik Richter Strand   \n",
       "11                    I Care a Lot                     J Blakeson   \n",
       "12                 Ginny & Georgia                     Anya Adams   \n",
       "13                         Yes Day                  Miguel Arteta   \n",
       "14                Deadly Illusions           Anna Elizabeth James   \n",
       "15                Who Killed Sara?        José Ignacio Valenzuela   \n",
       "16                        Bad Trip                  Kitao Sakurai   \n",
       "17                 What Lies Below             Braden R. Duemmler   \n",
       "18                   Thunder Force                    Ben Falcone   \n",
       "19       Dad Stop Embarrassing Me!        Ken Whittingham, others   \n",
       "20                      Synchronic  Justin Benson, Aaron Moorhead   \n",
       "21        The Baker and the Beauty          David Frankel, others   \n",
       "22                   The Circle US         Michelle Buteau (host)   \n",
       "23                 Shadow and Bone          Mairzee Almas, others   \n",
       "24  The Mitchells vs. The Machines                    Mike Rianda   \n",
       "25                 The Sons of Sam                   Joshua Zeman   \n",
       "26                Jupiter's Legacy             Steven S. DeKnight   \n",
       "27                     The Upshaws           Sheldon Epps, others   \n",
       "28         The Woman in the Window                     Joe Wright   \n",
       "29                Army of the Dead                    Zack Snyder   \n",
       "\n",
       "                                                Stars  \n",
       "0     Phoebe Dynevor, Regé-Jean Page, Jonathan Bailey  \n",
       "1        Ralph Macchio, William Zabka, Xolo Maridueña  \n",
       "2   Richard Ramirez (subject), Gil Carrillo, Frank...  \n",
       "3          Anthony Mackie, Damson Idris, Enzo Cilenti  \n",
       "4   Abigail Cowen, Hannah van der Westhuysen, Prec...  \n",
       "5      Javier Gutiérrez, Karra Elejalde, Luis Callejo  \n",
       "6           Katherine Heigl, Sarah Chalke, Ben Lawson  \n",
       "7   Frank Cifarelli, Amy Price, retired LAPD offic...  \n",
       "8           Lana Condor, Noah Centineo, Janel Parrish  \n",
       "9             Christina Hendricks, Retta, Mae Whitman  \n",
       "10              Simona Brown, Tom Bateman, Eve Hewson  \n",
       "11       Rosamund Pike, Peter Dinklage, Eiza González  \n",
       "12   Brianne Howey, Antonia Gentry, Diesel La Torraca  \n",
       "13       Jennifer Garner, Édgar Ramírez, Jenna Ortega  \n",
       "14      Kristin Davis, Dermot Mulroney, Greer Grammer  \n",
       "15  Manolo Cardona, Carolina Miranda, Ginés García...  \n",
       "16        Eric André, Lil Rel Howery, Tiffany Haddish  \n",
       "17              Ema Horvath, Trey Tucker, Mena Suvari  \n",
       "18   Melissa McCarthy, Octavia Spencer, Jason Bateman  \n",
       "19            Jamie Foxx, Kyla-Drew, David Alan Grier  \n",
       "20       Anthony Mackie, Jamie Dornan, Ally Ioannides  \n",
       "21      Victor Rasuk, Nathalie Kelley, Dan Bucatinsky  \n",
       "22    DeLeesa St. Agathe, Courtney Revolution, others  \n",
       "23           Jessie Mei Li, Ben Barnes, Archie Renaux  \n",
       "24         Danny McBride, Abbi Jacobson, Maya Rudolph  \n",
       "25                                 Documentary Series  \n",
       "26             Josh Duhamel, Ben Daniels, Leslie Bibb  \n",
       "27                 Mike Epps, Wanda Sykes, Kim Fields  \n",
       "28             Amy Adams, Gary Oldman, Anthony Mackie  \n",
       "29        Dave Bautista, Ella Purnell, Omari Hardwick  "
      ]
     },
     "execution_count": 8,
     "metadata": {},
     "output_type": "execute_result"
    }
   ],
   "source": [
    "...\n",
    "### don't remove anything. Just add code to where noted\n",
    "def concat_show_details():\n",
    "    ### Your code starts \n",
    "    df1 = pd.read_csv('show_details1.csv')\n",
    "    df2 = pd.read_csv('show_details2.csv')\n",
    "    concatenated_df = pd.concat([df1, df2], ignore_index=True)  \n",
    "    return concatenated_df\n",
    "    \n",
    "    ### Your code ends (don't forget to return your result. Don't print it out) \n",
    "# You can uncomment the lines below to check your return values but you should comment out the code before submission\n",
    "concat_show_details()"
   ]
  },
  {
   "cell_type": "code",
   "execution_count": 9,
   "id": "c16552f9",
   "metadata": {
    "deletable": false,
    "editable": false
   },
   "outputs": [
    {
     "data": {
      "text/html": [
       "<p><strong><pre style='display: inline;'>q3</pre></strong> passed! 🌟</p><p><strong><pre style='display: inline;'>q3 - 1</pre> message:</strong> passed - The returned value is a DataFrame</p><p><strong><pre style='display: inline;'>q3 - 2</pre> message:</strong> passed - The returned DataFrame has 30 rows and 3 columns</p><p><strong><pre style='display: inline;'>q3 - 3</pre> message:</strong> passed - A new RangeIndex is created for the concatenated DataFrame</p>"
      ],
      "text/plain": [
       "q3 results: All test cases passed!\n",
       "q3 - 1 message: passed - The returned value is a DataFrame\n",
       "q3 - 2 message: passed - The returned DataFrame has 30 rows and 3 columns\n",
       "q3 - 3 message: passed - A new RangeIndex is created for the concatenated DataFrame"
      ]
     },
     "execution_count": 9,
     "metadata": {},
     "output_type": "execute_result"
    }
   ],
   "source": [
    "grader.check(\"q3\")"
   ]
  },
  {
   "cell_type": "markdown",
   "id": "fa976258",
   "metadata": {
    "deletable": false,
    "editable": false
   },
   "source": [
    "### Question 4\n",
    "Take the concatenated show details and merge it with the dataframe 'df' loaded with netflix data. In other words, you can call the function created in question 3 'concat_show_details()' to get the details and merge() the two dataframes. Note the following:\n",
    "- Use inner join\n",
    "- Note the the names of the columns to be matched are not the same. This needs to be handled in merge()\n",
    "- The merged dataframe returned will contain all the columns from both dataframes. Remove the duplicate column (the column names are different but the values are the same)\n",
    "- Return the final dataframe\n",
    "\n",
    "<font color='red'>Data should have been loaded in df in the code cell at the top of the file and in the function concat_show_details(). Don't load data again in your code for this question</font>"
   ]
  },
  {
   "cell_type": "code",
   "execution_count": 10,
   "id": "2c64471f",
   "metadata": {
    "tags": []
   },
   "outputs": [],
   "source": [
    "...\n",
    "### don't remove anything. Just add code to where noted\n",
    "def inner_join_show_dfs():\n",
    "    ### Your code starts \n",
    "    details_df = concat_show_details()\n",
    "    merge_left_on = 'Title'         \n",
    "    merge_right_on = 'Show Title'  \n",
    "    merged_df = pd.merge(\n",
    "        df, \n",
    "        details_df, \n",
    "        how='inner', \n",
    "        left_on=merge_left_on, \n",
    "        right_on=merge_right_on\n",
    "    )\n",
    "    merged_df = merged_df.drop(columns=[merge_right_on])\n",
    "    merged_df.reset_index(drop=True, inplace=True)\n",
    "    return merged_df\n",
    "    \n",
    "    ### Your code ends (don't forget to return your result. Don't print it out) \n",
    "# You can uncomment the lines below to check your return values but you should comment out the code before submission\n",
    "# inner_join_show_dfs()"
   ]
  },
  {
   "cell_type": "code",
   "execution_count": 11,
   "id": "570a9776",
   "metadata": {
    "deletable": false,
    "editable": false
   },
   "outputs": [
    {
     "data": {
      "text/html": [
       "<p><strong><pre style='display: inline;'>q4</pre></strong> passed! 🍀</p><p><strong><pre style='display: inline;'>q4 - 1</pre> message:</strong> passed - The returned value is a dataframe</p><p><strong><pre style='display: inline;'>q4 - 2</pre> message:</strong> passed - The returned dataframe has 491 rows and 12 columns</p>"
      ],
      "text/plain": [
       "q4 results: All test cases passed!\n",
       "q4 - 1 message: passed - The returned value is a dataframe\n",
       "q4 - 2 message: passed - The returned dataframe has 491 rows and 12 columns"
      ]
     },
     "execution_count": 11,
     "metadata": {},
     "output_type": "execute_result"
    }
   ],
   "source": [
    "grader.check(\"q4\")"
   ]
  },
  {
   "cell_type": "markdown",
   "id": "7a21f503",
   "metadata": {
    "deletable": false,
    "editable": false
   },
   "source": [
    "## Submission\n",
    "\n",
    "Make sure you have run all cells in your notebook in order before running the cell below, so that all images/graphs appear in the output. The cell below will generate a zip file for you to submit. **Please save before exporting!**"
   ]
  },
  {
   "cell_type": "code",
   "execution_count": 12,
   "id": "13223e50",
   "metadata": {
    "deletable": false,
    "editable": false
   },
   "outputs": [
    {
     "name": "stdout",
     "output_type": "stream",
     "text": [
      "Running your submission against local test cases...\n",
      "\n",
      "\n",
      "Your submission received the following results when run against available test cases:\n",
      "\n",
      "    q1 results: All test cases passed!\n",
      "    q1 - 1 message: passed - The data file is stored in the same folder as the notebook\n",
      "    q1 - 2 message: passed - avg_days_top_1() returned 3 values\n",
      "    q1 - 3 message: passed - the first value returned is a float number\n",
      "    q1 - 4 message: passed - the second value returned is a float number\n",
      "    q1 - 5 message: passed - the third value returned is a Series\n",
      "\n",
      "    q2 results: All test cases passed!\n",
      "    q2 - 1 message: passed - The top-level returned value contains 3 items\n",
      "    q2 - 2 message: passed - The first value returned is a tuple\n",
      "    q2 - 3 message: passed - The second value returned is a tuple\n",
      "    q2 - 4 message: passed - The third value in the returned tuple is a DataFrame\n",
      "    q2 - 5 message: passed - The first and second returned tuple should have 2 values each\n",
      "    q2 - 6 message: passed - The created pivot table have 10 rows and 6 columns\n",
      "\n",
      "    q3 results: All test cases passed!\n",
      "    q3 - 1 message: passed - The returned value is a DataFrame\n",
      "    q3 - 2 message: passed - The returned DataFrame has 30 rows and 3 columns\n",
      "    q3 - 3 message: passed - A new RangeIndex is created for the concatenated DataFrame\n",
      "\n",
      "    q4 results: All test cases passed!\n",
      "    q4 - 1 message: passed - The returned value is a dataframe\n",
      "    q4 - 2 message: passed - The returned dataframe has 491 rows and 12 columns\n"
     ]
    },
    {
     "data": {
      "text/html": [
       "\n",
       "                    <p>\n",
       "                        Your submission has been exported. Click\n",
       "                        <a href=\"Coding_Exercise_12_2024_11_15T20_31_33_673610.zip\" download=\"Coding_Exercise_12_2024_11_15T20_31_33_673610.zip\" target=\"_blank\">here</a> to download\n",
       "                        the zip file.\n",
       "                    </p>\n",
       "                "
      ],
      "text/plain": [
       "<IPython.core.display.HTML object>"
      ]
     },
     "metadata": {},
     "output_type": "display_data"
    }
   ],
   "source": [
    "# Save your notebook first, then run this cell to export your submission.\n",
    "grader.export(pdf=False, run_tests=True)"
   ]
  },
  {
   "cell_type": "markdown",
   "id": "19ab6bb6",
   "metadata": {},
   "source": [
    " "
   ]
  }
 ],
 "metadata": {
  "kernelspec": {
   "display_name": "base",
   "language": "python",
   "name": "python3"
  },
  "language_info": {
   "codemirror_mode": {
    "name": "ipython",
    "version": 3
   },
   "file_extension": ".py",
   "mimetype": "text/x-python",
   "name": "python",
   "nbconvert_exporter": "python",
   "pygments_lexer": "ipython3",
   "version": "3.12.2"
  },
  "otter": {
   "OK_FORMAT": true,
   "tests": {
    "q1": {
     "name": "q1",
     "points": 25,
     "suites": [
      {
       "cases": [
        {
         "code": ">>> temp_df = pd.read_csv('netflix_show_ranking.csv')\n>>> assert temp_df.shape[0] == 3650\n",
         "failure_message": "Did you stored the data file in the same folder as the notebook?",
         "hidden": false,
         "locked": false,
         "points": 2,
         "success_message": "passed - The data file is stored in the same folder as the notebook"
        },
        {
         "code": ">>> assert len(avg_days_top_1()) == 3\n",
         "failure_message": "avg_days_top_1() must return 3 values",
         "hidden": false,
         "locked": false,
         "points": 2,
         "success_message": "passed - avg_days_top_1() returned 3 values"
        },
        {
         "code": ">>> assert isinstance(avg_days_top_1()[0], np.float64)\n",
         "failure_message": "Is the first value returned a float number?",
         "hidden": false,
         "locked": false,
         "points": 2,
         "success_message": "passed - the first value returned is a float number"
        },
        {
         "code": ">>> assert isinstance(avg_days_top_1()[1], np.float64)\n",
         "failure_message": "Is the second value returned a float number?",
         "hidden": false,
         "locked": false,
         "points": 2,
         "success_message": "passed - the second value returned is a float number"
        },
        {
         "code": ">>> assert isinstance(avg_days_top_1()[2], pd.Series)\n",
         "failure_message": "Is the third value returned a Series?",
         "hidden": false,
         "locked": false,
         "points": 2,
         "success_message": "passed - the third value returned is a Series"
        }
       ],
       "scored": true,
       "setup": "",
       "teardown": "",
       "type": "doctest"
      }
     ]
    },
    "q2": {
     "name": "q2",
     "points": 25,
     "suites": [
      {
       "cases": [
        {
         "code": ">>> assert len(get_viewership_pivottable()) == 3\n",
         "failure_message": "The top-level returned value should contain 3 items",
         "hidden": false,
         "locked": false,
         "points": 2,
         "success_message": "passed - The top-level returned value contains 3 items"
        },
        {
         "code": ">>> assert isinstance(get_viewership_pivottable()[0], tuple)\n",
         "failure_message": "The first value returned must be a tuple",
         "hidden": false,
         "locked": false,
         "points": 2,
         "success_message": "passed - The first value returned is a tuple"
        },
        {
         "code": ">>> assert isinstance(get_viewership_pivottable()[1], tuple)\n",
         "failure_message": "The second value returned must be a tuple",
         "hidden": false,
         "locked": false,
         "points": 2,
         "success_message": "passed - The second value returned is a tuple"
        },
        {
         "code": ">>> assert isinstance(get_viewership_pivottable()[2], pd.DataFrame)\n",
         "failure_message": "The third value in the returned tuple should be a DataFrame",
         "hidden": false,
         "locked": false,
         "points": 2,
         "success_message": "passed - The third value in the returned tuple is a DataFrame"
        },
        {
         "code": ">>> assert len(get_viewership_pivottable()[0]) == 2 and len(get_viewership_pivottable()[1]) == 2\n",
         "failure_message": "The first and second returned tuple should have 2 values each",
         "hidden": false,
         "locked": false,
         "points": 2,
         "success_message": "passed - The first and second returned tuple should have 2 values each"
        },
        {
         "code": ">>> assert get_viewership_pivottable()[2].shape == (10, 6)\n",
         "failure_message": "The created pivot table should have 10 rows and 6 columns",
         "hidden": false,
         "locked": false,
         "points": 2,
         "success_message": "passed - The created pivot table have 10 rows and 6 columns"
        }
       ],
       "scored": true,
       "setup": "",
       "teardown": "",
       "type": "doctest"
      }
     ]
    },
    "q3": {
     "name": "q3",
     "points": 25,
     "suites": [
      {
       "cases": [
        {
         "code": ">>> assert isinstance(concat_show_details(), pd.DataFrame)\n",
         "failure_message": "The returned value should be a DataFrame",
         "hidden": false,
         "locked": false,
         "points": 5,
         "success_message": "passed - The returned value is a DataFrame"
        },
        {
         "code": ">>> assert concat_show_details().shape == (30, 3)\n",
         "failure_message": "The returned DataFrame should have 30 rows and 3 columns",
         "hidden": false,
         "locked": false,
         "points": 5,
         "success_message": "passed - The returned DataFrame has 30 rows and 3 columns"
        },
        {
         "code": ">>> assert concat_show_details().index.stop == 30\n",
         "failure_message": "Have you changed the index of the concatenated DataFrame",
         "hidden": false,
         "locked": false,
         "points": 5,
         "success_message": "passed - A new RangeIndex is created for the concatenated DataFrame"
        }
       ],
       "scored": true,
       "setup": "",
       "teardown": "",
       "type": "doctest"
      }
     ]
    },
    "q4": {
     "name": "q4",
     "points": 25,
     "suites": [
      {
       "cases": [
        {
         "code": ">>> assert isinstance(inner_join_show_dfs(), pd.DataFrame)\n",
         "failure_message": "The returned value should be a dataframe",
         "hidden": false,
         "locked": false,
         "points": 6,
         "success_message": "passed - The returned value is a dataframe"
        },
        {
         "code": ">>> assert inner_join_show_dfs().shape == (491, 12)\n",
         "failure_message": "The returned dataframe should have 491 rows and 12 columns",
         "hidden": false,
         "locked": false,
         "points": 6.5,
         "success_message": "passed - The returned dataframe has 491 rows and 12 columns"
        }
       ],
       "scored": true,
       "setup": "",
       "teardown": "",
       "type": "doctest"
      }
     ]
    }
   }
  }
 },
 "nbformat": 4,
 "nbformat_minor": 5
}
