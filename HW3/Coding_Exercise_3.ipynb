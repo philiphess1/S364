{
 "cells": [
  {
   "cell_type": "code",
   "execution_count": 1,
   "id": "8eb3bd31",
   "metadata": {
    "deletable": false,
    "editable": false
   },
   "outputs": [],
   "source": [
    "# Initialize Otter\n",
    "import otter\n",
    "grader = otter.Notebook(\"Coding_Exercise_3.ipynb\")"
   ]
  },
  {
   "cell_type": "markdown",
   "id": "a656f24c",
   "metadata": {},
   "source": [
    "# Week 3 Coding Exercise\n",
    "<font color=\"red\">Please don't insert or delete any cells on this notebook. Don't delete any existing text in any cells either </font>"
   ]
  },
  {
   "cell_type": "markdown",
   "id": "b9c7b7dc",
   "metadata": {
    "deletable": false,
    "editable": false
   },
   "source": [
    "### Question 1\n",
    "Write a for loop in the following cell to see how many multiples of 7 are between two variables **lower_int** and **higher_int**:\n",
    "- The acumulator variable **total_multiples_of_7** has been created for you already\n",
    "- Use a for loop to check every integer between **lower_int** and **higher_int**. If it is a multiple of 7 (meaning that the remainder of dividing that number by 7 is 0. For example, 7, 14, 21, etc. are multiples of 7), add this integer to  **total_multiples_of_7**\n",
    "    - Use % to check whether a number is a multiple of 7\n",
    "    - Both **lower_int** and **higher_int** should be also be checked. In other words, they are included\n",
    "    - If lower_int is 7 and higher_int is 35, the **total_multiples_of_7** should be 5 when the loop completes\n",
    "- Assume **lower_int** and **higher_int** will be integers and **lower_int** <= **higher_int**. These two arguments will be set for each test so you don't need to set any values in your code. Just use them as variables."
   ]
  },
  {
   "cell_type": "code",
   "execution_count": 2,
   "id": "536ed00b",
   "metadata": {
    "tags": []
   },
   "outputs": [],
   "source": [
    "...\n",
    "### don't remove anything. Just add code to where noted\n",
    "def multiples_of_7(lower_int, higher_int):\n",
    "    total_multiples_of_7 = 0\n",
    "    ### Your code starts (write a for loop. Use modulo % to find if a number is multiple of 7)\n",
    "    for i in range(lower_int, higher_int+1):\n",
    "        if i % 7 == 0:\n",
    "            total_multiples_of_7 += 1\n",
    "    \n",
    "    ### Your code ends\n",
    "    return total_multiples_of_7\n",
    "# You can uncomment the lines below to check your return values but you should comment out the code before submission\n",
    "# If you write print() in the code to check your work, you should remove them or comment them out before submission\n",
    "# multiples_of_7(7, 35) # you should get 5"
   ]
  },
  {
   "cell_type": "code",
   "execution_count": 3,
   "id": "80fef3b8",
   "metadata": {
    "deletable": false,
    "editable": false
   },
   "outputs": [
    {
     "data": {
      "text/html": [
       "<p><strong><pre style='display: inline;'>q1</pre></strong> passed! 🚀</p><p><strong><pre style='display: inline;'>q1 - 1</pre> message:</strong> passed</p><p><strong><pre style='display: inline;'>q1 - 2</pre> message:</strong> passed</p><p><strong><pre style='display: inline;'>q1 - 3</pre> message:</strong> passed</p>"
      ],
      "text/plain": [
       "q1 results: All test cases passed!\n",
       "q1 - 1 message: passed\n",
       "q1 - 2 message: passed\n",
       "q1 - 3 message: passed"
      ]
     },
     "execution_count": 3,
     "metadata": {},
     "output_type": "execute_result"
    }
   ],
   "source": [
    "grader.check(\"q1\")"
   ]
  },
  {
   "cell_type": "markdown",
   "id": "79475b6a",
   "metadata": {
    "deletable": false,
    "editable": false
   },
   "source": [
    "### Question 2\n",
    "We did an exercise in class to print out 4 lines of integers given an integer 4 like the following: \\\n",
    "1 \\\n",
    "1 2 \\\n",
    "1 2 3 \\\n",
    "1 2 3 4 \\\n",
    "Now, instead of print out the numbers, get the total of all the numbers that would be displayed. And program it to be flexible so if a variable **integer** is used to hold the integer, the total would change base on the value stored in **integer**. For example, \n",
    "- for number 1, the total is 1\n",
    "- for number 2, the total is 4\n",
    "- for number 3, the total is 10\n",
    "- etc.\n",
    "\n",
    "Tip: Nested for loop is most suitable to solve this problem. We worked in class to write the nested for loop. You can use the for loop directly. Just add all the numbers together.\n",
    "\n",
    "Assume **integer** wil be an integer. This argument will be set for each test so you don't need to set any value in your code. Just use it as a variable."
   ]
  },
  {
   "cell_type": "code",
   "execution_count": 4,
   "id": "0181da08",
   "metadata": {
    "tags": []
   },
   "outputs": [],
   "source": [
    "...\n",
    "### don't remove anything. Just add code to where noted\n",
    "def get_accumulated_total(integer):\n",
    "    total = 0\n",
    "    ### Your code starts\n",
    "    for i in range(1, integer + 1):\n",
    "        total += sum(range(1, i + 1))\n",
    "    return total \n",
    "    \n",
    "    ### Your code ends\n",
    "    return total\n",
    "# You can uncomment the lines below to check your return values but you should comment out the code before submission\n",
    "# If you write print() in the code to check your work, you should remove them or comment them out before submission\n",
    "# get_accumulated_total(3) # the output should be 10"
   ]
  },
  {
   "cell_type": "code",
   "execution_count": 5,
   "id": "90883837",
   "metadata": {
    "deletable": false,
    "editable": false
   },
   "outputs": [
    {
     "data": {
      "text/html": [
       "<p><strong><pre style='display: inline;'>q2</pre></strong> passed! ✨</p><p><strong><pre style='display: inline;'>q2 - 1</pre> message:</strong> correct</p><p><strong><pre style='display: inline;'>q2 - 2</pre> message:</strong> correct</p><p><strong><pre style='display: inline;'>q2 - 3</pre> message:</strong> correct</p>"
      ],
      "text/plain": [
       "q2 results: All test cases passed!\n",
       "q2 - 1 message: correct\n",
       "q2 - 2 message: correct\n",
       "q2 - 3 message: correct"
      ]
     },
     "execution_count": 5,
     "metadata": {},
     "output_type": "execute_result"
    }
   ],
   "source": [
    "grader.check(\"q2\")"
   ]
  },
  {
   "cell_type": "markdown",
   "id": "98ab1046",
   "metadata": {
    "deletable": false,
    "editable": false
   },
   "source": [
    "### Question 3\n",
    "Find all the numbers that are power of 2 (such as 4, 8, 16, etc.) using a while loop. The numbers found should be less than or equal to 5000. Concatenate all the power of 2 found in one string like the following in <ins>one line seperated by spaces</ins>: <pre> 2 4 8 16 32 64 128 256 512 1024 2048 4096 </pre> \n",
    "Tips:\n",
    "- Use a while loop\n",
    "- Two variables needed outside of the loop have been created for you already. **power_of_2** should increase by multipling by 2 with each loop iteration. **numbers_str** is used to hold all the powers of 2 with concatenation in each iteration.\n",
    "- Remember string concatenation uses the + operator. All powers of 2 within 5000 should be displayed in a string on one line."
   ]
  },
  {
   "cell_type": "code",
   "execution_count": 6,
   "id": "11615f25",
   "metadata": {
    "tags": []
   },
   "outputs": [],
   "source": [
    "...\n",
    "### don't remove anything. Just add code to where noted\n",
    "def get_power_of_2():\n",
    "    power_of_2 = 2 \n",
    "    numbers_str = \"\"\n",
    "    ### Your code starts\n",
    "    while power_of_2 <= 5000:\n",
    "        numbers_str += str(power_of_2) + \" \"\n",
    "        power_of_2 *= 2\n",
    "    \n",
    "    ### Your code ends\n",
    "    return numbers_str\n",
    "# You can uncomment the lines below to check your return values but you should comment out the code before submission\n",
    "# If you write print() in the code to check your work, you should remove them or comment them out before submission\n",
    "# get_power_of_2() # should get '2 4 8 16 32 64 128 256 512 1024 2048 4096 '"
   ]
  },
  {
   "cell_type": "code",
   "execution_count": 7,
   "id": "608704fe",
   "metadata": {
    "deletable": false,
    "editable": false
   },
   "outputs": [
    {
     "data": {
      "text/html": [
       "<p><strong><pre style='display: inline;'>q3</pre></strong> passed! 🚀</p><p><strong><pre style='display: inline;'>q3 - 1</pre> message:</strong> the total number of power of 2 found <=5000 is correct</p><p><strong><pre style='display: inline;'>q3 - 2</pre> message:</strong> the smallest power of 2 found is correct</p>"
      ],
      "text/plain": [
       "q3 results: All test cases passed!\n",
       "q3 - 1 message: the total number of power of 2 found <=5000 is correct\n",
       "q3 - 2 message: the smallest power of 2 found is correct"
      ]
     },
     "execution_count": 7,
     "metadata": {},
     "output_type": "execute_result"
    }
   ],
   "source": [
    "grader.check(\"q3\")"
   ]
  },
  {
   "cell_type": "markdown",
   "id": "ae96ccc9",
   "metadata": {
    "deletable": false,
    "editable": false
   },
   "source": [
    "## Submission\n",
    "\n",
    "Make sure you have run all cells in your notebook in order before running the cell below, so that all images/graphs appear in the output. The cell below will generate a zip file for you to submit. **Please save before exporting!**\n",
    "\n",
    "These are some submission instructions."
   ]
  },
  {
   "cell_type": "code",
   "execution_count": 8,
   "id": "3a53dadb",
   "metadata": {
    "deletable": false,
    "editable": false
   },
   "outputs": [
    {
     "name": "stdout",
     "output_type": "stream",
     "text": [
      "Running your submission against local test cases...\n",
      "\n",
      "\n",
      "Your submission received the following results when run against available test cases:\n",
      "\n",
      "    q1 results: All test cases passed!\n",
      "    q1 - 1 message: passed\n",
      "    q1 - 2 message: passed\n",
      "    q1 - 3 message: passed\n",
      "\n",
      "    q2 results: All test cases passed!\n",
      "    q2 - 1 message: correct\n",
      "    q2 - 2 message: correct\n",
      "    q2 - 3 message: correct\n",
      "\n",
      "    q3 results: All test cases passed!\n",
      "    q3 - 1 message: the total number of power of 2 found <=5000 is correct\n",
      "    q3 - 2 message: the smallest power of 2 found is correct\n"
     ]
    },
    {
     "data": {
      "text/html": [
       "\n",
       "                    <p>\n",
       "                        Your submission has been exported. Click\n",
       "                        <a href=\"Coding_Exercise_3_2024_09_19T12_36_20_514726.zip\" download=\"Coding_Exercise_3_2024_09_19T12_36_20_514726.zip\" target=\"_blank\">here</a> to download\n",
       "                        the zip file.\n",
       "                    </p>\n",
       "                "
      ],
      "text/plain": [
       "<IPython.core.display.HTML object>"
      ]
     },
     "metadata": {},
     "output_type": "display_data"
    }
   ],
   "source": [
    "# Save your notebook first, then run this cell to export your submission.\n",
    "grader.export(pdf=False, run_tests=True)"
   ]
  },
  {
   "cell_type": "markdown",
   "id": "05dc6155",
   "metadata": {},
   "source": [
    " "
   ]
  }
 ],
 "metadata": {
  "kernelspec": {
   "display_name": "Python 3 (ipykernel)",
   "language": "python",
   "name": "python3"
  },
  "language_info": {
   "codemirror_mode": {
    "name": "ipython",
    "version": 3
   },
   "file_extension": ".py",
   "mimetype": "text/x-python",
   "name": "python",
   "nbconvert_exporter": "python",
   "pygments_lexer": "ipython3",
   "version": "3.12.2"
  },
  "otter": {
   "OK_FORMAT": true,
   "tests": {
    "q1": {
     "name": "q1",
     "points": 30,
     "suites": [
      {
       "cases": [
        {
         "code": ">>> assert multiples_of_7(0, 14) == 3\n",
         "failure_message": "when lower_int is 0 and higher_int is 14, how many multiples of 7 should you get?",
         "hidden": false,
         "locked": false,
         "points": 5,
         "success_message": "passed"
        },
        {
         "code": ">>> assert multiples_of_7(1, 5) == 0\n",
         "failure_message": "when lower_int is 1 and higher_int is 5, how many multiples of 7 should you get?",
         "hidden": false,
         "locked": false,
         "points": 5,
         "success_message": "passed"
        },
        {
         "code": ">>> assert multiples_of_7(1, 100) == 14\n",
         "failure_message": "when lower_int is 1 and higher_int is 100, how many multiples of 7 should you get?",
         "hidden": false,
         "locked": false,
         "points": 5,
         "success_message": "passed"
        }
       ],
       "scored": true,
       "setup": "",
       "teardown": "",
       "type": "doctest"
      }
     ]
    },
    "q2": {
     "name": "q2",
     "points": 30,
     "suites": [
      {
       "cases": [
        {
         "code": ">>> assert get_accumulated_total(1) == 1\n",
         "failure_message": "incorrect result for integer 1",
         "hidden": false,
         "locked": false,
         "points": 5,
         "success_message": "correct"
        },
        {
         "code": ">>> assert get_accumulated_total(2) == 4\n",
         "failure_message": "incorrect result for integer 2",
         "hidden": false,
         "locked": false,
         "points": 5,
         "success_message": "correct"
        },
        {
         "code": ">>> assert get_accumulated_total(3) == 10\n",
         "failure_message": "incorrect result for integer 3",
         "hidden": false,
         "locked": false,
         "points": 5,
         "success_message": "correct"
        }
       ],
       "scored": true,
       "setup": "",
       "teardown": "",
       "type": "doctest"
      }
     ]
    },
    "q3": {
     "name": "q3",
     "points": 40,
     "suites": [
      {
       "cases": [
        {
         "code": ">>> numbers = get_power_of_2().split()\n>>> assert len(numbers) == 12\n",
         "failure_message": "the total number of power of 2 found <=5000 is incorrect",
         "hidden": false,
         "locked": false,
         "points": 10,
         "success_message": "the total number of power of 2 found <=5000 is correct"
        },
        {
         "code": ">>> numbers = get_power_of_2().split()\n>>> assert numbers[0] == '2'\n",
         "failure_message": "the smallest power of 2 found is incorrect",
         "hidden": false,
         "locked": false,
         "points": 10,
         "success_message": "the smallest power of 2 found is correct"
        }
       ],
       "scored": true,
       "setup": "",
       "teardown": "",
       "type": "doctest"
      }
     ]
    }
   }
  }
 },
 "nbformat": 4,
 "nbformat_minor": 5
}
