{
 "cells": [
  {
   "cell_type": "code",
   "execution_count": 1,
   "metadata": {
    "deletable": false,
    "editable": false
   },
   "outputs": [],
   "source": [
    "# Initialize Otter\n",
    "import otter\n",
    "grader = otter.Notebook(\"Coding_Exercise_7.ipynb\")"
   ]
  },
  {
   "cell_type": "markdown",
   "metadata": {},
   "source": [
    "# Week 7 Coding Exercise"
   ]
  },
  {
   "cell_type": "markdown",
   "metadata": {
    "deletable": false,
    "editable": false
   },
   "source": [
    "## Question - Get Valid Variable Names of Python\n",
    "Python variable names have the following rules:\n",
    "1. Must start with a letter or underscore _ \n",
    "1. Must consist of letters, numbers, and underscores\n",
    "1. Cannot contain spaces\n",
    "1. Cannot use Python key (reserved) words\n",
    "1. Max length is 79 characters\n",
    "1. Case sensitive\n",
    "\n",
    "The reserved words are: \n",
    "<pre>\n",
    "False, None, True, and, as, assert, async, await, break, class, continue, def, del, elif, else, except, finally, for, from, global, if, import, in, is, lambda, nonlocal, not, or, pass, raise, return, try, while, with, yield\n",
    "</pre>\n",
    "\n",
    "Write a function to pull out valid variable names in a string passed in. Assume that the possible variable names are seperated by a comma and a space. The function should be named **get_valid_var()** and it takes one argument named **text**. It should **return** a list of valid variable names in the argument passed in. The code cell has done the following for you already:\n",
    "1. Imported the regular expression module re for you. \n",
    "1. Created a tuple of Python reserved words you can use to check possible variable names\n",
    "\n",
    "Note in this coding exercise, you have to write the function header and return statement. In previous coding exercises, these are usually written for you. Here are the steps to implement the solution:\n",
    "1. step 1, split the text into words using split() in re module assuming the text will have var names seperated by a comma and a space (see test_text in next cell for example)\n",
    "1. step 2, go through the list of reserved_words to remove all the reserved words in the names. No regular expression is needed at this step but be aware that remove() only removes one item in a list. If there are duplicates, only the first one is removed. Make sure all occurances of all keywords are removed even if some appear multiple times\n",
    "1. Step 3, Create a regex that would check all the remaining variable names to pick out valid ones. You can create a new empty list to store valid variable names. You must use re module to get this done. Use a for loop to go thorough each remaining names.\n",
    "1. Step 4, return the list of valid names. DON'T PRINT the result. If you print things out while coding, remove all print() before final testing and submission\n",
    "\n",
    "#### Test your function when it is done.\n",
    "If you use the string ' var 1, apple, eggs, await, apple2, _cheese, 2apple, $dollar, var.22, APPLE, ui8655, r_tyM0, if, if' to test the function, you should have the following output returned\n",
    "<pre>\n",
    "['apple', 'eggs', 'apple2', '_cheese', 'APPLE', 'ui8655', 'r_tyM0']\n",
    "</pre>"
   ]
  },
  {
   "cell_type": "code",
   "execution_count": 8,
   "metadata": {
    "tags": []
   },
   "outputs": [
    {
     "name": "stdout",
     "output_type": "stream",
     "text": [
      "['apple', 'eggs', 'apple2', '_cheese', 'APPLE', 'ui8655', 'r_tyM0']\n"
     ]
    }
   ],
   "source": [
    "...\n",
    "### don't remove anything. Just add code to where noted\n",
    "# Import re module\n",
    "import re\n",
    "reserved_words = ('False', 'None', 'True', 'and', 'as', 'assert', 'async', 'await', 'break', 'class', 'continue', 'def', 'del', 'elif', 'else', 'except', 'finally', 'for', 'from', 'global', 'if', 'import', 'in', 'is', 'lambda', 'nonlocal', 'not', 'or', 'pass', 'raise', 'return', 'try', 'while', 'with', 'yield')\n",
    "### Your code starts \n",
    "def get_valid_var(text):\n",
    "    candidate_names = re.split(', ', text)\n",
    "    candidate_names = [name for name in candidate_names if name not in reserved_words]\n",
    "    valid_var_regex = re.compile(r'^[A-Za-z_][A-Za-z0-9_]*$')\n",
    "    valid_name_list = []\n",
    "    for name in candidate_names:\n",
    "        if valid_var_regex.search(name) and len(name) <= 79:\n",
    "            valid_name_list.append(name)\n",
    "    return valid_name_list\n",
    "    \n",
    "### Your code ends (Don't forget to return your result)\n",
    "# You can uncomment the lines below to check your return values but you should comment out the code before submission\n",
    "test_text = 'var 1, apple, eggs, await, apple2, _cheese, 2apple, $dollar, var.22, APPLE, ui8655, r_tyM0, if, if'\n",
    "returned_names = get_valid_var(test_text)\n",
    "print(returned_names)  "
   ]
  },
  {
   "cell_type": "code",
   "execution_count": 9,
   "metadata": {
    "deletable": false,
    "editable": false
   },
   "outputs": [
    {
     "data": {
      "text/html": [
       "<p><strong><pre style='display: inline;'>q1</pre></strong> passed! 🙌</p><p><strong><pre style='display: inline;'>q1 - 1</pre> message:</strong> passed</p><p><strong><pre style='display: inline;'>q1 - 2</pre> message:</strong> passed</p><p><strong><pre style='display: inline;'>q1 - 3</pre> message:</strong> passed</p><p><strong><pre style='display: inline;'>q1 - 4</pre> message:</strong> passed</p>"
      ],
      "text/plain": [
       "q1 results: All test cases passed!\n",
       "q1 - 1 message: passed\n",
       "q1 - 2 message: passed\n",
       "q1 - 3 message: passed\n",
       "q1 - 4 message: passed"
      ]
     },
     "execution_count": 9,
     "metadata": {},
     "output_type": "execute_result"
    }
   ],
   "source": [
    "grader.check(\"q1\")"
   ]
  },
  {
   "cell_type": "markdown",
   "metadata": {
    "deletable": false,
    "editable": false
   },
   "source": [
    "## Submission\n",
    "\n",
    "Make sure you have run all cells in your notebook in order before running the cell below, so that all images/graphs appear in the output. The cell below will generate a zip file for you to submit. **Please save before exporting!**\n",
    "\n",
    "Test your code fully to pass hidden tests. This link leads to the video on how to test code: https://iu.mediaspace.kaltura.com/media/t/1_mmyb6sua"
   ]
  },
  {
   "cell_type": "code",
   "execution_count": 4,
   "metadata": {
    "deletable": false,
    "editable": false
   },
   "outputs": [
    {
     "name": "stdout",
     "output_type": "stream",
     "text": [
      "Running your submission against local test cases...\n",
      "\n",
      "\n",
      "Your submission received the following results when run against available test cases:\n",
      "\n",
      "    q1 results: All test cases passed!\n",
      "    q1 - 1 message: passed - You have created the function get_valid_var() that takes one argument\n",
      "    q1 - 2 message: passed - Your function get_valid_var() returns a list. The return value is correct\n",
      "    q1 - 3 message: passed - Your function detects invalid names starting with numbers\n",
      "    q1 - 4 message: passed - Your function detects invalid names containing special characters\n",
      "    q1 - 5 message: passed - Your function detects invalid names as Python reserved words\n"
     ]
    },
    {
     "data": {
      "text/html": [
       "\n",
       "                    <p>\n",
       "                        Your submission has been exported. Click\n",
       "                        <a href=\"Coding_Exercise_7_2024_10_14T14_49_03_984112.zip\" download=\"Coding_Exercise_7_2024_10_14T14_49_03_984112.zip\" target=\"_blank\">here</a> to download\n",
       "                        the zip file.\n",
       "                    </p>\n",
       "                "
      ],
      "text/plain": [
       "<IPython.core.display.HTML object>"
      ]
     },
     "metadata": {},
     "output_type": "display_data"
    }
   ],
   "source": [
    "# Save your notebook first, then run this cell to export your submission.\n",
    "grader.export(pdf=False, run_tests=True)"
   ]
  },
  {
   "cell_type": "markdown",
   "metadata": {},
   "source": [
    " "
   ]
  }
 ],
 "metadata": {
  "kernelspec": {
   "display_name": "base",
   "language": "python",
   "name": "python3"
  },
  "language_info": {
   "codemirror_mode": {
    "name": "ipython",
    "version": 3
   },
   "file_extension": ".py",
   "mimetype": "text/x-python",
   "name": "python",
   "nbconvert_exporter": "python",
   "pygments_lexer": "ipython3",
   "version": "3.12.2"
  },
  "otter": {
   "OK_FORMAT": true,
   "tests": {
    "q1": {
     "name": "q1",
     "points": 100,
     "suites": [
      {
       "cases": [
        {
         "code": ">>> temp = get_valid_var('')\n>>> assert 1 == 1\n",
         "failure_message": "Have you created the function get_valid_var() that takes one argument? Check spelling and case",
         "hidden": false,
         "locked": false,
         "points": 10,
         "success_message": "passed - You have created the function get_valid_var() that takes one argument"
        },
        {
         "code": ">>> assert isinstance(get_valid_var(''), list)\n",
         "failure_message": "Does the function get_valid_var() returns a list?",
         "hidden": false,
         "locked": false,
         "points": 10,
         "success_message": "passed - Your function get_valid_var() returns a list. The return value is correct"
        },
        {
         "code": ">>> assert len(get_valid_var('9th')) == 0\n",
         "failure_message": "Does the function get_valid_var() detect invalid names starting with numbers?",
         "hidden": false,
         "locked": false,
         "points": 10,
         "success_message": "passed - Your function detects invalid names starting with numbers"
        },
        {
         "code": ">>> assert len(get_valid_var('_eb&')) == 0\n",
         "failure_message": "Does the function get_valid_var() detect invalid names containing special characters?",
         "hidden": false,
         "locked": false,
         "points": 10,
         "success_message": "passed - Your function detects invalid names containing special characters"
        },
        {
         "code": ">>> assert len(get_valid_var('if, else, def, for')) == 0\n",
         "failure_message": "Does the function get_valid_var() detect invalid names as Python reserved words?",
         "hidden": false,
         "locked": false,
         "points": 10,
         "success_message": "passed - Your function detects invalid names as Python reserved words"
        }
       ],
       "scored": true,
       "setup": "",
       "teardown": "",
       "type": "doctest"
      }
     ]
    }
   }
  }
 },
 "nbformat": 4,
 "nbformat_minor": 4
}
