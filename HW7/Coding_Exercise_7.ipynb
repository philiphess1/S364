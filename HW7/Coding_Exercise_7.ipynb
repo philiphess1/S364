{
 "cells": [
  {
   "cell_type": "code",
   "execution_count": 1,
   "id": "5415a36a",
   "metadata": {
    "deletable": false,
    "editable": false
   },
   "outputs": [],
   "source": [
    "# Initialize Otter\n",
    "import otter\n",
    "grader = otter.Notebook(\"Coding_Exercise_7.ipynb\")"
   ]
  },
  {
   "cell_type": "markdown",
   "id": "a656f24c",
   "metadata": {},
   "source": [
    "# Week 7 Coding Exercise"
   ]
  },
  {
   "cell_type": "markdown",
   "id": "b9c7b7dc",
   "metadata": {
    "deletable": false,
    "editable": false
   },
   "source": [
    "### Question\n",
    "Python variable names have the following rules:\n",
    "1. Must start with a letter or underscore _\n",
    "1. Must consist of letters, numbers, and underscores\n",
    "1. Cannot contain spaces\n",
    "1. Cannot use Python key (reserved) words\n",
    "1. Max length is 79 characters\n",
    "1. Case sensitive\n",
    "\n",
    "Write a function to pull out valid variable names in a string passed in as an argument. Assume that the candidate variable names are seperated by a comma and a space. The function is named **get_valid_var_names** which takes one argument named **candidate_name_str**. This function header is already written for you. The function should put all valid variable names in the argument into a list named **valid_name_list** and have the list returned.\n",
    "\n",
    "Part of the code has been provided for you already. You can follow the following steps to implement the function:\n",
    "- split **candidate_name_str** into names using split() in re module. Candidate names are seperated by a comma and a space\n",
    "- go through the list of reserved_words to remove all the reserved words in the names. No regular expression is needed for this step but be aware that remove() only removes one item in a list. If there are duplicates, only the first one is removed. Make sure all occurances of all keywords are removed even if some appear multiple times\n",
    "- Create a regex that would check all the remaining names to pick out valid ones. Add the valid variable name to **valid_name_list**. You must use re module to get this done. Use a for loop to make processing easier.\n",
    "- Return **valid_name_list**. This is already written for you. Just don't remove it.\n",
    "- Make sure you test your code thoroughly."
   ]
  },
  {
   "cell_type": "code",
   "execution_count": 5,
   "id": "536ed00b",
   "metadata": {
    "tags": []
   },
   "outputs": [
    {
     "name": "stdout",
     "output_type": "stream",
     "text": [
      "[]\n",
      "[]\n",
      "['abc']\n",
      "['abc', 'email']\n"
     ]
    }
   ],
   "source": [
    "...\n",
    "### don't remove anything. Just add code to where noted\n",
    "import re\n",
    "reserved_words = ['False', 'None', 'True', 'and', 'as', 'assert', 'async', 'await', 'break', 'class', 'continue', 'def', 'del', 'elif', 'else', 'except', 'finally', 'for', 'from', 'global', 'if', 'import', 'in', 'is', 'lambda', 'nonlocal', 'not', 'or', 'pass', 'raise', 'return', 'try', 'while', 'with', 'yield']\n",
    "def get_valid_var_names(candidate_name_str):\n",
    "    valid_name_list = []\n",
    "    ### Your code starts (you need to start with function definition)\n",
    "    candidate_names = candidate_name_str.split(\", \")\n",
    "    candidate_names = [name for name in candidate_names if name not in reserved_words]\n",
    "    var_name_pattern = re.compile(r'^[A-Za-z_][A-Za-z0-9_]{0,78}$')\n",
    "    for name in candidate_names:\n",
    "        if var_name_pattern.match(name):\n",
    "            valid_name_list.append(name)\n",
    "    \n",
    "    ### Your code ends (don't forget to return your calculation. Don't print it out)\n",
    "    return valid_name_list\n",
    "# You can uncomment the lines below to check your return values but you should comment out the code before submission\n",
    "# Feel free to test with additional test cases to cover all the bases. The hidden test cases could reveal problems\n",
    "print(get_valid_var_names('')) # should get []\n",
    "print(get_valid_var_names('1')) # should get []\n",
    "print(get_valid_var_names('abc, 0_er, if, if')) # should get ['abc']\n",
    "print(get_valid_var_names('abc, email, e 1')) # should get ['abc', 'email']"
   ]
  },
  {
   "cell_type": "code",
   "execution_count": 6,
   "id": "da64b667",
   "metadata": {
    "deletable": false,
    "editable": false
   },
   "outputs": [
    {
     "data": {
      "text/html": [
       "<p><strong><pre style='display: inline;'>q1</pre></strong> passed! 🌟</p><p><strong><pre style='display: inline;'>q1 - 1</pre> message:</strong> passed</p><p><strong><pre style='display: inline;'>q1 - 2</pre> message:</strong> passed</p><p><strong><pre style='display: inline;'>q1 - 3</pre> message:</strong> passed</p><p><strong><pre style='display: inline;'>q1 - 4</pre> message:</strong> passed</p>"
      ],
      "text/plain": [
       "q1 results: All test cases passed!\n",
       "q1 - 1 message: passed\n",
       "q1 - 2 message: passed\n",
       "q1 - 3 message: passed\n",
       "q1 - 4 message: passed"
      ]
     },
     "execution_count": 6,
     "metadata": {},
     "output_type": "execute_result"
    }
   ],
   "source": [
    "grader.check(\"q1\")"
   ]
  },
  {
   "cell_type": "markdown",
   "id": "b37ee7df",
   "metadata": {
    "deletable": false,
    "editable": false
   },
   "source": [
    "## Submission\n",
    "\n",
    "Make sure you have run all cells in your notebook in order before running the cell below, so that all images/graphs appear in the output. The cell below will generate a zip file for you to submit. **Please save before exporting!**"
   ]
  },
  {
   "cell_type": "code",
   "execution_count": 7,
   "id": "9b58d741",
   "metadata": {
    "deletable": false,
    "editable": false
   },
   "outputs": [
    {
     "name": "stdout",
     "output_type": "stream",
     "text": [
      "Running your submission against local test cases...\n",
      "\n",
      "\n",
      "Your submission received the following results when run against available test cases:\n",
      "\n",
      "    q1 results: All test cases passed!\n",
      "    q1 - 1 message: passed\n",
      "    q1 - 2 message: passed\n",
      "    q1 - 3 message: passed\n",
      "    q1 - 4 message: passed\n"
     ]
    },
    {
     "data": {
      "text/html": [
       "\n",
       "                    <p>\n",
       "                        Your submission has been exported. Click\n",
       "                        <a href=\"Coding_Exercise_7_2024_10_09T12_50_43_004537.zip\" download=\"Coding_Exercise_7_2024_10_09T12_50_43_004537.zip\" target=\"_blank\">here</a> to download\n",
       "                        the zip file.\n",
       "                    </p>\n",
       "                "
      ],
      "text/plain": [
       "<IPython.core.display.HTML object>"
      ]
     },
     "metadata": {},
     "output_type": "display_data"
    }
   ],
   "source": [
    "# Save your notebook first, then run this cell to export your submission.\n",
    "grader.export(pdf=False, run_tests=True)"
   ]
  },
  {
   "cell_type": "markdown",
   "id": "d3ae23bc",
   "metadata": {},
   "source": [
    " "
   ]
  }
 ],
 "metadata": {
  "kernelspec": {
   "display_name": "base",
   "language": "python",
   "name": "python3"
  },
  "language_info": {
   "codemirror_mode": {
    "name": "ipython",
    "version": 3
   },
   "file_extension": ".py",
   "mimetype": "text/x-python",
   "name": "python",
   "nbconvert_exporter": "python",
   "pygments_lexer": "ipython3",
   "version": "3.12.2"
  },
  "otter": {
   "OK_FORMAT": true,
   "tests": {
    "q1": {
     "name": "q1",
     "points": 100,
     "suites": [
      {
       "cases": [
        {
         "code": ">>> assert len(get_valid_var_names('1')) == 0\n",
         "failure_message": "Python variable names cannot start with numbers",
         "hidden": false,
         "locked": false,
         "points": 10,
         "success_message": "passed"
        },
        {
         "code": ">>> assert len(get_valid_var_names('a, y&n')) == 1\n",
         "failure_message": "Python variable names cannot contain chars other than digits, letters and underscore",
         "hidden": false,
         "locked": false,
         "points": 10,
         "success_message": "passed"
        },
        {
         "code": ">>> assert len(get_valid_var_names('a, if, and, if, b1')) == 2\n",
         "failure_message": "Python variable names should not be reserved words (keywords)",
         "hidden": false,
         "locked": false,
         "points": 10,
         "success_message": "passed"
        },
        {
         "code": ">>> assert len(get_valid_var_names('')) == 0\n",
         "failure_message": "Python variable names are case sensitive. A reserved word with a different case is a valid name",
         "hidden": false,
         "locked": false,
         "points": 10,
         "success_message": "passed"
        }
       ],
       "scored": true,
       "setup": "",
       "teardown": "",
       "type": "doctest"
      }
     ]
    }
   }
  }
 },
 "nbformat": 4,
 "nbformat_minor": 5
}
