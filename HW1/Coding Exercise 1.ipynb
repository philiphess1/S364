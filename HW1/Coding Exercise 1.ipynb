{
 "cells": [
  {
   "cell_type": "markdown",
   "id": "d9068090",
   "metadata": {},
   "source": [
    "# Coding Exercise 1\n",
    "Before submission, restart the kernel and re-execute the code. This is to reset all the variables and ensure the execution order is proper. It is very important to do this for every assignment before submission. execute the code so the output can be seen. \n",
    "\n",
    "Follow all instructions closely and use the example output to check your work. Ask for clarification for anything unclear\n",
    "\n",
    "Download a copy of html file. Submit both the Jupyter notebook and the html file to Canvas."
   ]
  },
  {
   "cell_type": "markdown",
   "id": "c1009371",
   "metadata": {},
   "source": [
    "## Part 1 - Learn to Use Jupyter Notebook\n",
    "1. <b>Add a markdown cell</b> below. Add this text using level 3 headings: Purposes of Using a Jupyter Notebook\n",
    "    - Add the 3 purposes or benefits of Jupyter notebook introduced in the day 1 video or in class in <b>a numbered list</b>\n",
    "1. <b>Add another markdown cell</b> below. Add this text using level 3 headings: <b>Types of Cells</b>\n",
    "    - Add the 2 types of cells as <b>as bullets (unordered list)</b>\n",
    "1. <b>Add another markdown cell</b> below. Add this text using level 3 headings: <b>Modes of Cells</b>\n",
    "    - Add the 2 modes of cells as <b>as bullets (unordered list)</b>   \n",
    "1. <b>Add another markdown cell</b> below. Add this text using level 3 headings: <b>Important Operations</b>\n",
    "    - Add the following texts using <b> bullets (unordered list)</b> \n",
    "        - <b>Add a cell</b> by using keyboard shortcuts such as ______ (fill in the blank using an example of keyboard shortcuts to press)\n",
    "        - <b>Execute a cell</b> by using keyboard shortcuts such as ______ (fill in the blank using an example of keyboard shortcuts to press)"
   ]
  },
  {
   "cell_type": "markdown",
   "id": "6a920d1e",
   "metadata": {},
   "source": [
    "### Purposes of Using a Jupyter Notebook\n",
    "1. It is a coding environment that allows embedded documents\n",
    "1. You can view it as a dynamic document with just in run time code\n",
    "1. Jupyter Notebook can be published on a server or easiy shared with others"
   ]
  },
  {
   "cell_type": "markdown",
   "id": "9910cabe",
   "metadata": {},
   "source": [
    "### Types of Cells\n",
    "- Markdown\n",
    "- Code"
   ]
  },
  {
   "cell_type": "markdown",
   "id": "d8a21359",
   "metadata": {},
   "source": [
    "### Modes of Cells\n",
    "- Edit mode\n",
    "- Command mode"
   ]
  },
  {
   "cell_type": "markdown",
   "id": "01c4f3ce",
   "metadata": {},
   "source": [
    "### Important Operations\n",
    "- Add a cell by using keyboard shorcuts such as \"a\" or \"b\"\n",
    "- Execute a cell by using keyboard shortcuts such as Ctrl + Enter or Shift + Enter"
   ]
  },
  {
   "cell_type": "markdown",
   "id": "afadea43",
   "metadata": {},
   "source": [
    "## Part 2 - Variables, Data Types, Expressions"
   ]
  },
  {
   "cell_type": "code",
   "execution_count": 1,
   "id": "d01663a6",
   "metadata": {},
   "outputs": [
    {
     "name": "stdin",
     "output_type": "stream",
     "text": [
      "Enter your age:  22\n"
     ]
    },
    {
     "name": "stdout",
     "output_type": "stream",
     "text": [
      "Ahhh, You are 22 years old.\n",
      "You will be 23 years old next year.\n"
     ]
    }
   ],
   "source": [
    "# In this cell, ask the user to enter their age as a whole number using input(). \n",
    "# Store the returned value in a variable named age_str.\n",
    "# Assume that the user entered 20, print out a message: 'Ahhh, You are 20 years old.' You can directly use print()\n",
    "# to print out the message or build a string with that message using string concatenation (+).\n",
    "# Now convert the age_str to an integer, store it in a variable named 'age'. Add 1 to the variable and store it back.\n",
    "# Now convert the variable age to a str and save the result to a variable named 'age_str_next'\n",
    "# Using string concatenation to create a string with the name 'age_str_next_msg' which has value like: 'You will be \n",
    "# 21 years old next year'. Print age_str_next_msg\n",
    "# Your printed out message should change based on the age entered by the user of course.\n",
    "age_str = input(\"Enter your age: \")\n",
    "age = int(age_str)\n",
    "print(\"Ahhh, You are \" + age_str + \" years old.\")\n",
    "age += 1\n",
    "age_str_next = str(age)\n",
    "age_str_next_msg = \"You will be \" + age_str_next + \" years old next year.\"\n",
    "print(age_str_next_msg)\n"
   ]
  },
  {
   "cell_type": "code",
   "execution_count": null,
   "id": "dcb7e0e9-602b-45ad-9f17-59cc95f3de05",
   "metadata": {},
   "outputs": [],
   "source": []
  }
 ],
 "metadata": {
  "kernelspec": {
   "display_name": "Python 3 (ipykernel)",
   "language": "python",
   "name": "python3"
  },
  "language_info": {
   "codemirror_mode": {
    "name": "ipython",
    "version": 3
   },
   "file_extension": ".py",
   "mimetype": "text/x-python",
   "name": "python",
   "nbconvert_exporter": "python",
   "pygments_lexer": "ipython3",
   "version": "3.12.4"
  }
 },
 "nbformat": 4,
 "nbformat_minor": 5
}
