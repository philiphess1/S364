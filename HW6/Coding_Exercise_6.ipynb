{
 "cells": [
  {
   "cell_type": "code",
   "execution_count": 1,
   "id": "25212c0d",
   "metadata": {
    "deletable": false,
    "editable": false
   },
   "outputs": [],
   "source": [
    "# Initialize Otter\n",
    "import otter\n",
    "grader = otter.Notebook(\"Coding_Exercise_6.ipynb\")"
   ]
  },
  {
   "cell_type": "markdown",
   "id": "a656f24c",
   "metadata": {},
   "source": [
    "# Week 6 Coding Exercise"
   ]
  },
  {
   "cell_type": "markdown",
   "id": "b9c7b7dc",
   "metadata": {
    "deletable": false,
    "editable": false
   },
   "source": [
    "### Question 1\n",
    "Parse string to get email addresses in the file mbox_short.txt. Open the file mbox_short.txt in a text editor like notepad to get familiar with the text and email addresses before coding.\n",
    "- The file mbox_short.txt contains email addresses. Your code should read the file, go through each line in the file to found the lines with email addresses. Add them to a list named **from_addresses**. The variable has been created as a empty list for you already.\n",
    "    - Convert each line to <u>uppercase</u> before checking. The lines with email addresses now starts with \"FROM:\". An example line looks like this before being turned to uppercase: \n",
    "        - From: louis@media.berkeley.edu\n",
    "    - When the loop is over, remember to close the file.\n",
    "- In addition to **from_addresses**, three additional variables have been created for you at the top of the function to store data:  **domains** is a list to store email domains. **number_iupui** stores the number of addresses with 'IUPUI.EDU' as the domain. **number_umich** stores the number of addresses with 'UMICH.EDU' as the domain. \n",
    "- You should have noticed that the domain of an email is the part after the character @ in an email address. Use another for loop to iterate through the list **from_addresses**. Parse out the domain of each email and add it to the list **domains**.\n",
    "- Now you can use methods (functions) of list to get the numbers of domains that are 'IUPUI.EDU' and those that are 'UMICH.EDU'. Save them to **number_iupui** and **number_umich** respectively.\n",
    "- Return **from_addresses**, **domains**, **number_iupui** and **number_umich** in this order (this is already written out for you. Don't delete the code). Now you know the values will be returned as a tuple with 4 elements.\n",
    "- Make sure your code pass the public test cases\n",
    "- Test thoroughly for hiddent test cases"
   ]
  },
  {
   "cell_type": "code",
   "execution_count": 11,
   "id": "536ed00b",
   "metadata": {
    "tags": []
   },
   "outputs": [
    {
     "name": "stdout",
     "output_type": "stream",
     "text": [
      "['STEPHEN.MARQUARD@UCT.AC.ZA', 'LOUIS@MEDIA.BERKELEY.EDU', 'ZQIAN@UMICH.EDU', 'RJLOWE@IUPUI.EDU', 'ZQIAN@UMICH.EDU', 'RJLOWE@IUPUI.EDU', 'CWEN@IUPUI.EDU', 'CWEN@IUPUI.EDU', 'GSILVER@UMICH.EDU', 'GSILVER@UMICH.EDU', 'ZQIAN@UMICH.EDU', 'GSILVER@UMICH.EDU', 'WAGNERMR@IUPUI.EDU', 'ZQIAN@UMICH.EDU', 'ANTRANIG@CARET.CAM.AC.UK', 'GOPAL.RAMASAMMYCOOK@GMAIL.COM', 'DAVID.HORWITZ@UCT.AC.ZA', 'DAVID.HORWITZ@UCT.AC.ZA', 'DAVID.HORWITZ@UCT.AC.ZA', 'DAVID.HORWITZ@UCT.AC.ZA', 'STEPHEN.MARQUARD@UCT.AC.ZA', 'LOUIS@MEDIA.BERKELEY.EDU', 'LOUIS@MEDIA.BERKELEY.EDU', 'RAY@MEDIA.BERKELEY.EDU', 'CWEN@IUPUI.EDU', 'CWEN@IUPUI.EDU', 'CWEN@IUPUI.EDU']\n",
      "['UCT.AC.ZA', 'MEDIA.BERKELEY.EDU', 'UMICH.EDU', 'IUPUI.EDU', 'UMICH.EDU', 'IUPUI.EDU', 'IUPUI.EDU', 'IUPUI.EDU', 'UMICH.EDU', 'UMICH.EDU', 'UMICH.EDU', 'UMICH.EDU', 'IUPUI.EDU', 'UMICH.EDU', 'CARET.CAM.AC.UK', 'GMAIL.COM', 'UCT.AC.ZA', 'UCT.AC.ZA', 'UCT.AC.ZA', 'UCT.AC.ZA', 'UCT.AC.ZA', 'MEDIA.BERKELEY.EDU', 'MEDIA.BERKELEY.EDU', 'MEDIA.BERKELEY.EDU', 'IUPUI.EDU', 'IUPUI.EDU', 'IUPUI.EDU']\n",
      "8\n",
      "7\n"
     ]
    }
   ],
   "source": [
    "...\n",
    "### don't remove anything. Just add code to where noted\n",
    "def analyze_email():\n",
    "    from_addresses = []\n",
    "    domains = []\n",
    "    number_iupui = 0\n",
    "    number_umich = 0\n",
    "    ### Your code starts \n",
    "    with open('mbox_short.txt', 'r') as file:\n",
    "        for line in file:\n",
    "            line = line.strip().upper()\n",
    "            if line.startswith(\"FROM:\"):\n",
    "                email = line[len(\"FROM: \"):]\n",
    "                from_addresses.append(email)\n",
    "    \n",
    "    for email in from_addresses:\n",
    "        domain = email.split('@')[1]\n",
    "        domains.append(domain)\n",
    "        if domain == 'IUPUI.EDU':\n",
    "            number_iupui += 1\n",
    "        elif domain == 'UMICH.EDU':\n",
    "            number_umich += 1\n",
    "    \n",
    "    ### Your code ends (the next line returns the values for the function. Don't remove it.)\n",
    "    return from_addresses, domains, number_iupui, number_umich\n",
    "# You can uncomment the lines below to check your return values but you should comment out the code before submission\n",
    "# print(analyze_email()[0])\n",
    "# print(analyze_email()[1])\n",
    "# print(analyze_email()[2])\n",
    "# print(analyze_email()[3])"
   ]
  },
  {
   "cell_type": "code",
   "execution_count": 3,
   "id": "f96fb8a5",
   "metadata": {
    "deletable": false,
    "editable": false
   },
   "outputs": [
    {
     "data": {
      "text/html": [
       "<p><strong><pre style='display: inline;'>q1</pre></strong> passed! 🌟</p><p><strong><pre style='display: inline;'>q1 - 1</pre> message:</strong> passed - the returned values are in a tuple</p><p><strong><pre style='display: inline;'>q1 - 2</pre> message:</strong> passed - the returned tuple has 4 elements</p><p><strong><pre style='display: inline;'>q1 - 3</pre> message:</strong> passed - you found at least one email address</p><p><strong><pre style='display: inline;'>q1 - 4</pre> message:</strong> passed - you added at least one item in the list of domains</p><p><strong><pre style='display: inline;'>q1 - 5</pre> message:</strong> passed - the first from address found is correct and in upper case</p>"
      ],
      "text/plain": [
       "q1 results: All test cases passed!\n",
       "q1 - 1 message: passed - the returned values are in a tuple\n",
       "q1 - 2 message: passed - the returned tuple has 4 elements\n",
       "q1 - 3 message: passed - you found at least one email address\n",
       "q1 - 4 message: passed - you added at least one item in the list of domains\n",
       "q1 - 5 message: passed - the first from address found is correct and in upper case"
      ]
     },
     "execution_count": 3,
     "metadata": {},
     "output_type": "execute_result"
    }
   ],
   "source": [
    "grader.check(\"q1\")"
   ]
  },
  {
   "cell_type": "markdown",
   "id": "79475b6a",
   "metadata": {
    "deletable": false,
    "editable": false
   },
   "source": [
    "### Question 2\n",
    "Parse string to get weekdays in the file mbox_short.txt as described below. Open the file mbox_short.txt in a text editor like notepad to get familiar with the text and weekdays before coding:\n",
    "- Your code should read the file, go through each line in the file to find the lines starting with \"From:\". Don't change the letter case in this question. Such lines have an email address following \"From:\". Some of them also have a datetime following the email address. Some of them don't have a datetime. Two such examples are provided below:\n",
    "    - A line with datetime: From louis@media.berkeley.edu Fri Jan  4 18:10:48 2008\n",
    "    - A line without datetime: From: louis@media.berkeley.edu\n",
    "- check whether the line has weekday infromation. If so, the information should be recorded in a dictionary in a variable **count_dict**, which has been created for you as an empty dictionary at the begining of the function. Don't remove it. Use it instead.\n",
    "- The goal is to store in **count_dict** the number of times any weekday appears in the lines starting with \"From:\". If a line does not have weekday, add 1 to the key \"Unknown\" in the dictionary. So the dictionary should look like the following if only Monday (4 times) and Tuesday (2 times) are in the lines and the rest don't have weekdays recorded (10 times). The solution will be different from the following but you have the idea now. You will see that the short weekday name appears consistently in the file. No additional conversion is needed.\n",
    "    -{'Mon': 4, 'Tue': 2, 'Unknown': 10}\n",
    "- When the loop is over, remember to close the file. Now **count_dict** should have all the info.\n",
    "- Return **count_dict** and the weekday appeared the max number in the dictionary. A variable **weekday_max** was created for you also. It is possible that the max number is \"Unknown\". The two values will be returned as a tuple.\n",
    "- Make sure your code pass the public test cases\n",
    "- Test thoroughly for hiddent test cases also."
   ]
  },
  {
   "cell_type": "code",
   "execution_count": 13,
   "id": "0181da08",
   "metadata": {
    "tags": []
   },
   "outputs": [
    {
     "name": "stdout",
     "output_type": "stream",
     "text": [
      "{'Sat': 1, 'Unknown': 27, 'Fri': 20, 'Thu': 6}\n",
      "Unknown\n"
     ]
    }
   ],
   "source": [
    "...\n",
    "### don't remove anything. Just add code to where noted\n",
    "from datetime import datetime\n",
    "def get_weekday():\n",
    "    count_dict = {}\n",
    "    weekday_max = ''\n",
    "    ### Your code starts\n",
    "    with open('mbox_short.txt', 'r') as file:\n",
    "        for line in file:\n",
    "            line = line.strip()\n",
    "            if line.startswith(\"From \") or line.startswith(\"From:\"):\n",
    "                parts = line.split()\n",
    "                # print(parts)\n",
    "                if len(parts) >= 6:\n",
    "                    weekday = parts[2]\n",
    "                    if weekday in count_dict:\n",
    "                        count_dict[weekday] += 1\n",
    "                    else:\n",
    "                        count_dict[weekday] = 1\n",
    "                else:\n",
    "                    if 'Unknown' in count_dict:\n",
    "                        count_dict['Unknown'] += 1\n",
    "                    else:\n",
    "                        count_dict['Unknown'] = 1\n",
    "    file.close()\n",
    "    if count_dict:\n",
    "        weekday_max = max(count_dict, key=count_dict.get)\n",
    "    \n",
    "    ### Your code ends\n",
    "    return count_dict, weekday_max\n",
    "# You can uncomment the lines below to check your return values but you should comment out the code before submission\n",
    "print(get_weekday()[0])\n",
    "print(get_weekday()[1])"
   ]
  },
  {
   "cell_type": "code",
   "execution_count": 14,
   "id": "631194ee",
   "metadata": {
    "deletable": false,
    "editable": false
   },
   "outputs": [
    {
     "data": {
      "text/html": [
       "<p><strong><pre style='display: inline;'>q2</pre></strong> passed! 🙌</p><p><strong><pre style='display: inline;'>q2 - 1</pre> message:</strong> passed - your function returns a tuple with 2 elements</p><p><strong><pre style='display: inline;'>q2 - 2</pre> message:</strong> passed -  the dictionary returned is not empty</p><p><strong><pre style='display: inline;'>q2 - 3</pre> message:</strong> passed - The second returned value (the weekday with max appearance in the dictionary) is not an empty string</p><p><strong><pre style='display: inline;'>q2 - 4</pre> message:</strong> passed - for lines without weekday info, you set the value to 'Unknown'</p>"
      ],
      "text/plain": [
       "q2 results: All test cases passed!\n",
       "q2 - 1 message: passed - your function returns a tuple with 2 elements\n",
       "q2 - 2 message: passed -  the dictionary returned is not empty\n",
       "q2 - 3 message: passed - The second returned value (the weekday with max appearance in the dictionary) is not an empty string\n",
       "q2 - 4 message: passed - for lines without weekday info, you set the value to 'Unknown'"
      ]
     },
     "execution_count": 14,
     "metadata": {},
     "output_type": "execute_result"
    }
   ],
   "source": [
    "grader.check(\"q2\")"
   ]
  },
  {
   "cell_type": "markdown",
   "id": "4d5330e1",
   "metadata": {
    "deletable": false,
    "editable": false
   },
   "source": [
    "## Submission\n",
    "\n",
    "Make sure you have run all cells in your notebook in order before running the cell below, so that all images/graphs appear in the output. The cell below will generate a zip file for you to submit. **Please save before exporting!**\n",
    "\n",
    "Double check that the file mbox_short.txt is in the same folder as the notebook and the file is exactly as is. Test your code fully to pass hidden tests. This link leads to the video on how to test code: https://iu.mediaspace.kaltura.com/media/t/1_mmyb6sua"
   ]
  },
  {
   "cell_type": "code",
   "execution_count": null,
   "id": "fd0bb643",
   "metadata": {
    "deletable": false,
    "editable": false
   },
   "outputs": [],
   "source": [
    "# Save your notebook first, then run this cell to export your submission.\n",
    "grader.export(pdf=False, run_tests=True)"
   ]
  },
  {
   "cell_type": "markdown",
   "id": "9e209351",
   "metadata": {},
   "source": [
    " "
   ]
  }
 ],
 "metadata": {
  "kernelspec": {
   "display_name": "base",
   "language": "python",
   "name": "python3"
  },
  "language_info": {
   "codemirror_mode": {
    "name": "ipython",
    "version": 3
   },
   "file_extension": ".py",
   "mimetype": "text/x-python",
   "name": "python",
   "nbconvert_exporter": "python",
   "pygments_lexer": "ipython3",
   "version": "3.12.2"
  },
  "otter": {
   "OK_FORMAT": true,
   "tests": {
    "q1": {
     "name": "q1",
     "points": 50,
     "suites": [
      {
       "cases": [
        {
         "code": ">>> assert isinstance(analyze_email(), tuple)\n",
         "failure_message": "the function should return a tuple",
         "hidden": false,
         "locked": false,
         "points": 5,
         "success_message": "passed - the returned values are in a tuple"
        },
        {
         "code": ">>> assert len(analyze_email()) == 4\n",
         "failure_message": "the function should return a tuple with 4 elements",
         "hidden": false,
         "locked": false,
         "points": 5,
         "success_message": "passed - the returned tuple has 4 elements"
        },
        {
         "code": ">>> assert len(analyze_email()[0]) > 0\n",
         "failure_message": "Have you added any item to the list from_addresses?",
         "hidden": false,
         "locked": false,
         "points": 5,
         "success_message": "passed - you found at least one email address"
        },
        {
         "code": ">>> assert len(analyze_email()[1]) > 0\n",
         "failure_message": "Have you added any item to the list domains?",
         "hidden": false,
         "locked": false,
         "points": 5,
         "success_message": "passed - you added at least one item in the list of domains"
        },
        {
         "code": ">>> assert analyze_email()[0][0].find('STEPHEN.MARQUARD@UCT.AC.ZA') >= 0\n",
         "failure_message": "Have you located the correct lines to be added to the from_addresses? Have you converted the line to be upper case?",
         "hidden": false,
         "locked": false,
         "points": 5,
         "success_message": "passed - the first from address found is correct and in upper case"
        }
       ],
       "scored": true,
       "setup": "",
       "teardown": "",
       "type": "doctest"
      }
     ]
    },
    "q2": {
     "name": "q2",
     "points": 50,
     "suites": [
      {
       "cases": [
        {
         "code": ">>> assert len(get_weekday()) == 2\n",
         "failure_message": "the function should return a tuple with 2 elements",
         "hidden": false,
         "locked": false,
         "points": 5,
         "success_message": "passed - your function returns a tuple with 2 elements"
        },
        {
         "code": ">>> assert len(get_weekday()[0]) > 0\n",
         "failure_message": "The dictionary should not be empty",
         "hidden": false,
         "locked": false,
         "points": 5,
         "success_message": "passed -  the dictionary returned is not empty"
        },
        {
         "code": ">>> assert get_weekday()[1] != ''\n",
         "failure_message": "The weekday with maximum appearance should not be an empty string",
         "hidden": false,
         "locked": false,
         "points": 5,
         "success_message": "passed - The second returned value (the weekday with max appearance in the dictionary) is not an empty string"
        },
        {
         "code": ">>> assert 'Unknown' in get_weekday()[0]\n",
         "failure_message": "For lines without weekday info, did you count them to a specified key (instruction)? Check spelling and case also.",
         "hidden": false,
         "locked": false,
         "points": 5,
         "success_message": "passed - for lines without weekday info, you set the value to 'Unknown'"
        }
       ],
       "scored": true,
       "setup": "",
       "teardown": "",
       "type": "doctest"
      }
     ]
    }
   }
  }
 },
 "nbformat": 4,
 "nbformat_minor": 5
}
