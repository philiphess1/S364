{
 "cells": [
  {
   "cell_type": "code",
   "execution_count": 1,
   "id": "eb8c0352",
   "metadata": {
    "deletable": false,
    "editable": false
   },
   "outputs": [],
   "source": [
    "# Initialize Otter\n",
    "import otter\n",
    "grader = otter.Notebook(\"Coding_Exercise_10.ipynb\")"
   ]
  },
  {
   "cell_type": "code",
   "execution_count": 2,
   "id": "a7e3805f",
   "metadata": {},
   "outputs": [
    {
     "data": {
      "text/html": [
       "<style>.container { width:100% !important; }</style>"
      ],
      "text/plain": [
       "<IPython.core.display.HTML object>"
      ]
     },
     "metadata": {},
     "output_type": "display_data"
    },
    {
     "data": {
      "text/plain": [
       "'%.3f'"
      ]
     },
     "execution_count": 2,
     "metadata": {},
     "output_type": "execute_result"
    }
   ],
   "source": [
    "# This cell load all the needed libraries for you. Don't add or remove anything. You don't need other packages either\n",
    "from IPython.display import display, HTML\n",
    "display(HTML(\"<style>.container { width:100% !important; }</style>\"))\n",
    "import numpy as np \n",
    "import pandas as pd \n",
    "# prevent numbers to be displayed in scientific notation\n",
    "np.set_printoptions(precision=3, suppress=True)\n",
    "%precision 3"
   ]
  },
  {
   "cell_type": "markdown",
   "id": "a5afcbde",
   "metadata": {},
   "source": [
    "# Week 10 Coding Exercise\n",
    "The following cell load the data in the csv file to the dataframe 'df' for you. It also displays some basic information. Use it to understand the data. <font color='red'>DON'T DELETE THE CELL</font>"
   ]
  },
  {
   "cell_type": "code",
   "execution_count": 1,
   "id": "9579521f",
   "metadata": {},
   "outputs": [
    {
     "ename": "NameError",
     "evalue": "name 'pd' is not defined",
     "output_type": "error",
     "traceback": [
      "\u001b[0;31m---------------------------------------------------------------------------\u001b[0m",
      "\u001b[0;31mNameError\u001b[0m                                 Traceback (most recent call last)",
      "Cell \u001b[0;32mIn[1], line 2\u001b[0m\n\u001b[1;32m      1\u001b[0m \u001b[38;5;66;03m# Read the file to a dataframe\u001b[39;00m\n\u001b[0;32m----> 2\u001b[0m df \u001b[38;5;241m=\u001b[39m pd\u001b[38;5;241m.\u001b[39mread_csv(\u001b[38;5;124m\"\u001b[39m\u001b[38;5;124mnetflix_show_ranking.csv\u001b[39m\u001b[38;5;124m\"\u001b[39m)\n\u001b[1;32m      3\u001b[0m \u001b[38;5;66;03m# Display the top 5 rows to take a peek of the data\u001b[39;00m\n\u001b[1;32m      4\u001b[0m display(df\u001b[38;5;241m.\u001b[39mhead())\n",
      "\u001b[0;31mNameError\u001b[0m: name 'pd' is not defined"
     ]
    }
   ],
   "source": [
    "# Read the file to a dataframe\n",
    "df = pd.read_csv(\"netflix_show_ranking.csv\")\n",
    "# Display the top 5 rows to take a peek of the data\n",
    "display(df.head())\n",
    "# Use info() to get information such as names of columns, number of values not missing, and data types of columns\n",
    "df.info()"
   ]
  },
  {
   "cell_type": "markdown",
   "id": "958785c5",
   "metadata": {
    "deletable": false,
    "editable": false
   },
   "source": [
    "### Question 1\n",
    "The column \"Days In Top 10\" has the numbers of days a show is listed in top 10 per a particular date in column 'As of'. Find the largest number in the column \"Days In Top 10\". Return both the name of the show and the Days of the show in Top 10 (in this order). <font color='red'>Use **df** loaded in the cell at the begining of this notebook. Don't read the csv file and load the data again.</font>"
   ]
  },
  {
   "cell_type": "code",
   "execution_count": 20,
   "id": "ea5f259a",
   "metadata": {
    "tags": []
   },
   "outputs": [],
   "source": [
    "...\n",
    "### don't remove anything. Just add code to where noted\n",
    "def get_show_in_top10_longest():\n",
    "    ### Your code starts \n",
    "    max_days_index = df['Days In Top 10'].idxmax()\n",
    "    bestShow = df.loc[max_days_index, ['Title', 'Days In Top 10']]\n",
    "    return tuple(bestShow)\n",
    "    ### Your code ends (don't forget to return your result. Don't print it out) \n",
    "# You can uncomment the lines below to check your return values but you should comment out the code before submission\n",
    "# get_show_in_top10_longest()"
   ]
  },
  {
   "cell_type": "code",
   "execution_count": 21,
   "id": "c39e06e8",
   "metadata": {
    "deletable": false,
    "editable": false
   },
   "outputs": [
    {
     "data": {
      "text/html": [
       "<p><strong><pre style='display: inline;'>q1</pre></strong> passed! 🌈</p><p><strong><pre style='display: inline;'>q1 - 1</pre> message:</strong> passed - the type of the return value is correct</p><p><strong><pre style='display: inline;'>q1 - 2</pre> message:</strong> passed - 2 values are returned in a tuple</p><p><strong><pre style='display: inline;'>q1 - 3</pre> message:</strong> passed - The first value in the returned tuple is a string</p><p><strong><pre style='display: inline;'>q1 - 4</pre> message:</strong> passed - The second value in the returned tuple is an integer</p>"
      ],
      "text/plain": [
       "q1 results: All test cases passed!\n",
       "q1 - 1 message: passed - the type of the return value is correct\n",
       "q1 - 2 message: passed - 2 values are returned in a tuple\n",
       "q1 - 3 message: passed - The first value in the returned tuple is a string\n",
       "q1 - 4 message: passed - The second value in the returned tuple is an integer"
      ]
     },
     "execution_count": 21,
     "metadata": {},
     "output_type": "execute_result"
    }
   ],
   "source": [
    "grader.check(\"q1\")"
   ]
  },
  {
   "cell_type": "markdown",
   "id": "124d4f95",
   "metadata": {
    "deletable": false,
    "editable": false
   },
   "source": [
    "### Question 2\n",
    "Get the following statistics of the column 'Viewership Score' and return all of them in a tuple **in the order as listed below**\n",
    "- mean\n",
    "- standard deviation\n",
    "- median\n",
    "- highest\n",
    "- lowest\n",
    "- skew\n",
    "\n",
    "<font color='red'>Use **df** loaded in the cell at the begining of this notebook. Don't read the csv file and load the data again.</font>"
   ]
  },
  {
   "cell_type": "code",
   "execution_count": 16,
   "id": "ec487c87",
   "metadata": {
    "tags": []
   },
   "outputs": [
    {
     "data": {
      "text/plain": [
       "(160.730, 265.884, 58.000, 1437, 1, 2.899)"
      ]
     },
     "execution_count": 16,
     "metadata": {},
     "output_type": "execute_result"
    }
   ],
   "source": [
    "...\n",
    "### don't remove anything. Just add code to where noted\n",
    "def get_stats_viewing_score():\n",
    "    ### Your code starts \n",
    "    mean = df['Viewership Score'].mean()\n",
    "    standard_deviation = df['Viewership Score'].std()\n",
    "    median = df['Viewership Score'].median()\n",
    "    highest = df['Viewership Score'].max()\n",
    "    lowest = df['Viewership Score'].min()\n",
    "    skew = df['Viewership Score'].skew()\n",
    "    return (mean, standard_deviation, median, highest, lowest, skew)\n",
    "   \n",
    "    \n",
    "    ### Your code ends (don't forget to return your result. Don't print it out) \n",
    "# You can uncomment the lines below to check your return values but you should comment out the code before submission\n",
    "get_stats_viewing_score()"
   ]
  },
  {
   "cell_type": "code",
   "execution_count": 22,
   "id": "f7022557",
   "metadata": {
    "deletable": false,
    "editable": false
   },
   "outputs": [
    {
     "data": {
      "text/html": [
       "<p><strong><pre style='display: inline;'>q2</pre></strong> passed! ✨</p><p><strong><pre style='display: inline;'>q2 - 1</pre> message:</strong> passed - the type of the return value is correct</p><p><strong><pre style='display: inline;'>q2 - 2</pre> message:</strong> passed - 6 values are returned in a tuple</p><p><strong><pre style='display: inline;'>q2 - 3</pre> message:</strong> passed - The first value in the returned tuple is an integer</p><p><strong><pre style='display: inline;'>q2 - 4</pre> message:</strong> passed - The last value in the returned tuple is a float</p>"
      ],
      "text/plain": [
       "q2 results: All test cases passed!\n",
       "q2 - 1 message: passed - the type of the return value is correct\n",
       "q2 - 2 message: passed - 6 values are returned in a tuple\n",
       "q2 - 3 message: passed - The first value in the returned tuple is an integer\n",
       "q2 - 4 message: passed - The last value in the returned tuple is a float"
      ]
     },
     "execution_count": 22,
     "metadata": {},
     "output_type": "execute_result"
    }
   ],
   "source": [
    "grader.check(\"q2\")"
   ]
  },
  {
   "cell_type": "markdown",
   "id": "d0dc401d",
   "metadata": {
    "deletable": false,
    "editable": false
   },
   "source": [
    "### Question 3\n",
    "Find the number of shows/titles that show up in top 10 ranking **only once** in 2021 (the time period of the dataset). Return this number. Hint: use value_counts() and work on the returned value of this method\n",
    "\n",
    "<font color='red'>Use **df** loaded in the cell at the begining of this notebook. Don't read the csv file and load the data again.</font>"
   ]
  },
  {
   "cell_type": "code",
   "execution_count": 26,
   "id": "0ff4ec35",
   "metadata": {
    "tags": []
   },
   "outputs": [
    {
     "data": {
      "text/plain": [
       "17"
      ]
     },
     "execution_count": 26,
     "metadata": {},
     "output_type": "execute_result"
    }
   ],
   "source": [
    "...\n",
    "### don't remove anything. Just add code to where noted\n",
    "def get_num_shows_top10_once():\n",
    "    ### Your code starts \n",
    "    title_counts = df['Title'].value_counts()\n",
    "    title_once = title_counts[title_counts == 1].count()\n",
    "    return int(title_once)\n",
    "    \n",
    "    ### Your code ends (don't forget to return your result. Don't print it out) \n",
    "# You can uncomment the lines below to check your return values but you should comment out the code before submission\n",
    "get_num_shows_top10_once()"
   ]
  },
  {
   "cell_type": "code",
   "execution_count": 27,
   "id": "9f0a8a47",
   "metadata": {
    "deletable": false,
    "editable": false
   },
   "outputs": [
    {
     "data": {
      "text/html": [
       "<p><strong><pre style='display: inline;'>q3</pre></strong> passed! 💯</p><p><strong><pre style='display: inline;'>q3 - 1</pre> message:</strong> passed - the type of the return value is correct</p><p><strong><pre style='display: inline;'>q3 - 2</pre> message:</strong> passed - the return value is in the correct range</p>"
      ],
      "text/plain": [
       "q3 results: All test cases passed!\n",
       "q3 - 1 message: passed - the type of the return value is correct\n",
       "q3 - 2 message: passed - the return value is in the correct range"
      ]
     },
     "execution_count": 27,
     "metadata": {},
     "output_type": "execute_result"
    }
   ],
   "source": [
    "grader.check(\"q3\")"
   ]
  },
  {
   "cell_type": "markdown",
   "id": "fa976258",
   "metadata": {
    "deletable": false,
    "editable": false
   },
   "source": [
    "### Question 4\n",
    "Get the title of the show that is ranked number 1 in the top 10 list the highest number of times. Note that the title instead of the number should be returned. Again, value_counts() should be helpful\n",
    "\n",
    "<font color='red'>Use **df** loaded in the cell at the begining of this notebook. Don't read the csv file and load the data again.</font>"
   ]
  },
  {
   "cell_type": "code",
   "execution_count": 31,
   "id": "2c64471f",
   "metadata": {
    "tags": []
   },
   "outputs": [],
   "source": [
    "...\n",
    "### don't remove anything. Just add code to where noted\n",
    "def get_show_most_top1():\n",
    "    ### Your code starts \n",
    "    top1titles = df[df['Rank'] == 1]\n",
    "    top1titles = top1titles['Title'].value_counts()\n",
    "    top1titles = top1titles.idxmax()\n",
    "    return top1titles\n",
    "   \n",
    "    \n",
    "    ### Your code ends (don't forget to return your result. Don't print it out) \n",
    "# You can uncomment the lines below to check your return values but you should comment out the code before submission\n",
    "# get_show_most_top1()"
   ]
  },
  {
   "cell_type": "code",
   "execution_count": 32,
   "id": "1d696529",
   "metadata": {
    "deletable": false,
    "editable": false
   },
   "outputs": [
    {
     "data": {
      "text/html": [
       "<p><strong><pre style='display: inline;'>q4</pre></strong> passed! 🎉</p><p><strong><pre style='display: inline;'>q4 - 1</pre> message:</strong> passed - the type of the return value is correct</p><p><strong><pre style='display: inline;'>q4 - 2</pre> message:</strong> passed - the number of words in the returned string is correct</p>"
      ],
      "text/plain": [
       "q4 results: All test cases passed!\n",
       "q4 - 1 message: passed - the type of the return value is correct\n",
       "q4 - 2 message: passed - the number of words in the returned string is correct"
      ]
     },
     "execution_count": 32,
     "metadata": {},
     "output_type": "execute_result"
    }
   ],
   "source": [
    "grader.check(\"q4\")"
   ]
  },
  {
   "cell_type": "markdown",
   "id": "63bc048c",
   "metadata": {
    "deletable": false,
    "editable": false
   },
   "source": [
    "### Question 5\n",
    "Find all the rows that are \"Netflix Exclusive\" **movies** that have been ranked number 1. Take the result dataframe and only return 3 columns 'Title', 'Days In Top 10', 'Viewership Score' and sorted by 'Viewership Score' in descending order\n",
    "\n",
    "<font color='red'>Use **df** loaded in the cell at the begining of this notebook. Don't read the csv file and load the data again.</font>"
   ]
  },
  {
   "cell_type": "code",
   "execution_count": null,
   "id": "b14d0081",
   "metadata": {},
   "outputs": [],
   "source": []
  },
  {
   "cell_type": "code",
   "execution_count": 33,
   "id": "f13154ce",
   "metadata": {
    "tags": []
   },
   "outputs": [],
   "source": [
    "...\n",
    "### don't remove anything. Just add code to where noted\n",
    "def get_top1_movies_sorted():\n",
    "    ### Your code starts \n",
    "    filtered_df = df[(df['Netflix Exclusive'] == 'Yes') & \n",
    "                     (df['Type'] == 'Movie') & \n",
    "                     (df['Rank'] == 1)]\n",
    "    result_df = filtered_df[['Title', 'Days In Top 10', 'Viewership Score']]\n",
    "    result_df = result_df.sort_values(by='Viewership Score', ascending=False)   \n",
    "    return result_df\n",
    "    \n",
    "    ### Your code ends (don't forget to return your result. Don't print it out) \n",
    "# You can uncomment the lines below to check your return values but you should comment out the code before submission\n",
    "# get_top1_movies_sorted()"
   ]
  },
  {
   "cell_type": "code",
   "execution_count": 34,
   "id": "343e395c",
   "metadata": {
    "deletable": false,
    "editable": false
   },
   "outputs": [
    {
     "data": {
      "text/html": [
       "<p><strong><pre style='display: inline;'>q5</pre></strong> passed! ✨</p><p><strong><pre style='display: inline;'>q5 - 1</pre> message:</strong> passed - the type of the return value is correct</p><p><strong><pre style='display: inline;'>q5 - 2</pre> message:</strong> passed - the number of rows of the returned dataframe is correct</p><p><strong><pre style='display: inline;'>q5 - 3</pre> message:</strong> passed - the number of columns of the returned dataframe is correct</p>"
      ],
      "text/plain": [
       "q5 results: All test cases passed!\n",
       "q5 - 1 message: passed - the type of the return value is correct\n",
       "q5 - 2 message: passed - the number of rows of the returned dataframe is correct\n",
       "q5 - 3 message: passed - the number of columns of the returned dataframe is correct"
      ]
     },
     "execution_count": 34,
     "metadata": {},
     "output_type": "execute_result"
    }
   ],
   "source": [
    "grader.check(\"q5\")"
   ]
  },
  {
   "cell_type": "markdown",
   "id": "3e67cdbe",
   "metadata": {
    "deletable": false,
    "editable": false
   },
   "source": [
    "## Submission\n",
    "\n",
    "Make sure you have run all cells in your notebook in order before running the cell below, so that all images/graphs appear in the output. The cell below will generate a zip file for you to submit. **Please save before exporting!**"
   ]
  },
  {
   "cell_type": "code",
   "execution_count": 35,
   "id": "81c373b0",
   "metadata": {
    "deletable": false,
    "editable": false
   },
   "outputs": [
    {
     "name": "stdout",
     "output_type": "stream",
     "text": [
      "Running your submission against local test cases...\n",
      "\n",
      "\n",
      "Your submission received the following results when run against available test cases:\n",
      "\n",
      "    q1 results: All test cases passed!\n",
      "    q1 - 1 message: passed - the type of the return value is correct\n",
      "    q1 - 2 message: passed - 2 values are returned in a tuple\n",
      "    q1 - 3 message: passed - The first value in the returned tuple is a string\n",
      "    q1 - 4 message: passed - The second value in the returned tuple is an integer\n",
      "\n",
      "    q2 results: All test cases passed!\n",
      "    q2 - 1 message: passed - the type of the return value is correct\n",
      "    q2 - 2 message: passed - 6 values are returned in a tuple\n",
      "    q2 - 3 message: passed - The first value in the returned tuple is an integer\n",
      "    q2 - 4 message: passed - The last value in the returned tuple is a float\n",
      "\n",
      "    q3 results: All test cases passed!\n",
      "    q3 - 1 message: passed - the type of the return value is correct\n",
      "    q3 - 2 message: passed - the return value is in the correct range\n",
      "\n",
      "    q4 results: All test cases passed!\n",
      "    q4 - 1 message: passed - the type of the return value is correct\n",
      "    q4 - 2 message: passed - the number of words in the returned string is correct\n",
      "\n",
      "    q5 results: All test cases passed!\n",
      "    q5 - 1 message: passed - the type of the return value is correct\n",
      "    q5 - 2 message: passed - the number of rows of the returned dataframe is correct\n",
      "    q5 - 3 message: passed - the number of columns of the returned dataframe is correct\n"
     ]
    },
    {
     "data": {
      "text/html": [
       "\n",
       "                    <p>\n",
       "                        Your submission has been exported. Click\n",
       "                        <a href=\"Coding_Exercise_10_2024_11_01T14_14_09_817795.zip\" download=\"Coding_Exercise_10_2024_11_01T14_14_09_817795.zip\" target=\"_blank\">here</a> to download\n",
       "                        the zip file.\n",
       "                    </p>\n",
       "                "
      ],
      "text/plain": [
       "<IPython.core.display.HTML object>"
      ]
     },
     "metadata": {},
     "output_type": "display_data"
    }
   ],
   "source": [
    "# Save your notebook first, then run this cell to export your submission.\n",
    "grader.export(pdf=False, run_tests=True)"
   ]
  },
  {
   "cell_type": "markdown",
   "id": "dba0a980",
   "metadata": {},
   "source": [
    " "
   ]
  }
 ],
 "metadata": {
  "kernelspec": {
   "display_name": "base",
   "language": "python",
   "name": "python3"
  },
  "language_info": {
   "codemirror_mode": {
    "name": "ipython",
    "version": 3
   },
   "file_extension": ".py",
   "mimetype": "text/x-python",
   "name": "python",
   "nbconvert_exporter": "python",
   "pygments_lexer": "ipython3",
   "version": "3.12.2"
  },
  "otter": {
   "OK_FORMAT": true,
   "tests": {
    "q1": {
     "name": "q1",
     "points": 20,
     "suites": [
      {
       "cases": [
        {
         "code": ">>> assert type(get_show_in_top10_longest()) == type(())\n",
         "failure_message": "get_show_in_top10_longest() must return a tuple",
         "hidden": false,
         "locked": false,
         "points": 2.5,
         "success_message": "passed - the type of the return value is correct"
        },
        {
         "code": ">>> assert len(get_show_in_top10_longest()) == 2\n",
         "failure_message": "The returned tuple should contain 2 values",
         "hidden": false,
         "locked": false,
         "points": 2.5,
         "success_message": "passed - 2 values are returned in a tuple"
        },
        {
         "code": ">>> assert isinstance(get_show_in_top10_longest()[0], str)\n",
         "failure_message": "The first value in the returned tuple should be a string",
         "hidden": false,
         "locked": false,
         "points": 2.5,
         "success_message": "passed - The first value in the returned tuple is a string"
        },
        {
         "code": ">>> assert isinstance(get_show_in_top10_longest()[1], np.int64)\n",
         "failure_message": "The second value in the returned tuple should be an integer",
         "hidden": false,
         "locked": false,
         "points": 2.5,
         "success_message": "passed - The second value in the returned tuple is an integer"
        }
       ],
       "scored": true,
       "setup": "",
       "teardown": "",
       "type": "doctest"
      }
     ]
    },
    "q2": {
     "name": "q2",
     "points": 20,
     "suites": [
      {
       "cases": [
        {
         "code": ">>> assert type(get_stats_viewing_score()) == type(())\n",
         "failure_message": "get_stats_viewing_score() must return a tuple",
         "hidden": false,
         "locked": false,
         "points": 2.5,
         "success_message": "passed - the type of the return value is correct"
        },
        {
         "code": ">>> assert len(get_stats_viewing_score()) == 6\n",
         "failure_message": "The returned tuple should contain 6 values",
         "hidden": false,
         "locked": false,
         "points": 2.5,
         "success_message": "passed - 6 values are returned in a tuple"
        },
        {
         "code": ">>> assert isinstance(get_stats_viewing_score()[0], np.float64)\n",
         "failure_message": "The first value in the returned tuple should be an integer",
         "hidden": false,
         "locked": false,
         "points": 2.5,
         "success_message": "passed - The first value in the returned tuple is an integer"
        },
        {
         "code": ">>> assert isinstance(get_stats_viewing_score()[-1], np.float64)\n",
         "failure_message": "The last value in the returned tuple should be a float",
         "hidden": false,
         "locked": false,
         "points": 2.5,
         "success_message": "passed - The last value in the returned tuple is a float"
        }
       ],
       "scored": true,
       "setup": "",
       "teardown": "",
       "type": "doctest"
      }
     ]
    },
    "q3": {
     "name": "q3",
     "points": 20,
     "suites": [
      {
       "cases": [
        {
         "code": ">>> assert isinstance(get_num_shows_top10_once(), int)\n",
         "failure_message": "get_num_shows_top10_once() must return a integer",
         "hidden": false,
         "locked": false,
         "points": 5,
         "success_message": "passed - the type of the return value is correct"
        },
        {
         "code": ">>> assert get_num_shows_top10_once() < 50\n",
         "failure_message": "get_num_shows_top10_once() must return a integer < 50",
         "hidden": false,
         "locked": false,
         "points": 5,
         "success_message": "passed - the return value is in the correct range"
        }
       ],
       "scored": true,
       "setup": "",
       "teardown": "",
       "type": "doctest"
      }
     ]
    },
    "q4": {
     "name": "q4",
     "points": 20,
     "suites": [
      {
       "cases": [
        {
         "code": ">>> assert isinstance(get_show_most_top1(), str)\n",
         "failure_message": "get_num_shows_top10_once() must return a string",
         "hidden": false,
         "locked": false,
         "points": 5,
         "success_message": "passed - the type of the return value is correct"
        },
        {
         "code": ">>> assert len(get_show_most_top1().split()) == 2\n",
         "failure_message": "get_num_shows_top10_once() must return a string with 2 words",
         "hidden": false,
         "locked": false,
         "points": 5,
         "success_message": "passed - the number of words in the returned string is correct"
        }
       ],
       "scored": true,
       "setup": "",
       "teardown": "",
       "type": "doctest"
      }
     ]
    },
    "q5": {
     "name": "q5",
     "points": 20,
     "suites": [
      {
       "cases": [
        {
         "code": ">>> assert isinstance(get_top1_movies_sorted(), pd.DataFrame)\n",
         "failure_message": "get_top1_movies_sorted() must return a Pandas dataframe",
         "hidden": false,
         "locked": false,
         "points": 4,
         "success_message": "passed - the type of the return value is correct"
        },
        {
         "code": ">>> assert get_top1_movies_sorted().shape[0] == 113\n",
         "failure_message": "get_top1_movies_sorted() must return a Pandas dataframe with 113 rows",
         "hidden": false,
         "locked": false,
         "points": 3,
         "success_message": "passed - the number of rows of the returned dataframe is correct"
        },
        {
         "code": ">>> assert get_top1_movies_sorted().shape[1] == 3\n",
         "failure_message": "get_top1_movies_sorted() must return a Pandas dataframe with 3 columns",
         "hidden": false,
         "locked": false,
         "points": 3,
         "success_message": "passed - the number of columns of the returned dataframe is correct"
        }
       ],
       "scored": true,
       "setup": "",
       "teardown": "",
       "type": "doctest"
      }
     ]
    }
   }
  }
 },
 "nbformat": 4,
 "nbformat_minor": 5
}
