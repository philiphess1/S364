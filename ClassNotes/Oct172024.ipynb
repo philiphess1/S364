{
 "cells": [
  {
   "cell_type": "code",
   "execution_count": 1,
   "metadata": {},
   "outputs": [],
   "source": [
    "import numpy as np\n",
    "random_seed = 1729\n",
    "np.random.seed(random_seed)\n",
    "N = 40\n",
    "x = np.random.rand(N)\n",
    "y = np.random.rand(N)"
   ]
  },
  {
   "cell_type": "code",
   "execution_count": 2,
   "metadata": {},
   "outputs": [],
   "source": [
    "points = zip(x,y)\n",
    "cities = list(points)"
   ]
  },
  {
   "cell_type": "code",
   "execution_count": 12,
   "metadata": {},
   "outputs": [],
   "source": [
    "itinerary = list(range(0,N))"
   ]
  },
  {
   "cell_type": "code",
   "execution_count": 11,
   "metadata": {},
   "outputs": [],
   "source": [
    "lines = []"
   ]
  },
  {
   "cell_type": "code",
   "execution_count": 13,
   "metadata": {},
   "outputs": [],
   "source": [
    "for j in range(0,len(itinerary) - 1):\n",
    "    lines.append([cities[itinerary[j]],cities[itinerary[j + 1]]])"
   ]
  },
  {
   "cell_type": "code",
   "execution_count": 14,
   "metadata": {},
   "outputs": [
    {
     "name": "stdout",
     "output_type": "stream",
     "text": [
      "[[(0.21215859519373315, 0.1421890509660515), (0.25901824052776146, 0.4415438502354807)], [(0.25901824052776146, 0.4415438502354807), (0.42352187994602863, 0.6384708617951832)], [(0.42352187994602863, 0.6384708617951832), (0.7196610137879806, 0.4541115917001236)], [(0.7196610137879806, 0.4541115917001236), (0.6922509256107934, 0.9795099465634718)], [(0.6922509256107934, 0.9795099465634718), (0.7281748161649396, 0.497003900057289)], [(0.7281748161649396, 0.497003900057289), (0.2875498733527475, 0.987892114481641)], [(0.2875498733527475, 0.987892114481641), (0.25408333020469553, 0.9438765028592432)], [(0.25408333020469553, 0.9438765028592432), (0.9609289991025697, 0.31254425748246295)], [(0.9609289991025697, 0.31254425748246295), (0.5652066087690863, 0.527268363065508)], [(0.5652066087690863, 0.527268363065508), (0.0669470282293596, 0.743806143933605)], [(0.0669470282293596, 0.743806143933605), (0.7333909009768429, 0.9080655744313583)], [(0.7333909009768429, 0.9080655744313583), (0.5097899289931794, 0.9438536218932465)], [(0.5097899289931794, 0.9438536218932465), (0.2275735994122996, 0.8300476280141759)], [(0.2275735994122996, 0.8300476280141759), (0.34145108286419, 0.2560140784278434)], [(0.34145108286419, 0.2560140784278434), (0.5119931773955035, 0.04764567825851673)], [(0.5119931773955035, 0.04764567825851673), (0.9607228565214858, 0.3459590815475251)], [(0.9607228565214858, 0.3459590815475251), (0.6140544248143194, 0.22568954246099482)], [(0.6140544248143194, 0.22568954246099482), (0.7524005962652125, 0.5691469284846282)], [(0.7524005962652125, 0.5691469284846282), (0.9003957980585882, 0.6872708115099813)], [(0.9003957980585882, 0.6872708115099813), (0.3471312754415167, 0.3122221374834556)], [(0.3471312754415167, 0.3122221374834556), (0.6550253186247254, 0.6860405486796042)], [(0.6550253186247254, 0.6860405486796042), (0.39706771454841694, 0.6586237030125843)], [(0.39706771454841694, 0.6586237030125843), (0.12686022007415232, 0.7679194161737204)], [(0.12686022007415232, 0.7679194161737204), (0.4578220316492094, 0.41653878964485913)], [(0.4578220316492094, 0.41653878964485913), (0.13562144183107572, 0.9665324171417488)], [(0.13562144183107572, 0.9665324171417488), (0.1981645009837686, 0.6316255864165528)], [(0.1981645009837686, 0.6316255864165528), (0.31146770849702, 0.17270521416205642)], [(0.31146770849702, 0.17270521416205642), (0.48521018562429663, 0.5637236284567362)], [(0.48521018562429663, 0.5637236284567362), (0.44675217642800147, 0.7336804262090365)], [(0.44675217642800147, 0.7336804262090365), (0.7332888877374842, 0.8505188962506546)], [(0.7332888877374842, 0.8505188962506546), (0.4580515975172603, 0.9821904302629325)], [(0.4580515975172603, 0.9821904302629325), (0.5032532814320996, 0.408624058159607)], [(0.5032532814320996, 0.408624058159607), (0.048023749212117384, 0.08481148903200542)], [(0.048023749212117384, 0.08481148903200542), (0.5447527699889883, 0.48221361520263173)], [(0.5447527699889883, 0.48221361520263173), (0.8580770876369965, 0.6255466523559297)], [(0.8580770876369965, 0.6255466523559297), (0.44192640794796945, 0.17265087258937772)], [(0.44192640794796945, 0.17265087258937772), (0.595681694551189, 0.13920557618927332)], [(0.595681694551189, 0.13920557618927332), (0.488235675918294, 0.6520122154180897)], [(0.488235675918294, 0.6520122154180897), (0.061422697881866495, 0.5830700825761637)]]\n"
     ]
    }
   ],
   "source": [
    "print(lines)"
   ]
  },
  {
   "cell_type": "code",
   "execution_count": 15,
   "metadata": {},
   "outputs": [],
   "source": [
    "def genlines(cities,itinerary):\n",
    "    lines = []\n",
    "    for j in range(0,len(itinerary) - 1):\n",
    "        lines.append([cities[itinerary[j]],cities[itinerary[j + 1]]])\n",
    "    return(lines)"
   ]
  },
  {
   "cell_type": "code",
   "execution_count": 16,
   "metadata": {},
   "outputs": [],
   "source": [
    "import math\n",
    "def howfar(lines):\n",
    "    distance = 0\n",
    "    for j in range(0,len(lines)):\n",
    "        distance += math.sqrt(abs(lines[j][1][0] - lines[j][0][0])**2 + \\\n",
    "        abs(lines[j][1][1] - lines[j][0][1])**2)\n",
    "    return(distance)"
   ]
  },
  {
   "cell_type": "code",
   "execution_count": 17,
   "metadata": {},
   "outputs": [
    {
     "name": "stdout",
     "output_type": "stream",
     "text": [
      "16.808756356994223\n"
     ]
    }
   ],
   "source": [
    "totaldistance = howfar(genlines(cities,itinerary))\n",
    "print(totaldistance)"
   ]
  },
  {
   "cell_type": "code",
   "execution_count": 18,
   "metadata": {},
   "outputs": [],
   "source": [
    "import matplotlib.collections as mc\n",
    "import matplotlib.pylab as pl\n",
    "def plotitinerary(cities,itin,plottitle,thename):\n",
    "    lc = mc.LineCollection(genlines(cities,itin), linewidths=2)\n",
    "    fig, ax = pl.subplots()\n",
    "    ax.add_collection(lc)\n",
    "    ax.autoscale()\n",
    "    ax.margins(0.1)\n",
    "    pl.scatter(x, y)\n",
    "    pl.title(plottitle)\n",
    "    pl.xlabel('X Coordinate')\n",
    "    pl.ylabel('Y Coordinate')\n",
    "    pl.savefig(str(thename) + '.png')\n",
    "    pl.close()"
   ]
  },
  {
   "cell_type": "code",
   "execution_count": 19,
   "metadata": {},
   "outputs": [],
   "source": [
    "plotitinerary(cities,itinerary,'TSP - Random Itinerary','figure2')"
   ]
  },
  {
   "cell_type": "code",
   "execution_count": 20,
   "metadata": {},
   "outputs": [],
   "source": [
    "point = [0.5,0.5]\n",
    "j = 10\n",
    "distance = math.sqrt((point[0] - cities[j][0])**2 + (point[1] - cities[j][1])**2)"
   ]
  },
  {
   "cell_type": "code",
   "execution_count": 21,
   "metadata": {},
   "outputs": [],
   "source": [
    "def findnearest(cities,idx,nnitinerary):\n",
    "    point = cities[idx]\n",
    "    mindistance = float('inf')\n",
    "    minidx = - 1\n",
    "    for j in range(0,len(cities)):\n",
    "        distance = math.sqrt((point[0] - cities[j][0])**2 + (point[1] - cities[j][1])**2)\n",
    "        if distance < mindistance and distance > 0 and j not in nnitinerary:\n",
    "            mindistance = distance\n",
    "            minidx = j\n",
    "    return(minidx)"
   ]
  },
  {
   "cell_type": "code",
   "execution_count": 22,
   "metadata": {},
   "outputs": [],
   "source": [
    "def donn(cities,N):\n",
    "    nnitinerary = [0]\n",
    "    for j in range(0,N - 1):\n",
    "        next = findnearest(cities,nnitinerary[len(nnitinerary) - 1],nnitinerary)\n",
    "        nnitinerary.append(next)\n",
    "    return(nnitinerary)"
   ]
  },
  {
   "cell_type": "code",
   "execution_count": 23,
   "metadata": {},
   "outputs": [],
   "source": [
    "plotitinerary(cities,donn(cities,N),'TSP - Nearest Neighbor','figure3')"
   ]
  }
 ],
 "metadata": {
  "kernelspec": {
   "display_name": "base",
   "language": "python",
   "name": "python3"
  },
  "language_info": {
   "codemirror_mode": {
    "name": "ipython",
    "version": 3
   },
   "file_extension": ".py",
   "mimetype": "text/x-python",
   "name": "python",
   "nbconvert_exporter": "python",
   "pygments_lexer": "ipython3",
   "version": "3.12.2"
  }
 },
 "nbformat": 4,
 "nbformat_minor": 2
}
