{
 "cells": [
  {
   "cell_type": "code",
   "execution_count": 1,
   "id": "02a4bfc0",
   "metadata": {
    "deletable": false,
    "editable": false
   },
   "outputs": [],
   "source": [
    "# Initialize Otter\n",
    "import otter\n",
    "grader = otter.Notebook(\"Coding_Exercise_9.ipynb\")"
   ]
  },
  {
   "cell_type": "code",
   "execution_count": 2,
   "id": "e05af0ab",
   "metadata": {},
   "outputs": [
    {
     "data": {
      "text/plain": [
       "'%.3f'"
      ]
     },
     "execution_count": 2,
     "metadata": {},
     "output_type": "execute_result"
    }
   ],
   "source": [
    "import numpy as np\n",
    "np.set_printoptions(suppress=True)\n",
    "%precision 3"
   ]
  },
  {
   "cell_type": "markdown",
   "id": "a656f24c",
   "metadata": {},
   "source": [
    "# Week 9 Coding Exercise"
   ]
  },
  {
   "cell_type": "markdown",
   "id": "b9c7b7dc",
   "metadata": {
    "deletable": false,
    "editable": false
   },
   "source": [
    "### Question 1\n",
    "Create a one-dimensional array using linspace(), start with 15 and end with 25. Generate 25 elements. Reshape it into a 5 X 5 array named **arr1**. Take the square of each element in **arr1** and assign the result back to **arr1**. Create another 5 X 5 array using random numbers by sampling from a normal distrubtion with the **mean** and **std** passed in to this function. The random **seed** should also be passed to the function. Use it to seed the random number generation. Name the second array **arr2**. Add **arr1** and **arr2** and <font color=\"red\">RETURN</font> the result."
   ]
  },
  {
   "cell_type": "code",
   "execution_count": 3,
   "id": "536ed00b",
   "metadata": {
    "tags": []
   },
   "outputs": [],
   "source": [
    "...\n",
    "### don't remove anything. Just add code to where noted\n",
    "def get_array(mean, std, seed): \n",
    "    ### Your code starts \n",
    "    arr1 = np.linspace(15, 25, 25).reshape(5, 5)\n",
    "    arr1 = np.square(arr1)\n",
    "    \n",
    "    np.random.seed(seed)\n",
    "    arr2 = np.random.normal(mean, std, (5, 5))\n",
    "    \n",
    "    result = arr1 + arr2\n",
    "    return result\n",
    "   \n",
    "    \n",
    "    ### Your code ends (don't forget to return your calculation. Don't print it out) \n",
    "# You can uncomment the lines below to check your return values but you should comment out the code before submission\n",
    "# get_array(10, 2, 1)"
   ]
  },
  {
   "cell_type": "code",
   "execution_count": 4,
   "id": "b4de4234",
   "metadata": {
    "deletable": false,
    "editable": false
   },
   "outputs": [
    {
     "data": {
      "text/html": [
       "<p><strong><pre style='display: inline;'>q1</pre></strong> passed! ✨</p><p><strong><pre style='display: inline;'>q1 - 1</pre> message:</strong> passed</p><p><strong><pre style='display: inline;'>q1 - 2</pre> message:</strong> passed</p>"
      ],
      "text/plain": [
       "q1 results: All test cases passed!\n",
       "q1 - 1 message: passed\n",
       "q1 - 2 message: passed"
      ]
     },
     "execution_count": 4,
     "metadata": {},
     "output_type": "execute_result"
    }
   ],
   "source": [
    "grader.check(\"q1\")"
   ]
  },
  {
   "cell_type": "markdown",
   "id": "10fa1562",
   "metadata": {
    "deletable": false,
    "editable": false
   },
   "source": [
    "### Question 2\n",
    "Use the seed value passed to the function in the random number generation. Create a 6 X 5 array by getting random integers between 500 and 1000. Get the row means and column means and and <font color=\"red\">RETURN</font> them in that order, meaing that row means should be returned first and then the column means. Note that the means shoudl be 2 1-dimensional arrays. Also remember that multiple return values will be in a tuple."
   ]
  },
  {
   "cell_type": "code",
   "execution_count": 5,
   "id": "ebcc23de",
   "metadata": {
    "tags": []
   },
   "outputs": [],
   "source": [
    "...\n",
    "### don't remove anything. Just add code to where noted\n",
    "def get_means(seed): \n",
    "    ### Your code starts \n",
    "    np.random.seed(seed)\n",
    "    arr = np.random.randint(500, 1000, (6, 5))\n",
    "    \n",
    "    row_means = np.mean(arr, axis=1)\n",
    "    col_means = np.mean(arr, axis=0)\n",
    "    \n",
    "    return row_means, col_means\n",
    "    \n",
    "    ### Your code ends (don't forget to return your calculation. Don't print it out) \n",
    "# You can uncomment the lines below to check your return values but you should comment out the code before submission\n",
    "# get_means(33)"
   ]
  },
  {
   "cell_type": "code",
   "execution_count": 6,
   "id": "e79d5a86",
   "metadata": {
    "deletable": false,
    "editable": false
   },
   "outputs": [
    {
     "data": {
      "text/html": [
       "<p><strong><pre style='display: inline;'>q2</pre></strong> passed! 🎉</p><p><strong><pre style='display: inline;'>q2 - 1</pre> message:</strong> passed</p><p><strong><pre style='display: inline;'>q2 - 2</pre> message:</strong> passed</p>"
      ],
      "text/plain": [
       "q2 results: All test cases passed!\n",
       "q2 - 1 message: passed\n",
       "q2 - 2 message: passed"
      ]
     },
     "execution_count": 6,
     "metadata": {},
     "output_type": "execute_result"
    }
   ],
   "source": [
    "grader.check(\"q2\")"
   ]
  },
  {
   "cell_type": "markdown",
   "id": "2ce59f86",
   "metadata": {
    "deletable": false,
    "editable": false
   },
   "source": [
    "### Question 3\n",
    "Use the seed value passed to the function in the random number generation. Create a 6 X 5 array using random numbers with rand() function. Use Boolean indexing and slicing to get *columns* corresponding to labels 'c', or 'e' in the **label** array and <font color=\"red\">RETURN</font> the array with the 2 columns. "
   ]
  },
  {
   "cell_type": "code",
   "execution_count": 7,
   "id": "4effd449",
   "metadata": {
    "tags": []
   },
   "outputs": [],
   "source": [
    "...\n",
    "### don't remove anything. Just add code to where noted\n",
    "def get_columns(seed):\n",
    "    label = np.array(['a', 'b', 'c', 'd', 'e'])\n",
    "    ### Your code starts \n",
    "    np.random.seed(seed)\n",
    "    arr = np.random.rand(6, 5)\n",
    "\n",
    "    selected_columns = arr[:, (label == 'c') | (label == 'e')]\n",
    "    \n",
    "    return selected_columns\n",
    "   \n",
    "    \n",
    "    ### Your code ends (don't forget to return your calculation. Don't print it out) \n",
    "# You can uncomment the lines below to check your return values but you should comment out the code before submission\n",
    "# get_columns(1)"
   ]
  },
  {
   "cell_type": "code",
   "execution_count": 8,
   "id": "6159bd2d",
   "metadata": {
    "deletable": false,
    "editable": false
   },
   "outputs": [
    {
     "data": {
      "text/html": [
       "<p><strong><pre style='display: inline;'>q3</pre></strong> passed! 🍀</p><p><strong><pre style='display: inline;'>q3 - 1</pre> message:</strong> passed</p>"
      ],
      "text/plain": [
       "q3 results: All test cases passed!\n",
       "q3 - 1 message: passed"
      ]
     },
     "execution_count": 8,
     "metadata": {},
     "output_type": "execute_result"
    }
   ],
   "source": [
    "grader.check(\"q3\")"
   ]
  },
  {
   "cell_type": "markdown",
   "id": "bca94a5f",
   "metadata": {
    "deletable": false,
    "editable": false
   },
   "source": [
    "### Question 4\n",
    "Use the **seed** value passed to the function in the random number generation. create an 6X6 array by using random numbers sampling from a normal distrubtion with the mean 100 and standard deviation 10. The function also has two other parameters: **upper** and **lower**. Assume that upper > lower (you don't have to check it) Replace the values in the array with **upper** if they are greater than it and **lower** if they are smaller than it. Other values should stay the same. <font color=\"red\">RETURN</font> the updated array."
   ]
  },
  {
   "cell_type": "code",
   "execution_count": 9,
   "id": "a4767c5c",
   "metadata": {
    "tags": []
   },
   "outputs": [],
   "source": [
    "...\n",
    "### don't remove anything. Just add code to where noted\n",
    "def cap_off(upper, lower, seed): \n",
    "    ### Your code starts \n",
    "    np.random.seed(seed)\n",
    "    arr = np.random.normal(100, 10, (6, 6))\n",
    "    \n",
    "    arr = np.where(arr > upper, upper, arr)\n",
    "    arr = np.where(arr < lower, lower, arr)\n",
    "    \n",
    "    return arr\n",
    "    \n",
    "    ### Your code ends (don't forget to return your calculation. Don't print it out) \n",
    "# You can uncomment the lines below to check your return values but you should comment out the code before submission\n",
    "# cap_off(115, 85, 1)"
   ]
  },
  {
   "cell_type": "code",
   "execution_count": 10,
   "id": "b891e73e",
   "metadata": {
    "deletable": false,
    "editable": false
   },
   "outputs": [
    {
     "data": {
      "text/html": [
       "<p><strong><pre style='display: inline;'>q4</pre></strong> passed! ✨</p><p><strong><pre style='display: inline;'>q4 - 1</pre> message:</strong> passed</p><p><strong><pre style='display: inline;'>q4 - 2</pre> message:</strong> passed</p>"
      ],
      "text/plain": [
       "q4 results: All test cases passed!\n",
       "q4 - 1 message: passed\n",
       "q4 - 2 message: passed"
      ]
     },
     "execution_count": 10,
     "metadata": {},
     "output_type": "execute_result"
    }
   ],
   "source": [
    "grader.check(\"q4\")"
   ]
  },
  {
   "cell_type": "markdown",
   "id": "c98436bd",
   "metadata": {
    "deletable": false,
    "editable": false
   },
   "source": [
    "## Submission\n",
    "\n",
    "Make sure you have run all cells in your notebook in order before running the cell below, so that all images/graphs appear in the output. The cell below will generate a zip file for you to submit. **Please save before exporting!**"
   ]
  },
  {
   "cell_type": "code",
   "execution_count": 11,
   "id": "61e13da8",
   "metadata": {
    "deletable": false,
    "editable": false
   },
   "outputs": [
    {
     "name": "stdout",
     "output_type": "stream",
     "text": [
      "Running your submission against local test cases...\n",
      "\n",
      "\n",
      "Your submission received the following results when run against available test cases:\n",
      "\n",
      "    q1 results: All test cases passed!\n",
      "    q1 - 1 message: passed\n",
      "    q1 - 2 message: passed\n",
      "\n",
      "    q2 results: All test cases passed!\n",
      "    q2 - 1 message: passed\n",
      "    q2 - 2 message: passed\n",
      "\n",
      "    q3 results: All test cases passed!\n",
      "    q3 - 1 message: passed\n",
      "\n",
      "    q4 results: All test cases passed!\n",
      "    q4 - 1 message: passed\n",
      "    q4 - 2 message: passed\n"
     ]
    },
    {
     "data": {
      "text/html": [
       "\n",
       "                    <p>\n",
       "                        Your submission has been exported. Click\n",
       "                        <a href=\"Coding_Exercise_9_2024_10_23T17_09_23_506393.zip\" download=\"Coding_Exercise_9_2024_10_23T17_09_23_506393.zip\" target=\"_blank\">here</a> to download\n",
       "                        the zip file.\n",
       "                    </p>\n",
       "                "
      ],
      "text/plain": [
       "<IPython.core.display.HTML object>"
      ]
     },
     "metadata": {},
     "output_type": "display_data"
    }
   ],
   "source": [
    "# Save your notebook first, then run this cell to export your submission.\n",
    "grader.export(pdf=False, run_tests=True)"
   ]
  },
  {
   "cell_type": "markdown",
   "id": "cc88c895",
   "metadata": {},
   "source": [
    " "
   ]
  }
 ],
 "metadata": {
  "kernelspec": {
   "display_name": "base",
   "language": "python",
   "name": "python3"
  },
  "language_info": {
   "codemirror_mode": {
    "name": "ipython",
    "version": 3
   },
   "file_extension": ".py",
   "mimetype": "text/x-python",
   "name": "python",
   "nbconvert_exporter": "python",
   "pygments_lexer": "ipython3",
   "version": "3.12.2"
  },
  "otter": {
   "OK_FORMAT": true,
   "tests": {
    "q1": {
     "name": "q1",
     "points": 25,
     "suites": [
      {
       "cases": [
        {
         "code": ">>> assert type(get_array(10, 2, 1)) == np.ndarray\n",
         "failure_message": "get_array() must return a numpy array",
         "hidden": false,
         "locked": false,
         "points": 5,
         "success_message": "passed"
        },
        {
         "code": ">>> assert get_array(10, 2, 1).size == 25\n",
         "failure_message": "get_array() should have 25 values in the returned array.",
         "hidden": false,
         "locked": false,
         "points": 5,
         "success_message": "passed"
        }
       ],
       "scored": true,
       "setup": "",
       "teardown": "",
       "type": "doctest"
      }
     ]
    },
    "q2": {
     "name": "q2",
     "points": 25,
     "suites": [
      {
       "cases": [
        {
         "code": ">>> assert type(get_means(1)) == type(())\n",
         "failure_message": "get_means() must return a tuple",
         "hidden": false,
         "locked": false,
         "points": 5,
         "success_message": "passed"
        },
        {
         "code": ">>> assert get_means(1)[0].shape == (6,)\n",
         "failure_message": "there should be 6 row means",
         "hidden": false,
         "locked": false,
         "points": 5,
         "success_message": "passed"
        }
       ],
       "scored": true,
       "setup": "",
       "teardown": "",
       "type": "doctest"
      }
     ]
    },
    "q3": {
     "name": "q3",
     "points": 25,
     "suites": [
      {
       "cases": [
        {
         "code": ">>> assert get_columns(1).shape == (6, 2)\n",
         "failure_message": "get_columns() should return a 6X2 array",
         "hidden": false,
         "locked": false,
         "points": 10,
         "success_message": "passed"
        }
       ],
       "scored": true,
       "setup": "",
       "teardown": "",
       "type": "doctest"
      }
     ]
    },
    "q4": {
     "name": "q4",
     "points": 25,
     "suites": [
      {
       "cases": [
        {
         "code": ">>> assert cap_off(115, 85, 1).shape == (6, 6)\n",
         "failure_message": "cap_off() returns a 6X6 array",
         "hidden": false,
         "locked": false,
         "points": 5,
         "success_message": "passed"
        },
        {
         "code": ">>> assert np.isclose(cap_off(115, 85, 1)[0, 1:5], np.array([93.882, 94.718, 89.27, 108.654]), 0.001).all()\n",
         "failure_message": "are you using the correct random function to generate the array?",
         "hidden": false,
         "locked": false,
         "points": 5,
         "success_message": "passed"
        }
       ],
       "scored": true,
       "setup": "",
       "teardown": "",
       "type": "doctest"
      }
     ]
    }
   }
  }
 },
 "nbformat": 4,
 "nbformat_minor": 5
}
