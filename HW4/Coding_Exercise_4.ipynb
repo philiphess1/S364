{
 "cells": [
  {
   "cell_type": "code",
   "execution_count": 3,
   "id": "b01882bc",
   "metadata": {
    "deletable": false,
    "editable": false
   },
   "outputs": [],
   "source": [
    "# Initialize Otter\n",
    "import otter\n",
    "grader = otter.Notebook(\"Coding_Exercise_4.ipynb\")"
   ]
  },
  {
   "cell_type": "markdown",
   "id": "a656f24c",
   "metadata": {},
   "source": [
    "# Week 4 Coding Exercise"
   ]
  },
  {
   "cell_type": "markdown",
   "id": "b9c7b7dc",
   "metadata": {
    "deletable": false,
    "editable": false
   },
   "source": [
    "### Question 1\n",
    "Write a function to calculate wage based on pay rate and hours worked:\n",
    "- Unlike previous coding exercise, the function names and parameters have been written for you. For this exercise, you have to create the functions from scratch. Make sure the spelling and case are precise. Otherwise, the grader will not find your function and the tests will fail.\n",
    "- Name the function **calculate_wage**\n",
    "- The function has 2 parameters: **pay_rate** and **hours**\n",
    "- Set the default value of **hours** to be 40\n",
    "- First check that both the **hours** and **pay_rate** are positive. Otherwise, **return -1**. Remember that a function ends its execution when the return statement is executed. In other words, the function ends when negative values are passed in.\n",
    "- If **hours** entered is <u>at or under 40</u>, pay with the **pay_rate**\n",
    "- If **hours** entered is over 40, <u>the part exceeding 40</u> must be paid 1.5 times of the **pay_rate**\n",
    "- The function <font color='red'>MUST RETURN the calculated wage</font>. You will get only half the credit if the wage is not returned even if the calculation is correct\n",
    "- Make sure your code not only pass the public test cases but also has all the functionalities as instructed."
   ]
  },
  {
   "cell_type": "code",
   "execution_count": 4,
   "id": "536ed00b",
   "metadata": {
    "tags": []
   },
   "outputs": [],
   "source": [
    "...\n",
    "### don't remove anything. Just add code to where noted\n",
    "### Your code starts (you need to start with function definition)\n",
    "def calculate_wage(pay_rate, hours=40):\n",
    "    if pay_rate < 0 or hours < 0:\n",
    "        return -1\n",
    "    elif hours <= 40:\n",
    "        return pay_rate * hours\n",
    "    else:\n",
    "        return pay_rate * 40 + (pay_rate * 1.5 * (hours - 40))\n",
    "    \n",
    "    ### Your code ends (don't forget to return your calculation. Don't print it out)\n",
    "# You can call your function below to check your calculation but remove or comment the code before submission"
   ]
  },
  {
   "cell_type": "code",
   "execution_count": 5,
   "id": "1c2bb5fc",
   "metadata": {
    "deletable": false,
    "editable": false
   },
   "outputs": [
    {
     "data": {
      "text/html": [
       "<p><strong><pre style='display: inline;'>q1</pre></strong> passed! 🍀</p><p><strong><pre style='display: inline;'>q1 - 1</pre> message:</strong> passed</p><p><strong><pre style='display: inline;'>q1 - 2</pre> message:</strong> passed</p><p><strong><pre style='display: inline;'>q1 - 3</pre> message:</strong> passed</p><p><strong><pre style='display: inline;'>q1 - 4</pre> message:</strong> passed</p>"
      ],
      "text/plain": [
       "q1 results: All test cases passed!\n",
       "q1 - 1 message: passed\n",
       "q1 - 2 message: passed\n",
       "q1 - 3 message: passed\n",
       "q1 - 4 message: passed"
      ]
     },
     "execution_count": 5,
     "metadata": {},
     "output_type": "execute_result"
    }
   ],
   "source": [
    "grader.check(\"q1\")"
   ]
  },
  {
   "cell_type": "markdown",
   "id": "79475b6a",
   "metadata": {
    "deletable": false,
    "editable": false
   },
   "source": [
    "### Question 2\n",
    "Write a program to open the text file \"mbox_short.txt\" (the file is provided with this coding exercise). If you download it multiple times, your computer will start to append (1), (2) to the file name. You need to make sure that your code read mbox_short.txt, not mbox_short(1).txt, etc. Otherwise, the test cases will fail. Open the file mbox_short.txt in a text editor like notepad to get familiar with the content before coding. In your code, you also need to open a file named 'output.txt' for the purpose of writing to it. An accumulator variable **total_lines** has been initiated for you. It is used to keep count of the number of lines in file mbox_short.txt. In a for loop, take each line in the file mbox_short.txt, increase the **total_lines** by 1. If it is a line with even count number, write it to the file output.txt. Outside the loop, close both files and RETURN **total_lines**. The return code has been written for you already. Just don't remove or change it."
   ]
  },
  {
   "cell_type": "code",
   "execution_count": 6,
   "id": "0181da08",
   "metadata": {
    "tags": []
   },
   "outputs": [],
   "source": [
    "...\n",
    "### don't remove anything. Just add code to where noted\n",
    "def file_read_write():\n",
    "    total_lines = 0\n",
    "    ### Your code starts\n",
    "    with open('mbox_short.txt', 'r') as source_file, open('output.txt', 'w') as dest_file:\n",
    "        for line in source_file:\n",
    "            even_line_bool = total_lines % 2 == 0\n",
    "            if even_line_bool:\n",
    "                dest_file.write(line)\n",
    "            total_lines += 1\n",
    "    ### Your code ends\n",
    "    return total_lines\n",
    "# You can uncomment the lines below to check your return values but you should comment out the code before submission\n",
    "# file_read_write()"
   ]
  },
  {
   "cell_type": "code",
   "execution_count": 7,
   "id": "a4da1091",
   "metadata": {
    "deletable": false,
    "editable": false
   },
   "outputs": [
    {
     "data": {
      "text/html": [
       "<p><strong><pre style='display: inline;'>q2</pre></strong> passed! 🎉</p><p><strong><pre style='display: inline;'>q2 - 1</pre> message:</strong> correct</p><p><strong><pre style='display: inline;'>q2 - 2</pre> message:</strong> correct</p><p><strong><pre style='display: inline;'>q2 - 3</pre> message:</strong> correct</p>"
      ],
      "text/plain": [
       "q2 results: All test cases passed!\n",
       "q2 - 1 message: correct\n",
       "q2 - 2 message: correct\n",
       "q2 - 3 message: correct"
      ]
     },
     "execution_count": 7,
     "metadata": {},
     "output_type": "execute_result"
    }
   ],
   "source": [
    "grader.check(\"q2\")"
   ]
  },
  {
   "cell_type": "markdown",
   "id": "7cd59ec4",
   "metadata": {
    "deletable": false,
    "editable": false
   },
   "source": [
    "## Submission\n",
    "\n",
    "Make sure you have run all cells in your notebook in order before running the cell below, so that all images/graphs appear in the output. The cell below will generate a zip file for you to submit. **Please save before exporting!**\n",
    "\n",
    "Double check that the output.txt file is included in the zip file to be submitted."
   ]
  },
  {
   "cell_type": "code",
   "execution_count": 8,
   "id": "8be302c8",
   "metadata": {
    "deletable": false,
    "editable": false
   },
   "outputs": [
    {
     "name": "stdout",
     "output_type": "stream",
     "text": [
      "Running your submission against local test cases...\n",
      "\n",
      "\n",
      "Your submission received the following results when run against available test cases:\n",
      "\n",
      "    q1 results: All test cases passed!\n",
      "    q1 - 1 message: passed\n",
      "    q1 - 2 message: passed\n",
      "    q1 - 3 message: passed\n",
      "    q1 - 4 message: passed\n",
      "\n",
      "    q2 results: All test cases passed!\n",
      "    q2 - 1 message: correct\n",
      "    q2 - 2 message: correct\n",
      "    q2 - 3 message: correct\n"
     ]
    },
    {
     "data": {
      "text/html": [
       "\n",
       "                    <p>\n",
       "                        Your submission has been exported. Click\n",
       "                        <a href=\"Coding_Exercise_4_2024_09_21T13_38_08_232508.zip\" download=\"Coding_Exercise_4_2024_09_21T13_38_08_232508.zip\" target=\"_blank\">here</a> to download\n",
       "                        the zip file.\n",
       "                    </p>\n",
       "                "
      ],
      "text/plain": [
       "<IPython.core.display.HTML object>"
      ]
     },
     "metadata": {},
     "output_type": "display_data"
    }
   ],
   "source": [
    "# Save your notebook first, then run this cell to export your submission.\n",
    "grader.export(pdf=False, run_tests=True, files=['output.txt'])"
   ]
  },
  {
   "cell_type": "markdown",
   "id": "b20dc7f2",
   "metadata": {},
   "source": [
    " "
   ]
  }
 ],
 "metadata": {
  "kernelspec": {
   "display_name": "Python 3 (ipykernel)",
   "language": "python",
   "name": "python3"
  },
  "language_info": {
   "codemirror_mode": {
    "name": "ipython",
    "version": 3
   },
   "file_extension": ".py",
   "mimetype": "text/x-python",
   "name": "python",
   "nbconvert_exporter": "python",
   "pygments_lexer": "ipython3",
   "version": "3.12.2"
  },
  "otter": {
   "OK_FORMAT": true,
   "tests": {
    "q1": {
     "name": "q1",
     "points": 50,
     "suites": [
      {
       "cases": [
        {
         "code": ">>> assert calculate_wage(20) == 800\n",
         "failure_message": "When pay_rate is 20 and the default hours is used, what should be the wage?",
         "hidden": false,
         "locked": false,
         "points": 5,
         "success_message": "passed"
        },
        {
         "code": ">>> assert calculate_wage(20, -4) == -1\n",
         "failure_message": "If negative arguments are passed in, what should be returned",
         "hidden": false,
         "locked": false,
         "points": 5,
         "success_message": "passed"
        },
        {
         "code": ">>> assert calculate_wage(-10) == -1\n",
         "failure_message": "If negative arguments are passed in, what should be returned",
         "hidden": false,
         "locked": false,
         "points": 5,
         "success_message": "passed"
        },
        {
         "code": ">>> assert calculate_wage(10, 50) == 550\n",
         "failure_message": "If the work hours are higher than 40, you need to pay 1.5 times the pay rate for the extra hours",
         "hidden": false,
         "locked": false,
         "points": 5,
         "success_message": "passed"
        }
       ],
       "scored": true,
       "setup": "",
       "teardown": "",
       "type": "doctest"
      }
     ]
    },
    "q2": {
     "name": "q2",
     "points": 50,
     "suites": [
      {
       "cases": [
        {
         "code": ">>> with open('mbox_short.txt', 'r') as f:\n...     line = f.readline()\n>>> assert len(line) > 0\n",
         "failure_message": "Is your mbox_short.txt file in the same folder? Is the file name correct? Have you closed the file in your code?",
         "hidden": false,
         "locked": false,
         "points": 5,
         "success_message": "correct"
        },
        {
         "code": ">>> count = file_read_write()\n>>> assert count > 0\n",
         "failure_message": "Make sure your function returns a positive integer",
         "hidden": false,
         "locked": false,
         "points": 5,
         "success_message": "correct"
        },
        {
         "code": ">>> import os\n>>> if os.path.exists('output.txt'):\n...     os.remove('output.txt')\n>>> count = file_read_write()\n>>> with open('output.txt', 'r') as f:\n...     lines = f.readlines()\n>>> assert len(lines) > 0\n",
         "failure_message": "Is your output.txt file empty? Is the file name correct? Have you closed the file in your code?",
         "hidden": false,
         "locked": false,
         "points": 5,
         "success_message": "correct"
        }
       ],
       "scored": true,
       "setup": "",
       "teardown": "",
       "type": "doctest"
      }
     ]
    }
   }
  }
 },
 "nbformat": 4,
 "nbformat_minor": 5
}
